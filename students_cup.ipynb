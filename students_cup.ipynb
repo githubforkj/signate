{
  "nbformat": 4,
  "nbformat_minor": 0,
  "metadata": {
    "colab": {
      "name": "students-cup.ipynb",
      "provenance": [],
      "toc_visible": true,
      "authorship_tag": "ABX9TyNJmc+k1GTCVX6WJFy+iu/u",
      "include_colab_link": true
    },
    "kernelspec": {
      "name": "python3",
      "display_name": "Python 3"
    },
    "language_info": {
      "name": "python"
    },
    "accelerator": "GPU",
    "gpuClass": "standard"
  },
  "cells": [
    {
      "cell_type": "markdown",
      "metadata": {
        "id": "view-in-github",
        "colab_type": "text"
      },
      "source": [
        "<a href=\"https://colab.research.google.com/github/githubforkj/signate/blob/main/students_cup.ipynb\" target=\"_parent\"><img src=\"https://colab.research.google.com/assets/colab-badge.svg\" alt=\"Open In Colab\"/></a>"
      ]
    },
    {
      "cell_type": "markdown",
      "source": [
        "# 初期設定"
      ],
      "metadata": {
        "id": "U_DCVnvuUZSU"
      }
    },
    {
      "cell_type": "code",
      "execution_count": null,
      "metadata": {
        "colab": {
          "base_uri": "https://localhost:8080/",
          "height": 694
        },
        "id": "-BGqXM_GR2ZL",
        "outputId": "27ec2492-517c-44a2-d58d-c716a21dd77b"
      },
      "outputs": [
        {
          "output_type": "stream",
          "name": "stdout",
          "text": [
            "Looking in indexes: https://pypi.org/simple, https://us-python.pkg.dev/colab-wheels/public/simple/\n",
            "Collecting signate\n",
            "  Downloading signate-0.9.9-py3-none-any.whl (37 kB)\n",
            "Collecting wget\n",
            "  Downloading wget-3.2.zip (10 kB)\n",
            "Requirement already satisfied: click in /usr/local/lib/python3.7/dist-packages (from signate) (7.1.2)\n",
            "Collecting urllib3>=1.26.7\n",
            "  Downloading urllib3-1.26.11-py2.py3-none-any.whl (139 kB)\n",
            "\u001b[K     |████████████████████████████████| 139 kB 59.0 MB/s \n",
            "\u001b[?25hCollecting six>=1.16\n",
            "  Downloading six-1.16.0-py2.py3-none-any.whl (11 kB)\n",
            "Requirement already satisfied: certifi in /usr/local/lib/python3.7/dist-packages (from signate) (2022.6.15)\n",
            "Requirement already satisfied: python-dateutil in /usr/local/lib/python3.7/dist-packages (from signate) (2.8.2)\n",
            "Requirement already satisfied: tabulate in /usr/local/lib/python3.7/dist-packages (from signate) (0.8.10)\n",
            "Building wheels for collected packages: wget\n",
            "  Building wheel for wget (setup.py) ... \u001b[?25l\u001b[?25hdone\n",
            "  Created wheel for wget: filename=wget-3.2-py3-none-any.whl size=9675 sha256=5f720d79134c3b506e467735aeb2294878357d7b326f4c3cf4e950b27de97c4c\n",
            "  Stored in directory: /root/.cache/pip/wheels/a1/b6/7c/0e63e34eb06634181c63adacca38b79ff8f35c37e3c13e3c02\n",
            "Successfully built wget\n",
            "Installing collected packages: six, wget, urllib3, signate\n",
            "  Attempting uninstall: six\n",
            "    Found existing installation: six 1.15.0\n",
            "    Uninstalling six-1.15.0:\n",
            "      Successfully uninstalled six-1.15.0\n",
            "  Attempting uninstall: urllib3\n",
            "    Found existing installation: urllib3 1.24.3\n",
            "    Uninstalling urllib3-1.24.3:\n",
            "      Successfully uninstalled urllib3-1.24.3\n",
            "\u001b[31mERROR: pip's dependency resolver does not currently take into account all the packages that are installed. This behaviour is the source of the following dependency conflicts.\n",
            "requests 2.23.0 requires urllib3!=1.25.0,!=1.25.1,<1.26,>=1.21.1, but you have urllib3 1.26.11 which is incompatible.\u001b[0m\n",
            "Successfully installed signate-0.9.9 six-1.16.0 urllib3-1.26.11 wget-3.2\n"
          ]
        },
        {
          "output_type": "display_data",
          "data": {
            "application/vnd.colab-display-data+json": {
              "pip_warning": {
                "packages": [
                  "six"
                ]
              }
            }
          },
          "metadata": {}
        },
        {
          "output_type": "stream",
          "name": "stderr",
          "text": [
            "/usr/local/lib/python3.7/dist-packages/requests/__init__.py:91: RequestsDependencyWarning: urllib3 (1.26.11) or chardet (3.0.4) doesn't match a supported version!\n",
            "  RequestsDependencyWarning)\n"
          ]
        },
        {
          "output_type": "stream",
          "name": "stdout",
          "text": [
            "Download 100%.\n"
          ]
        }
      ],
      "source": [
        "# signateとの連携\n",
        "\n",
        "!pip install signate\n",
        "\n",
        "from googleapiclient.discovery import build\n",
        "import io, os\n",
        "from googleapiclient.http import MediaIoBaseDownload\n",
        "from google.colab import auth\n",
        "\n",
        "\n",
        "auth.authenticate_user()\n",
        "\n",
        "drive_service = build('drive', 'v3')\n",
        "results = drive_service.files().list(\n",
        "        q=\"name = 'signate.json'\", fields=\"files(id)\").execute()\n",
        "signate_api_key = results.get('files', [])\n",
        "\n",
        "filename = \"/root/.signate/signate.json\"\n",
        "os.makedirs(os.path.dirname(filename), exist_ok=True)\n",
        "\n",
        "request = drive_service.files().get_media(fileId=signate_api_key[0]['id'])\n",
        "fh = io.FileIO(filename, 'wb')\n",
        "downloader = MediaIoBaseDownload(fh, request)\n",
        "done = False\n",
        "while done is False:\n",
        "    status, done = downloader.next_chunk()\n",
        "    print(\"Download %d%%.\" % int(status.progress() * 100))\n",
        "os.chmod(filename, 600)"
      ]
    },
    {
      "cell_type": "code",
      "source": [
        "# コンペIDを表示させる\n",
        "!signate list"
      ],
      "metadata": {
        "colab": {
          "base_uri": "https://localhost:8080/"
        },
        "id": "5knKK-sDR9Po",
        "outputId": "7e6dc394-a0da-411a-d7be-a50887029cf5"
      },
      "execution_count": null,
      "outputs": [
        {
          "output_type": "stream",
          "name": "stdout",
          "text": [
            "  competitionId  title                                                                             closing     prize        submitters\n",
            "---------------  --------------------------------------------------------------------------------  ----------  ---------  ------------\n",
            "              1  【練習問題】銀行の顧客ターゲティング                                              -                              5859\n",
            "             24  【練習問題】お弁当の需要予測                                                      -                              7289\n",
            "             27  【練習問題】Jリーグの観客動員数予測                                               -                              1762\n",
            "            100  【練習問題】手書き文字認識                                                        -           Knowledge           226\n",
            "            102  【練習問題】タイタニックの生存予測                                                -           Knowledge          1671\n",
            "            103  【練習問題】音楽ラベリング                                                        -           Knowledge            97\n",
            "            104  【練習問題】スパムメール分類                                                      -           Knowledge           159\n",
            "            105  【練習問題】毒キノコの分類                                                        -           Knowledge           301\n",
            "            106  【練習問題】アワビの年齢予測                                                      -           Knowledge           398\n",
            "            107  【練習問題】国勢調査からの収入予測                                                -           Knowledge           588\n",
            "            108  【練習問題】画像ラベリング（20種類）                                              -           Knowledge           276\n",
            "            112  【練習問題】ワインの品種の予測                                                    -           Knowledge           349\n",
            "            113  【練習問題】山火事の消失面積予測                                                  -           Knowledge           241\n",
            "            114  【練習問題】レンタル自転車の利用者数予測                                          -           Knowledge           502\n",
            "            115  【練習問題】アヤメの分類                                                          -           Knowledge           427\n",
            "            116  【練習問題】活動センサーログからの動作予測                                        -           Knowledge            65\n",
            "            118  【練習問題】テニスの試合結果の予測                                                -           Knowledge           168\n",
            "            121  【練習問題】自動車の走行距離予測                                                  -           Knowledge          1639\n",
            "            122  【練習問題】自動車の評価                                                          -           Knowledge           345\n",
            "            123  【練習問題】オゾンレベルの分類                                                    -           Knowledge            74\n",
            "            124  【練習問題】ボットの判別                                                          -           Knowledge           335\n",
            "            125  【練習問題】ガラスの分類                                                          -           Knowledge           221\n",
            "            126  【練習問題】林型の分類                                                            -           Knowledge            56\n",
            "            127  【練習問題】ゲーム選手のリーグ分類                                                -           Knowledge            80\n",
            "            128  【練習問題】ステンレス板の欠陥分類                                                -           Knowledge           111\n",
            "            129  【練習問題】都市サイクルの燃料消費量予測                                          -           Knowledge           208\n",
            "            130  【練習問題】天秤のバランス分類                                                    -           Knowledge           177\n",
            "            132  【練習問題】ネット広告のクリック予測                                              -           Knowledge           159\n",
            "            133  【練習問題】画像ラベリング（10種類）                                              -                               368\n",
            "            135  【練習問題】ネット画像の分類                                                      -                                80\n",
            "            262  国立国会図書館の画像データレイアウト認識                                          2100-12-31  -                    97\n",
            "            263  産業技術総合研究所 衛星画像分析コンテスト                                         2100-12-31  -                    57\n",
            "            264  マイナビ × SIGNATE Student Cup 2019: 賃貸物件の家賃予測                           2100-12-31  -                   442\n",
            "            265  【練習問題】健診データによる肝疾患判定                                            -                               605\n",
            "            266  【練習問題】民泊サービスの宿泊価格予測                                            -                               650\n",
            "            267  海洋研究開発機構 熱帯低気圧（台風等）検出アルゴリズム作成                         2100-12-31  -                    27\n",
            "            268  オプト レコメンドエンジン作成                                                     2100-12-31                       51\n",
            "            269  アップル 引越し需要予測                                                           2100-12-31  -                   434\n",
            "            270  Weather Challenge：雲画像予測                                                     2100-12-31  -                    11\n",
            "            271  JR西日本 走行中の北陸新幹線車両台車部の着雪量予測                                 2100-12-31  -                    27\n",
            "            288  Sansan 名刺の項目予測                                                             2100-12-31  -                    41\n",
            "            294  【練習問題】債務不履行リスクの低減                                                -                               249\n",
            "            358  【練習問題】機械稼働音の異常検知                                                  -                                87\n",
            "            404  【練習問題】モノクロ顔画像の感情分類                                              -                               110\n",
            "            406  【練習問題】鋳造製品の欠陥検出                                                    -                               247\n",
            "            409  【練習問題】株価の推移予測                                                        -                               222\n",
            "            565  SIGNATE Student Cup 2021春：楽曲のジャンル推定チャレンジ！！                      2100-12-31  -                   115\n",
            "            567  SIGNATE Student Cup 2021秋：オペレーション最適化に向けたシェアサイクルの利用予測  2100-12-31  -                    83\n",
            "            595  医学論文の自動仕分けチャレンジ                                                    2100-12-31                       29\n",
            "            657  SUBARU 画像認識チャレンジ                                                         2100-12-31                        5\n",
            "            735  SIGNATE Student Cup 2022【予測部門】                                              2022-08-25                      171\n",
            "            741  【第25回_Beginner限定コンペ】銀行の顧客ターゲティング                             2022-08-31                       96\n"
          ]
        }
      ]
    },
    {
      "cell_type": "code",
      "source": [
        "# コンペのデータをダウンロード\n",
        "!signate download --competition-id={735}\n",
        "\n",
        "# sms認証が完了しないと出来ない。sms認証が届かないので、待つ"
      ],
      "metadata": {
        "colab": {
          "base_uri": "https://localhost:8080/"
        },
        "id": "DUdgTNvdSAld",
        "outputId": "8c8b0627-a911-445a-969e-5cad3737c903"
      },
      "execution_count": null,
      "outputs": [
        {
          "output_type": "stream",
          "name": "stdout",
          "text": [
            "submit_sample.csv\n",
            "\n",
            "Questionnaire.pdf\n",
            "\n",
            "train.csv\n",
            "\n",
            "test.csv\n",
            "\n",
            "\u001b[32m\n",
            "Download completed.\u001b[0m\n"
          ]
        }
      ]
    },
    {
      "cell_type": "code",
      "source": [
        "# ドライブのマウント\n",
        "from google.colab import drive\n",
        "drive.mount('/content/drive')"
      ],
      "metadata": {
        "colab": {
          "base_uri": "https://localhost:8080/"
        },
        "id": "d5cUAJR9SUkQ",
        "outputId": "d3bd17ff-2dcc-478c-818a-5d2f5ecdffd9"
      },
      "execution_count": null,
      "outputs": [
        {
          "output_type": "stream",
          "name": "stdout",
          "text": [
            "Mounted at /content/drive\n"
          ]
        }
      ]
    },
    {
      "cell_type": "markdown",
      "source": [
        "# 実装"
      ],
      "metadata": {
        "id": "7k_INd6PUVnP"
      }
    },
    {
      "cell_type": "markdown",
      "source": [
        "### チュートリアル"
      ],
      "metadata": {
        "id": "7GyrMWjKAvRK"
      }
    },
    {
      "cell_type": "code",
      "source": [
        "import pandas as pd\n",
        "import matplotlib.pyplot as plt\n",
        "import seaborn as sns"
      ],
      "metadata": {
        "id": "rVEuoeFPUPMS"
      },
      "execution_count": null,
      "outputs": []
    },
    {
      "cell_type": "code",
      "source": [
        "#学習用データと評価用データの読み込み\n",
        "train = pd.read_csv(\"./train.csv\")\n",
        "test = pd.read_csv(\"./test.csv\")"
      ],
      "metadata": {
        "id": "FdLlNJ7wA28b"
      },
      "execution_count": null,
      "outputs": []
    },
    {
      "cell_type": "code",
      "source": [
        "#データのサイズ確認\n",
        "print(train.shape)\n",
        "print(test.shape)"
      ],
      "metadata": {
        "colab": {
          "base_uri": "https://localhost:8080/"
        },
        "id": "jJs_0LdoA6PC",
        "outputId": "1ed70132-7c46-4b5e-9bea-b35474a78d77"
      },
      "execution_count": null,
      "outputs": [
        {
          "output_type": "stream",
          "name": "stdout",
          "text": [
            "(1516, 3)\n",
            "(1517, 2)\n"
          ]
        }
      ]
    },
    {
      "cell_type": "code",
      "source": [
        "#学習用データの中身を確認\n",
        "train.head()"
      ],
      "metadata": {
        "colab": {
          "base_uri": "https://localhost:8080/",
          "height": 206
        },
        "id": "wmgs4jUUA8TW",
        "outputId": "a0739959-fbbd-498f-b993-cda876034e4f"
      },
      "execution_count": null,
      "outputs": [
        {
          "output_type": "execute_result",
          "data": {
            "text/plain": [
              "   id                                        description  jobflag\n",
              "0   0  <li>Develop cutting-edge web applications that...        3\n",
              "1   1  <li> Designs and develops high quality, scalab...        3\n",
              "2   2  <li>Functions as a point person for Network St...        4\n",
              "3   3  <li> Work on the technical design, development...        3\n",
              "4   4  <li>Quantify the resources required for a task...        4"
            ],
            "text/html": [
              "\n",
              "  <div id=\"df-251e0a0c-8057-41f8-ad6f-7a7544e7ad9d\">\n",
              "    <div class=\"colab-df-container\">\n",
              "      <div>\n",
              "<style scoped>\n",
              "    .dataframe tbody tr th:only-of-type {\n",
              "        vertical-align: middle;\n",
              "    }\n",
              "\n",
              "    .dataframe tbody tr th {\n",
              "        vertical-align: top;\n",
              "    }\n",
              "\n",
              "    .dataframe thead th {\n",
              "        text-align: right;\n",
              "    }\n",
              "</style>\n",
              "<table border=\"1\" class=\"dataframe\">\n",
              "  <thead>\n",
              "    <tr style=\"text-align: right;\">\n",
              "      <th></th>\n",
              "      <th>id</th>\n",
              "      <th>description</th>\n",
              "      <th>jobflag</th>\n",
              "    </tr>\n",
              "  </thead>\n",
              "  <tbody>\n",
              "    <tr>\n",
              "      <th>0</th>\n",
              "      <td>0</td>\n",
              "      <td>&lt;li&gt;Develop cutting-edge web applications that...</td>\n",
              "      <td>3</td>\n",
              "    </tr>\n",
              "    <tr>\n",
              "      <th>1</th>\n",
              "      <td>1</td>\n",
              "      <td>&lt;li&gt; Designs and develops high quality, scalab...</td>\n",
              "      <td>3</td>\n",
              "    </tr>\n",
              "    <tr>\n",
              "      <th>2</th>\n",
              "      <td>2</td>\n",
              "      <td>&lt;li&gt;Functions as a point person for Network St...</td>\n",
              "      <td>4</td>\n",
              "    </tr>\n",
              "    <tr>\n",
              "      <th>3</th>\n",
              "      <td>3</td>\n",
              "      <td>&lt;li&gt; Work on the technical design, development...</td>\n",
              "      <td>3</td>\n",
              "    </tr>\n",
              "    <tr>\n",
              "      <th>4</th>\n",
              "      <td>4</td>\n",
              "      <td>&lt;li&gt;Quantify the resources required for a task...</td>\n",
              "      <td>4</td>\n",
              "    </tr>\n",
              "  </tbody>\n",
              "</table>\n",
              "</div>\n",
              "      <button class=\"colab-df-convert\" onclick=\"convertToInteractive('df-251e0a0c-8057-41f8-ad6f-7a7544e7ad9d')\"\n",
              "              title=\"Convert this dataframe to an interactive table.\"\n",
              "              style=\"display:none;\">\n",
              "        \n",
              "  <svg xmlns=\"http://www.w3.org/2000/svg\" height=\"24px\"viewBox=\"0 0 24 24\"\n",
              "       width=\"24px\">\n",
              "    <path d=\"M0 0h24v24H0V0z\" fill=\"none\"/>\n",
              "    <path d=\"M18.56 5.44l.94 2.06.94-2.06 2.06-.94-2.06-.94-.94-2.06-.94 2.06-2.06.94zm-11 1L8.5 8.5l.94-2.06 2.06-.94-2.06-.94L8.5 2.5l-.94 2.06-2.06.94zm10 10l.94 2.06.94-2.06 2.06-.94-2.06-.94-.94-2.06-.94 2.06-2.06.94z\"/><path d=\"M17.41 7.96l-1.37-1.37c-.4-.4-.92-.59-1.43-.59-.52 0-1.04.2-1.43.59L10.3 9.45l-7.72 7.72c-.78.78-.78 2.05 0 2.83L4 21.41c.39.39.9.59 1.41.59.51 0 1.02-.2 1.41-.59l7.78-7.78 2.81-2.81c.8-.78.8-2.07 0-2.86zM5.41 20L4 18.59l7.72-7.72 1.47 1.35L5.41 20z\"/>\n",
              "  </svg>\n",
              "      </button>\n",
              "      \n",
              "  <style>\n",
              "    .colab-df-container {\n",
              "      display:flex;\n",
              "      flex-wrap:wrap;\n",
              "      gap: 12px;\n",
              "    }\n",
              "\n",
              "    .colab-df-convert {\n",
              "      background-color: #E8F0FE;\n",
              "      border: none;\n",
              "      border-radius: 50%;\n",
              "      cursor: pointer;\n",
              "      display: none;\n",
              "      fill: #1967D2;\n",
              "      height: 32px;\n",
              "      padding: 0 0 0 0;\n",
              "      width: 32px;\n",
              "    }\n",
              "\n",
              "    .colab-df-convert:hover {\n",
              "      background-color: #E2EBFA;\n",
              "      box-shadow: 0px 1px 2px rgba(60, 64, 67, 0.3), 0px 1px 3px 1px rgba(60, 64, 67, 0.15);\n",
              "      fill: #174EA6;\n",
              "    }\n",
              "\n",
              "    [theme=dark] .colab-df-convert {\n",
              "      background-color: #3B4455;\n",
              "      fill: #D2E3FC;\n",
              "    }\n",
              "\n",
              "    [theme=dark] .colab-df-convert:hover {\n",
              "      background-color: #434B5C;\n",
              "      box-shadow: 0px 1px 3px 1px rgba(0, 0, 0, 0.15);\n",
              "      filter: drop-shadow(0px 1px 2px rgba(0, 0, 0, 0.3));\n",
              "      fill: #FFFFFF;\n",
              "    }\n",
              "  </style>\n",
              "\n",
              "      <script>\n",
              "        const buttonEl =\n",
              "          document.querySelector('#df-251e0a0c-8057-41f8-ad6f-7a7544e7ad9d button.colab-df-convert');\n",
              "        buttonEl.style.display =\n",
              "          google.colab.kernel.accessAllowed ? 'block' : 'none';\n",
              "\n",
              "        async function convertToInteractive(key) {\n",
              "          const element = document.querySelector('#df-251e0a0c-8057-41f8-ad6f-7a7544e7ad9d');\n",
              "          const dataTable =\n",
              "            await google.colab.kernel.invokeFunction('convertToInteractive',\n",
              "                                                     [key], {});\n",
              "          if (!dataTable) return;\n",
              "\n",
              "          const docLinkHtml = 'Like what you see? Visit the ' +\n",
              "            '<a target=\"_blank\" href=https://colab.research.google.com/notebooks/data_table.ipynb>data table notebook</a>'\n",
              "            + ' to learn more about interactive tables.';\n",
              "          element.innerHTML = '';\n",
              "          dataTable['output_type'] = 'display_data';\n",
              "          await google.colab.output.renderOutput(dataTable, element);\n",
              "          const docLink = document.createElement('div');\n",
              "          docLink.innerHTML = docLinkHtml;\n",
              "          element.appendChild(docLink);\n",
              "        }\n",
              "      </script>\n",
              "    </div>\n",
              "  </div>\n",
              "  "
            ]
          },
          "metadata": {},
          "execution_count": 8
        }
      ]
    },
    {
      "cell_type": "code",
      "source": [
        "#評価用データの中身を確認\n",
        "test.head()"
      ],
      "metadata": {
        "colab": {
          "base_uri": "https://localhost:8080/",
          "height": 206
        },
        "id": "-knUInjHA_-k",
        "outputId": "2a330b27-7929-4765-d8c9-2a0c514f3114"
      },
      "execution_count": null,
      "outputs": [
        {
          "output_type": "execute_result",
          "data": {
            "text/plain": [
              "     id                                        description\n",
              "0  1516  <li>Building decision-making models and propos...\n",
              "1  1517  <li>Educate homeowners on the benefits of sola...\n",
              "2  1518  <li><span>Design, develop, document, and imple...\n",
              "3  1519  <li>Apply advanced technical expertise and ski...\n",
              "4  1520  <li>Project manage and deliver against our roa..."
            ],
            "text/html": [
              "\n",
              "  <div id=\"df-d3151fd8-8b8c-43ce-b323-08bd5e7d4479\">\n",
              "    <div class=\"colab-df-container\">\n",
              "      <div>\n",
              "<style scoped>\n",
              "    .dataframe tbody tr th:only-of-type {\n",
              "        vertical-align: middle;\n",
              "    }\n",
              "\n",
              "    .dataframe tbody tr th {\n",
              "        vertical-align: top;\n",
              "    }\n",
              "\n",
              "    .dataframe thead th {\n",
              "        text-align: right;\n",
              "    }\n",
              "</style>\n",
              "<table border=\"1\" class=\"dataframe\">\n",
              "  <thead>\n",
              "    <tr style=\"text-align: right;\">\n",
              "      <th></th>\n",
              "      <th>id</th>\n",
              "      <th>description</th>\n",
              "    </tr>\n",
              "  </thead>\n",
              "  <tbody>\n",
              "    <tr>\n",
              "      <th>0</th>\n",
              "      <td>1516</td>\n",
              "      <td>&lt;li&gt;Building decision-making models and propos...</td>\n",
              "    </tr>\n",
              "    <tr>\n",
              "      <th>1</th>\n",
              "      <td>1517</td>\n",
              "      <td>&lt;li&gt;Educate homeowners on the benefits of sola...</td>\n",
              "    </tr>\n",
              "    <tr>\n",
              "      <th>2</th>\n",
              "      <td>1518</td>\n",
              "      <td>&lt;li&gt;&lt;span&gt;Design, develop, document, and imple...</td>\n",
              "    </tr>\n",
              "    <tr>\n",
              "      <th>3</th>\n",
              "      <td>1519</td>\n",
              "      <td>&lt;li&gt;Apply advanced technical expertise and ski...</td>\n",
              "    </tr>\n",
              "    <tr>\n",
              "      <th>4</th>\n",
              "      <td>1520</td>\n",
              "      <td>&lt;li&gt;Project manage and deliver against our roa...</td>\n",
              "    </tr>\n",
              "  </tbody>\n",
              "</table>\n",
              "</div>\n",
              "      <button class=\"colab-df-convert\" onclick=\"convertToInteractive('df-d3151fd8-8b8c-43ce-b323-08bd5e7d4479')\"\n",
              "              title=\"Convert this dataframe to an interactive table.\"\n",
              "              style=\"display:none;\">\n",
              "        \n",
              "  <svg xmlns=\"http://www.w3.org/2000/svg\" height=\"24px\"viewBox=\"0 0 24 24\"\n",
              "       width=\"24px\">\n",
              "    <path d=\"M0 0h24v24H0V0z\" fill=\"none\"/>\n",
              "    <path d=\"M18.56 5.44l.94 2.06.94-2.06 2.06-.94-2.06-.94-.94-2.06-.94 2.06-2.06.94zm-11 1L8.5 8.5l.94-2.06 2.06-.94-2.06-.94L8.5 2.5l-.94 2.06-2.06.94zm10 10l.94 2.06.94-2.06 2.06-.94-2.06-.94-.94-2.06-.94 2.06-2.06.94z\"/><path d=\"M17.41 7.96l-1.37-1.37c-.4-.4-.92-.59-1.43-.59-.52 0-1.04.2-1.43.59L10.3 9.45l-7.72 7.72c-.78.78-.78 2.05 0 2.83L4 21.41c.39.39.9.59 1.41.59.51 0 1.02-.2 1.41-.59l7.78-7.78 2.81-2.81c.8-.78.8-2.07 0-2.86zM5.41 20L4 18.59l7.72-7.72 1.47 1.35L5.41 20z\"/>\n",
              "  </svg>\n",
              "      </button>\n",
              "      \n",
              "  <style>\n",
              "    .colab-df-container {\n",
              "      display:flex;\n",
              "      flex-wrap:wrap;\n",
              "      gap: 12px;\n",
              "    }\n",
              "\n",
              "    .colab-df-convert {\n",
              "      background-color: #E8F0FE;\n",
              "      border: none;\n",
              "      border-radius: 50%;\n",
              "      cursor: pointer;\n",
              "      display: none;\n",
              "      fill: #1967D2;\n",
              "      height: 32px;\n",
              "      padding: 0 0 0 0;\n",
              "      width: 32px;\n",
              "    }\n",
              "\n",
              "    .colab-df-convert:hover {\n",
              "      background-color: #E2EBFA;\n",
              "      box-shadow: 0px 1px 2px rgba(60, 64, 67, 0.3), 0px 1px 3px 1px rgba(60, 64, 67, 0.15);\n",
              "      fill: #174EA6;\n",
              "    }\n",
              "\n",
              "    [theme=dark] .colab-df-convert {\n",
              "      background-color: #3B4455;\n",
              "      fill: #D2E3FC;\n",
              "    }\n",
              "\n",
              "    [theme=dark] .colab-df-convert:hover {\n",
              "      background-color: #434B5C;\n",
              "      box-shadow: 0px 1px 3px 1px rgba(0, 0, 0, 0.15);\n",
              "      filter: drop-shadow(0px 1px 2px rgba(0, 0, 0, 0.3));\n",
              "      fill: #FFFFFF;\n",
              "    }\n",
              "  </style>\n",
              "\n",
              "      <script>\n",
              "        const buttonEl =\n",
              "          document.querySelector('#df-d3151fd8-8b8c-43ce-b323-08bd5e7d4479 button.colab-df-convert');\n",
              "        buttonEl.style.display =\n",
              "          google.colab.kernel.accessAllowed ? 'block' : 'none';\n",
              "\n",
              "        async function convertToInteractive(key) {\n",
              "          const element = document.querySelector('#df-d3151fd8-8b8c-43ce-b323-08bd5e7d4479');\n",
              "          const dataTable =\n",
              "            await google.colab.kernel.invokeFunction('convertToInteractive',\n",
              "                                                     [key], {});\n",
              "          if (!dataTable) return;\n",
              "\n",
              "          const docLinkHtml = 'Like what you see? Visit the ' +\n",
              "            '<a target=\"_blank\" href=https://colab.research.google.com/notebooks/data_table.ipynb>data table notebook</a>'\n",
              "            + ' to learn more about interactive tables.';\n",
              "          element.innerHTML = '';\n",
              "          dataTable['output_type'] = 'display_data';\n",
              "          await google.colab.output.renderOutput(dataTable, element);\n",
              "          const docLink = document.createElement('div');\n",
              "          docLink.innerHTML = docLinkHtml;\n",
              "          element.appendChild(docLink);\n",
              "        }\n",
              "      </script>\n",
              "    </div>\n",
              "  </div>\n",
              "  "
            ]
          },
          "metadata": {},
          "execution_count": 9
        }
      ]
    },
    {
      "cell_type": "code",
      "source": [
        "#学習用データに含まれるjobflagをカウント（＋可視化）\n",
        "print(train['jobflag'].value_counts())\n",
        "train['jobflag'].value_counts().plot(kind = 'bar')"
      ],
      "metadata": {
        "colab": {
          "base_uri": "https://localhost:8080/",
          "height": 366
        },
        "id": "R8NvfuwYBDQ-",
        "outputId": "f12f2f94-2172-4040-9fac-8559149dea99"
      },
      "execution_count": null,
      "outputs": [
        {
          "output_type": "stream",
          "name": "stdout",
          "text": [
            "4    505\n",
            "1    468\n",
            "3    455\n",
            "2     88\n",
            "Name: jobflag, dtype: int64\n"
          ]
        },
        {
          "output_type": "execute_result",
          "data": {
            "text/plain": [
              "<matplotlib.axes._subplots.AxesSubplot at 0x7f84d8944b10>"
            ]
          },
          "metadata": {},
          "execution_count": 10
        },
        {
          "output_type": "display_data",
          "data": {
            "text/plain": [
              "<Figure size 432x288 with 1 Axes>"
            ],
            "image/png": "[encoded data removed]"
          },
          "metadata": {
            "needs_background": "light"
          }
        }
      ]
    },
    {
      "cell_type": "code",
      "source": [
        "#学習用データ, 評価用データのdescriptionに含まれる文字数を確認\n",
        "train_length = train['description'].str.len()\n",
        "test_length = test['description'].str.len()"
      ],
      "metadata": {
        "id": "2vXX2LoABKtL"
      },
      "execution_count": null,
      "outputs": []
    },
    {
      "cell_type": "code",
      "source": [
        "#可視化\n",
        "fig = plt.figure()\n",
        "ax = fig.add_subplot(1, 1, 1)\n",
        "ax.violinplot([train_length, test_length])\n",
        "ax.set_xticks([1, 2])\n",
        "ax.set_xticklabels(['train', 'test'])\n",
        "ax.set_ylabel('word count')\n",
        "plt.show()"
      ],
      "metadata": {
        "colab": {
          "base_uri": "https://localhost:8080/",
          "height": 354
        },
        "id": "ESjdQAUEBSIF",
        "outputId": "40776d77-5a63-4863-bf5b-2228bb5339ac"
      },
      "execution_count": null,
      "outputs": [
        {
          "output_type": "stream",
          "name": "stderr",
          "text": [
            "/usr/local/lib/python3.7/dist-packages/matplotlib/cbook/__init__.py:1376: VisibleDeprecationWarning: Creating an ndarray from ragged nested sequences (which is a list-or-tuple of lists-or-tuples-or ndarrays with different lengths or shapes) is deprecated. If you meant to do this, you must specify 'dtype=object' when creating the ndarray.\n",
            "  X = np.atleast_1d(X.T if isinstance(X, np.ndarray) else np.asarray(X))\n",
            "/usr/local/lib/python3.7/dist-packages/numpy/core/fromnumeric.py:1970: VisibleDeprecationWarning: Creating an ndarray from ragged nested sequences (which is a list-or-tuple of lists-or-tuples-or ndarrays with different lengths or shapes) is deprecated. If you meant to do this, you must specify 'dtype=object' when creating the ndarray.\n",
            "  result = asarray(a).shape\n"
          ]
        },
        {
          "output_type": "display_data",
          "data": {
            "text/plain": [
              "<Figure size 432x288 with 1 Axes>"
            ],
            "image/png": "[encoded data removed]"
          },
          "metadata": {
            "needs_background": "light"
          }
        }
      ]
    },
    {
      "cell_type": "code",
      "source": [
        "#学習用データの職業ラベル(jobflag)ごとの文字数を確認\n",
        "fig = plt.figure(figsize = (15, 4))\n",
        "for flag in [1, 2, 3, 4]:\n",
        "    train_length_flag = train[train['jobflag'] == flag]['description'].str.len()\n",
        "    ax = fig.add_subplot(1, 4, flag)\n",
        "    ax.violinplot(train_length_flag)\n",
        "    ax.set_xticks([1])\n",
        "    ax.set_xticklabels([flag])\n",
        "    ax.set_ylabel('word count')\n",
        "plt.tight_layout()\n",
        "plt.show()"
      ],
      "metadata": {
        "colab": {
          "base_uri": "https://localhost:8080/",
          "height": 297
        },
        "id": "hzVRG9P7BVcG",
        "outputId": "a6bcad80-4900-421e-fd47-36d10d08bfa6"
      },
      "execution_count": null,
      "outputs": [
        {
          "output_type": "display_data",
          "data": {
            "text/plain": [
              "<Figure size 1080x288 with 4 Axes>"
            ],
            "image/png": "[encoded data removed]"
          },
          "metadata": {
            "needs_background": "light"
          }
        }
      ]
    },
    {
      "cell_type": "code",
      "source": [
        "#学習用データと評価用データを結合する (両データに対し一括で前処理を行うため)\n",
        "combined = train.append(test, ignore_index=True)"
      ],
      "metadata": {
        "id": "6VYt1uh1BbBL"
      },
      "execution_count": null,
      "outputs": []
    },
    {
      "cell_type": "code",
      "source": [
        "#以下の手順でdescriptionデータのクリーニングを行う.\n",
        "# <li>などのhtmlタグを削除する\n",
        "# アルファベット以外の文字をスペースに置き換える\n",
        "# 単語長が3文字以下のものは削除する\n",
        "# ステミング（単語の語幹を取り出す作業のこと. 派生語を同じ単語として扱えるようにする）\n",
        "\n",
        "import re\n",
        "from nltk.stem.porter import PorterStemmer\n",
        "stemmer = PorterStemmer()\n",
        "\n",
        "def cleaning(texts):\n",
        "    clean_texts = []\n",
        "    for text in texts:\n",
        "        # htmlタグを削除\n",
        "        text = remove_tag(text)\n",
        "        #アルファベット以外をスペースに置き換え\n",
        "        clean_punc = re.sub(r'[^a-zA-Z]', ' ', text)\n",
        "        #単語長が3文字以下のものは削除する\n",
        "        clean_short_tokenized = [word for word in clean_punc.split() if len(word) > 3]\n",
        "        #ステミング\n",
        "        clean_normalize = [stemmer.stem(word) for word in clean_short_tokenized]\n",
        "        #単語同士をスペースでつなぎ, 文章に戻す\n",
        "        clean_text = ' '.join(clean_normalize)\n",
        "        clean_texts.append(clean_text)\n",
        "    return clean_texts\n",
        "\n",
        "def remove_tag(x):\n",
        "    p = re.compile(r\"<[^>]*?>\")\n",
        "    return p.sub('',x)\n",
        "\n",
        "combined_cleaned = combined.copy()\n",
        "combined_cleaned['description'] = cleaning(combined['description'])"
      ],
      "metadata": {
        "id": "t8t-88CEBpRu"
      },
      "execution_count": null,
      "outputs": []
    },
    {
      "cell_type": "code",
      "source": [
        "# クリーニング結果の確認\n",
        "print('#original\\n', combined['description'][0])\n",
        "print(\"-----\")\n",
        "print('#cleaned\\n', combined_cleaned['description'][0])"
      ],
      "metadata": {
        "colab": {
          "base_uri": "https://localhost:8080/"
        },
        "id": "O1_C96RGB_MC",
        "outputId": "360b89b8-a6a7-45bd-d1db-e6b6a4d4e0a9"
      },
      "execution_count": null,
      "outputs": [
        {
          "output_type": "stream",
          "name": "stdout",
          "text": [
            "#original\n",
            " <li>Develop cutting-edge web applications that perform superbly across all platforms.</li><li>Work in a highly collaborative environment with cross-functional teams on projects ranging from a few weeks to a few months in length.</li><li>Maintain high standard of quality as you creatively and strategically problem solve throughout the product delivery process.</li><li>Be able to effectively communicate your work with both technical and non-technical peers</li><li>Be excited about new web technologies/techniques</li><li>Build solid front-end architectures that integrate easily with other systems and technologies</li><li>Working closely with other disciplines (Back-end, UX, Design, QA)</li><li>Have a superior attention to detail and a strong ability to Q/A one\\'s own work required, including cross-browser and cross-platform displays and performance</li></ul>\n",
            "-----\n",
            "#cleaned\n",
            " develop cut edg applic that perform superbl across platform work highli collabor environ with cross function team project rang from week month length maintain high standard qualiti creativ strateg problem solv throughout product deliveri process abl effect commun your work with both technic technic peersb excit about technolog techniquesbuild solid front architectur that integr easili with other system technologieswork close with other disciplin back design have superior attent detail strong abil work requir includ cross browser cross platform display perform\n"
          ]
        }
      ]
    },
    {
      "cell_type": "code",
      "source": [
        "print(combined_cleaned.shape)\n",
        "print(combined_cleaned.query('jobflag == 2'))\n",
        "mljob2csv = combined_cleaned.query('jobflag == 2')\n",
        "mljob2csv.to_csv(\"MLjobs.csv\")"
      ],
      "metadata": {
        "colab": {
          "base_uri": "https://localhost:8080/"
        },
        "id": "i5zE2btK_MsL",
        "outputId": "c471ef47-12d4-4cb4-9ab9-071167a73d5b"
      },
      "execution_count": null,
      "outputs": [
        {
          "output_type": "stream",
          "name": "stdout",
          "text": [
            "(3033, 3)\n",
            "        id                                        description  jobflag\n",
            "10      10  optim deep learn framework like tensorflow pyt...      2.0\n",
            "13      13  research prototyp identifi build predict produ...      2.0\n",
            "32      32  optim model method determin live real human fa...      2.0\n",
            "47      47  work togeth with team perform research test ev...      2.0\n",
            "68      68  implement appropri algorithmsresearch implemen...      2.0\n",
            "...    ...                                                ...      ...\n",
            "1450  1450                   build endpoint work cloud deploy      2.0\n",
            "1474  1474  monitor diagnos maintain deploy upgrad system ...      2.0\n",
            "1492  1492  implement appropri algorithm demonstr skill de...      2.0\n",
            "1508  1508  defin problem opportun complex busi areameasur...      2.0\n",
            "1512  1512  collabor with team support technic roadmap off...      2.0\n",
            "\n",
            "[88 rows x 3 columns]\n"
          ]
        }
      ]
    },
    {
      "cell_type": "code",
      "source": [
        "print(combined_cleaned['description'][:3])"
      ],
      "metadata": {
        "colab": {
          "base_uri": "https://localhost:8080/"
        },
        "id": "OdWVYT0Gy67G",
        "outputId": "d11e8c57-2970-4433-c7bc-ed864899fc62"
      },
      "execution_count": null,
      "outputs": [
        {
          "output_type": "stream",
          "name": "stdout",
          "text": [
            "0    develop cut edg applic that perform superbl ac...\n",
            "1    design develop high qualiti scalabl effici sol...\n",
            "2    function point person network strategi work re...\n",
            "Name: description, dtype: object\n"
          ]
        }
      ]
    },
    {
      "cell_type": "code",
      "source": [
        "#bag of words(文章中の単語の登場回数をカウントし, 特徴量化する手法)を用いて、descriptionをベクトル化する\n",
        "\n",
        "from sklearn.feature_extraction.text import CountVectorizer\n",
        "\n",
        "bow_vectorizer = CountVectorizer(max_df=0.90, min_df=2, max_features=2000, stop_words='english')\n",
        "bow = bow_vectorizer.fit_transform(combined_cleaned['description'])\n",
        "print(bow)"
      ],
      "metadata": {
        "colab": {
          "base_uri": "https://localhost:8080/"
        },
        "id": "jO0cq4HsCB_n",
        "outputId": "dfe02c97-e138-4291-b6ee-36a853530ba8"
      },
      "execution_count": null,
      "outputs": [
        {
          "output_type": "stream",
          "name": "stdout",
          "text": [
            "  (0, 501)\t1\n",
            "  (0, 439)\t1\n",
            "  (0, 571)\t1\n",
            "  (0, 108)\t1\n",
            "  (0, 1246)\t2\n",
            "  (0, 1277)\t2\n",
            "  (0, 1977)\t3\n",
            "  (0, 819)\t1\n",
            "  (0, 310)\t1\n",
            "  (0, 623)\t1\n",
            "  (0, 426)\t3\n",
            "  (0, 753)\t1\n",
            "  (0, 1781)\t1\n",
            "  (0, 1353)\t1\n",
            "  (0, 1404)\t1\n",
            "  (0, 1959)\t1\n",
            "  (0, 1109)\t1\n",
            "  (0, 1028)\t1\n",
            "  (0, 816)\t1\n",
            "  (0, 1693)\t1\n",
            "  (0, 1389)\t1\n",
            "  (0, 419)\t1\n",
            "  (0, 1715)\t1\n",
            "  (0, 1335)\t1\n",
            "  (0, 1648)\t1\n",
            "  :\t:\n",
            "  (3031, 1513)\t1\n",
            "  (3031, 1205)\t1\n",
            "  (3031, 1013)\t1\n",
            "  (3031, 167)\t1\n",
            "  (3031, 1873)\t1\n",
            "  (3031, 890)\t1\n",
            "  (3031, 393)\t1\n",
            "  (3031, 1015)\t1\n",
            "  (3031, 1749)\t1\n",
            "  (3031, 1640)\t1\n",
            "  (3032, 1246)\t1\n",
            "  (3032, 623)\t1\n",
            "  (3032, 1789)\t1\n",
            "  (3032, 1901)\t1\n",
            "  (3032, 231)\t1\n",
            "  (3032, 1756)\t2\n",
            "  (3032, 1839)\t1\n",
            "  (3032, 924)\t2\n",
            "  (3032, 1473)\t3\n",
            "  (3032, 859)\t1\n",
            "  (3032, 1900)\t1\n",
            "  (3032, 156)\t1\n",
            "  (3032, 38)\t1\n",
            "  (3032, 1303)\t1\n",
            "  (3032, 899)\t1\n"
          ]
        }
      ]
    },
    {
      "cell_type": "code",
      "source": [
        "#学習用データを分割して, 投稿前の精度検証を行う\n",
        "\n",
        "from sklearn.model_selection import train_test_split\n",
        "\n",
        "delimit_num = train.shape[0]\n",
        "train_bow = bow[:delimit_num, :]\n",
        "test_bow = bow[delimit_num:, :]\n",
        "\n",
        "x_bow_train, x_bow_valid, y_bow_train, y_bow_valid = train_test_split(train_bow, train['jobflag'], test_size=0.3, random_state=0)"
      ],
      "metadata": {
        "id": "GamVPDh1CLhR"
      },
      "execution_count": null,
      "outputs": []
    },
    {
      "cell_type": "markdown",
      "source": [
        "#### 学習・予測の部分を変更"
      ],
      "metadata": {
        "id": "HGQnWp2fpgT0"
      }
    },
    {
      "cell_type": "code",
      "source": [
        "#XGBを用いて分類器を作成し、学習・予測を行う　1回目\n",
        "\n",
        "# from xgboost import XGBClassifier\n",
        "\n",
        "# mod = XGBClassifier(max_depth=6, n_estimators=1000, n_jobs=-1)\n",
        "# mod.fit(x_bow_train, y_bow_train)\n",
        "# pred = mod.predict(x_bow_valid)"
      ],
      "metadata": {
        "id": "eGWzUHI5CVpF"
      },
      "execution_count": null,
      "outputs": []
    },
    {
      "cell_type": "code",
      "source": [
        "# SVMで分類器を作成する 2回目(rbf) 4回目(linear)\n",
        "\n",
        "from sklearn.svm import SVC\n",
        "mod = SVC(C=000.1,kernel='linear')\n",
        "mod.fit(x_bow_train, y_bow_train)\n",
        "pred = mod.predict(x_bow_valid)"
      ],
      "metadata": {
        "id": "HOG0czdXplrM"
      },
      "execution_count": null,
      "outputs": []
    },
    {
      "cell_type": "code",
      "source": [
        "# k近傍法 3回目←明らかにびみょい\n",
        "\n",
        "# from sklearn.neighbors import KNeighborsClassifier\n",
        "\n",
        "# mod = KNeighborsClassifier(n_neighbors=4, p=2)\n",
        "# mod.fit(x_bow_train, y_bow_train)\n",
        "# pred = mod.predict(x_bow_valid)"
      ],
      "metadata": {
        "id": "XRD-6rubtS6T"
      },
      "execution_count": null,
      "outputs": []
    },
    {
      "cell_type": "code",
      "source": [
        "# LightGBM\n",
        "import lightgbm as lgb\n",
        "mod = lgb.LGBMCLassifier(boosting_type='goss', max_depth=5, random_state=0)\n",
        "\n",
        "eval_set = [(x_bow_train, y_bow_train)]\n",
        "callbacks = []\n",
        "callbacks.append(lgb.early_stopping(stopping_rounds=10))\n",
        "callbacks.append(lgb.log_evaluation())"
      ],
      "metadata": {
        "id": "n6leFOReILtJ"
      },
      "execution_count": null,
      "outputs": []
    },
    {
      "cell_type": "code",
      "source": [
        "from sklearn.metrics import confusion_matrix, classification_report\n",
        "labels = [1, 2, 3, 4]\n",
        "re_labels = [\"DS\", \"ML\", \"SE\", \"Cons\"]\n",
        "\n",
        "#混同行列の作成\n",
        "conf_mx = confusion_matrix(y_bow_valid, pred, labels=labels)\n",
        "conf_df = pd.DataFrame(data=conf_mx, index=[x + \"(act)\" for x in re_labels], columns=[x + \"(pred)\" for x in re_labels])\n",
        "\n",
        "#可視化\n",
        "plt.figure(figsize=(4, 4), dpi=150)\n",
        "sns.heatmap(conf_df, cmap='Blues', annot=True, fmt='d', annot_kws={\"size\": 12}).invert_yaxis()\n",
        "plt.tight_layout()\n",
        " \n",
        "print(classification_report(y_bow_valid, pred, labels=labels, digits=3))"
      ],
      "metadata": {
        "colab": {
          "base_uri": "https://localhost:8080/",
          "height": 793
        },
        "id": "6jKL9ggtCYbb",
        "outputId": "c2e9277f-5cce-4d10-cea7-d0e86e57cfa4"
      },
      "execution_count": null,
      "outputs": [
        {
          "output_type": "stream",
          "name": "stdout",
          "text": [
            "              precision    recall  f1-score   support\n",
            "\n",
            "           1      0.622     0.781     0.693       137\n",
            "           2      0.500     0.273     0.353        22\n",
            "           3      0.811     0.770     0.790       139\n",
            "           4      0.784     0.694     0.736       157\n",
            "\n",
            "    accuracy                          0.723       455\n",
            "   macro avg      0.679     0.629     0.643       455\n",
            "weighted avg      0.730     0.723     0.721       455\n",
            "\n"
          ]
        },
        {
          "output_type": "display_data",
          "data": {
            "text/plain": [
              "<Figure size 600x600 with 2 Axes>"
            ],
            "image/png": "[encoded data removed]"
          },
          "metadata": {
            "needs_background": "light"
          }
        }
      ]
    },
    {
      "cell_type": "code",
      "source": [
        "# グリッドサーチでハイパーパラメータのチューニング\n",
        "\n",
        "from sklearn.model_selection import GridSearchCV\n",
        "from sklearn.svm import SVC\n",
        "pipe_svc = SVC(random_state=1)\n",
        "param_range = [0.001,0.01,0.1,1,10,100]\n",
        "param_grid = [{'C':param_range, 'kernel':['linear']},{'C':param_range, 'gamma':param_range,'kernel':['rbf']}]\n",
        "gs = GridSearchCV(estimator=pipe_svc,param_grid=param_grid,scoring='f1',cv=10,n_jobs=-1)\n",
        "gs = gs.fit(x_bow_train, y_bow_train)\n",
        "print(gs.best_score_)\n",
        "print(gs.best_params_)"
      ],
      "metadata": {
        "colab": {
          "base_uri": "https://localhost:8080/"
        },
        "id": "z6wl3J9mvxxs",
        "outputId": "7eba7d29-8e6f-4f41-f514-e29e83fa55e1"
      },
      "execution_count": null,
      "outputs": [
        {
          "output_type": "stream",
          "name": "stderr",
          "text": [
            "/usr/local/lib/python3.7/dist-packages/sklearn/model_selection/_search.py:972: UserWarning: One or more of the test scores are non-finite: [nan nan nan nan nan nan nan nan nan nan nan nan nan nan nan nan nan nan\n",
            " nan nan nan nan nan nan nan nan nan nan nan nan nan nan nan nan nan nan\n",
            " nan nan nan nan nan nan]\n",
            "  category=UserWarning,\n"
          ]
        },
        {
          "output_type": "stream",
          "name": "stdout",
          "text": [
            "nan\n",
            "{'C': 0.001, 'kernel': 'linear'}\n"
          ]
        }
      ]
    },
    {
      "cell_type": "code",
      "source": [
        "mod.fit(train_bow, train['jobflag'])\n",
        "pred_sub = mod.predict(test_bow)"
      ],
      "metadata": {
        "id": "wt7DmYiKChqW"
      },
      "execution_count": null,
      "outputs": []
    },
    {
      "cell_type": "code",
      "source": [
        "sample_submit_df = pd.DataFrame([test['id'], pred_sub]).T\n",
        "sample_submit_df.to_csv('./sample.csv', header=None, index=None)"
      ],
      "metadata": {
        "id": "8cRSG-LjCz6u"
      },
      "execution_count": null,
      "outputs": []
    },
    {
      "cell_type": "code",
      "source": [
        "# 提出\n",
        "!signate submit --competition-id=735 ./sample.csv --note 線形のSVMを使用"
      ],
      "metadata": {
        "colab": {
          "base_uri": "https://localhost:8080/"
        },
        "id": "F9ZOM58CQAlJ",
        "outputId": "3537523d-f687-4879-9cf7-4cd6b6747448"
      },
      "execution_count": null,
      "outputs": [
        {
          "output_type": "stream",
          "name": "stdout",
          "text": [
            "\u001b[32mYou have successfully submitted your predictions.We will send you the submission result to your email address.\u001b[0m\n"
          ]
        }
      ]
    },
    {
      "cell_type": "markdown",
      "source": [
        "## 一旦やること整理"
      ],
      "metadata": {
        "id": "P2FvfSJrSDQU"
      }
    },
    {
      "cell_type": "markdown",
      "source": [
        "\n",
        "-   やったこと\n",
        "    - 分類器\n",
        "        - 決定木\n",
        "        - k近傍法\n",
        "        - SVM\n",
        "        - ロジスティック回帰\n",
        "    - 前処理\n",
        "        - 欠損値補完\n",
        "        - one-hotエンコーディング\n",
        "        - 次元削減\n",
        "        - 特徴量生成\n",
        "    - 評価・検証\n",
        "        - 学習曲線\n",
        "            - バイアスとバリアンスの問題を診断\n",
        "        - 検証曲線\n",
        "            - 過学習と学習不足の問題を診断\n",
        "        - グリッドサーチ\n",
        "            - ハイパーパラメータのチューニング\n",
        "        - 混同行列\n",
        "            - 解釈する(チュートリアルに出現)\n",
        "    - 各種手法\n",
        "        - アンサンブル学習\n",
        "        - 多層ニューラルネットワーク\n",
        "        - tensorflowを用いて深層学習\n",
        "            - CNN,RNN\n",
        "\n"
      ],
      "metadata": {
        "id": "-ZLuI_fyj1gz"
      }
    },
    {
      "cell_type": "markdown",
      "source": [
        "\n",
        "\n",
        "1.   文字列を整形する\n",
        "    1. 正規表現？\n",
        "    1. htmlパーサー？\n",
        "1.   テキスト集合から特徴量を抽出するアルゴリズムを適用\n",
        "    1. bag-of-words?\n",
        "    1. word2vec?\n",
        "    1. BERT??\n",
        "1. 学習用データを分割して交差検証を行う\n",
        "    1. 学習データを7:3くらいで学習データ:検証データに分割する\n",
        "    1. ＊＊＊いくつかあった方法を試す！\n",
        "1. 分類器を作成する\n",
        "    1. 学習する\n",
        "    1. 予測する\n",
        "1. 検証する\n",
        "    1. テストデータセットで検証する\n",
        "\n",
        "\n"
      ],
      "metadata": {
        "id": "8-jslWbRSWOE"
      }
    },
    {
      "cell_type": "markdown",
      "source": [
        "## いろいろ試す\n"
      ],
      "metadata": {
        "id": "3VluUATkJACF"
      }
    },
    {
      "cell_type": "markdown",
      "source": [
        "### rawデータインポート"
      ],
      "metadata": {
        "id": "5e2mI7GIJGeQ"
      }
    },
    {
      "cell_type": "code",
      "source": [
        "import pandas as pd\n",
        "import matplotlib.pyplot as plt\n",
        "import seaborn as sns"
      ],
      "metadata": {
        "id": "NtDC6kBOQwG2"
      },
      "execution_count": null,
      "outputs": []
    },
    {
      "cell_type": "code",
      "source": [
        "#学習用データと評価用データの読み込み\n",
        "train = pd.read_csv(\"./train.csv\")\n",
        "test = pd.read_csv(\"./test.csv\")"
      ],
      "metadata": {
        "id": "LCPzWlp0JFYs"
      },
      "execution_count": null,
      "outputs": []
    },
    {
      "cell_type": "markdown",
      "source": [
        "## チュートリアルを少し変更"
      ],
      "metadata": {
        "id": "qGIULTVxNdj7"
      }
    },
    {
      "cell_type": "markdown",
      "source": [
        "- 学習・推論部分のみ色々変えてみる。以下要件\n",
        "    - 前処理\n",
        "        - ポーターステマー\n",
        "        - 正規表現\n",
        "        - ＊＊＊        \n",
        "    - テキスト処理(トークン化？分ちがき？)\n",
        "        - bag of wordsで**特徴量化**\n",
        "    - 交差検証\n",
        "        - 学習データをさらに分割(投稿前のチェック)\n",
        "            - 学習：検証=7:3\n",
        "    - 学習モデル\n",
        "        - **ここを変更する！**\n",
        "        - ひとまず、SVMを使ってみる\n",
        "    - 評価\n",
        "        - 混同行列で結果を可視化\n",
        "        - classification_reportで各種指標の値を確認\n",
        "\n",
        "\n",
        "\n",
        "\n",
        "\n",
        "    "
      ],
      "metadata": {
        "id": "Tqz8AuKUNiez"
      }
    },
    {
      "cell_type": "markdown",
      "source": [
        "### 方針\n",
        "\n",
        "- BERTを使えるようにする！！\n",
        "    - いろいろ調べる\n",
        "- "
      ],
      "metadata": {
        "id": "XEIs9whXTpnM"
      }
    },
    {
      "cell_type": "markdown",
      "source": [
        "- "
      ],
      "metadata": {
        "id": "YNuCQD8FTn_m"
      }
    },
    {
      "cell_type": "code",
      "source": [
        ""
      ],
      "metadata": {
        "id": "NDuhrAR9J5P0"
      },
      "execution_count": null,
      "outputs": []
    }
  ]
}