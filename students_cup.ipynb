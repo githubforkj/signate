{
  "nbformat": 4,
  "nbformat_minor": 0,
  "metadata": {
    "colab": {
      "name": "students-cup.ipynb",
      "provenance": [],
      "authorship_tag": "ABX9TyPKG+Y3fM+wcXHMZSn8ddBI",
      "include_colab_link": true
    },
    "kernelspec": {
      "name": "python3",
      "display_name": "Python 3"
    },
    "language_info": {
      "name": "python"
    },
    "accelerator": "GPU",
    "gpuClass": "standard"
  },
  "cells": [
    {
      "cell_type": "markdown",
      "metadata": {
        "id": "view-in-github",
        "colab_type": "text"
      },
      "source": [
        "<a href=\"https://colab.research.google.com/github/githubforkj/signate_studentcup2022/blob/main/students_cup.ipynb\" target=\"_parent\"><img src=\"https://colab.research.google.com/assets/colab-badge.svg\" alt=\"Open In Colab\"/></a>"
      ]
    },
    {
      "cell_type": "markdown",
      "source": [
        "# 初期設定"
      ],
      "metadata": {
        "id": "U_DCVnvuUZSU"
      }
    },
    {
      "cell_type": "code",
      "execution_count": 1,
      "metadata": {
        "colab": {
          "base_uri": "https://localhost:8080/",
          "height": 732
        },
        "id": "-BGqXM_GR2ZL",
        "outputId": "24e9fb38-f2ac-4e48-a153-a0b1b4454ae8"
      },
      "outputs": [
        {
          "output_type": "stream",
          "name": "stdout",
          "text": [
            "Looking in indexes: https://pypi.org/simple, https://us-python.pkg.dev/colab-wheels/public/simple/\n",
            "Collecting signate\n",
            "  Downloading signate-0.9.9-py3-none-any.whl (37 kB)\n",
            "Collecting urllib3>=1.26.7\n",
            "  Downloading urllib3-1.26.11-py2.py3-none-any.whl (139 kB)\n",
            "\u001b[K     |████████████████████████████████| 139 kB 49.7 MB/s \n",
            "\u001b[?25hCollecting six>=1.16\n",
            "  Downloading six-1.16.0-py2.py3-none-any.whl (11 kB)\n",
            "Requirement already satisfied: certifi in /usr/local/lib/python3.7/dist-packages (from signate) (2022.6.15)\n",
            "Collecting wget\n",
            "  Downloading wget-3.2.zip (10 kB)\n",
            "Requirement already satisfied: click in /usr/local/lib/python3.7/dist-packages (from signate) (7.1.2)\n",
            "Requirement already satisfied: tabulate in /usr/local/lib/python3.7/dist-packages (from signate) (0.8.10)\n",
            "Requirement already satisfied: python-dateutil in /usr/local/lib/python3.7/dist-packages (from signate) (2.8.2)\n",
            "Building wheels for collected packages: wget\n",
            "  Building wheel for wget (setup.py) ... \u001b[?25l\u001b[?25hdone\n",
            "  Created wheel for wget: filename=wget-3.2-py3-none-any.whl size=9675 sha256=80ef90cfb34b5c1ab5ab4edd08ef611d823479db735805a7500c0dd5ca16bcca\n",
            "  Stored in directory: /root/.cache/pip/wheels/a1/b6/7c/0e63e34eb06634181c63adacca38b79ff8f35c37e3c13e3c02\n",
            "Successfully built wget\n",
            "Installing collected packages: six, wget, urllib3, signate\n",
            "  Attempting uninstall: six\n",
            "    Found existing installation: six 1.15.0\n",
            "    Uninstalling six-1.15.0:\n",
            "      Successfully uninstalled six-1.15.0\n",
            "  Attempting uninstall: urllib3\n",
            "    Found existing installation: urllib3 1.24.3\n",
            "    Uninstalling urllib3-1.24.3:\n",
            "      Successfully uninstalled urllib3-1.24.3\n",
            "\u001b[31mERROR: pip's dependency resolver does not currently take into account all the packages that are installed. This behaviour is the source of the following dependency conflicts.\n",
            "ipython 7.9.0 requires jedi>=0.10, which is not installed.\n",
            "requests 2.23.0 requires urllib3!=1.25.0,!=1.25.1,<1.26,>=1.21.1, but you have urllib3 1.26.11 which is incompatible.\u001b[0m\n",
            "Successfully installed signate-0.9.9 six-1.16.0 urllib3-1.26.11 wget-3.2\n"
          ]
        },
        {
          "output_type": "display_data",
          "data": {
            "application/vnd.colab-display-data+json": {
              "pip_warning": {
                "packages": [
                  "six"
                ]
              }
            }
          },
          "metadata": {}
        },
        {
          "output_type": "stream",
          "name": "stderr",
          "text": [
            "/usr/local/lib/python3.7/dist-packages/requests/__init__.py:91: RequestsDependencyWarning: urllib3 (1.26.11) or chardet (3.0.4) doesn't match a supported version!\n",
            "  RequestsDependencyWarning)\n"
          ]
        },
        {
          "output_type": "stream",
          "name": "stdout",
          "text": [
            "Download 100%.\n"
          ]
        }
      ],
      "source": [
        "# signateとの連携\n",
        "\n",
        "!pip install signate\n",
        "\n",
        "from googleapiclient.discovery import build\n",
        "import io, os\n",
        "from googleapiclient.http import MediaIoBaseDownload\n",
        "from google.colab import auth\n",
        "\n",
        "\n",
        "auth.authenticate_user()\n",
        "\n",
        "drive_service = build('drive', 'v3')\n",
        "results = drive_service.files().list(\n",
        "        q=\"name = 'signate.json'\", fields=\"files(id)\").execute()\n",
        "signate_api_key = results.get('files', [])\n",
        "\n",
        "filename = \"/root/.signate/signate.json\"\n",
        "os.makedirs(os.path.dirname(filename), exist_ok=True)\n",
        "\n",
        "request = drive_service.files().get_media(fileId=signate_api_key[0]['id'])\n",
        "fh = io.FileIO(filename, 'wb')\n",
        "downloader = MediaIoBaseDownload(fh, request)\n",
        "done = False\n",
        "while done is False:\n",
        "    status, done = downloader.next_chunk()\n",
        "    print(\"Download %d%%.\" % int(status.progress() * 100))\n",
        "os.chmod(filename, 600)"
      ]
    },
    {
      "cell_type": "code",
      "source": [
        "# コンペのデータをダウンロード\n",
        "!signate download --competition-id={735}\n"
      ],
      "metadata": {
        "colab": {
          "base_uri": "https://localhost:8080/"
        },
        "id": "DUdgTNvdSAld",
        "outputId": "9f4505ab-b3b0-4de1-ae54-e01254fbb8d8"
      },
      "execution_count": 2,
      "outputs": [
        {
          "output_type": "stream",
          "name": "stdout",
          "text": [
            "submit_sample.csv\n",
            "\n",
            "Questionnaire.pdf\n",
            "\n",
            "train.csv\n",
            "\n",
            "test.csv\n",
            "\n",
            "\u001b[32m\n",
            "Download completed.\u001b[0m\n"
          ]
        }
      ]
    },
    {
      "cell_type": "code",
      "source": [
        "# ドライブのマウント\n",
        "from google.colab import drive\n",
        "drive.mount('/content/drive')"
      ],
      "metadata": {
        "colab": {
          "base_uri": "https://localhost:8080/"
        },
        "id": "d5cUAJR9SUkQ",
        "outputId": "1ebeeb2f-c226-4168-b534-517da28307a6"
      },
      "execution_count": 3,
      "outputs": [
        {
          "output_type": "stream",
          "name": "stdout",
          "text": [
            "Mounted at /content/drive\n"
          ]
        }
      ]
    },
    {
      "cell_type": "markdown",
      "source": [
        "# 実装"
      ],
      "metadata": {
        "id": "7k_INd6PUVnP"
      }
    },
    {
      "cell_type": "markdown",
      "source": [
        "### チュートリアル"
      ],
      "metadata": {
        "id": "7GyrMWjKAvRK"
      }
    },
    {
      "cell_type": "code",
      "source": [
        "import pandas as pd\n",
        "import matplotlib.pyplot as plt\n",
        "import seaborn as sns"
      ],
      "metadata": {
        "id": "rVEuoeFPUPMS"
      },
      "execution_count": null,
      "outputs": []
    },
    {
      "cell_type": "code",
      "source": [
        "#学習用データと評価用データの読み込み\n",
        "train = pd.read_csv(\"./train.csv\")\n",
        "test = pd.read_csv(\"./test.csv\")"
      ],
      "metadata": {
        "id": "FdLlNJ7wA28b"
      },
      "execution_count": null,
      "outputs": []
    },
    {
      "cell_type": "code",
      "source": [
        "#データのサイズ確認\n",
        "print(train.shape)\n",
        "print(test.shape)"
      ],
      "metadata": {
        "colab": {
          "base_uri": "https://localhost:8080/"
        },
        "id": "jJs_0LdoA6PC",
        "outputId": "1ed70132-7c46-4b5e-9bea-b35474a78d77"
      },
      "execution_count": null,
      "outputs": [
        {
          "output_type": "stream",
          "name": "stdout",
          "text": [
            "(1516, 3)\n",
            "(1517, 2)\n"
          ]
        }
      ]
    },
    {
      "cell_type": "code",
      "source": [
        "#学習用データの中身を確認\n",
        "train.head()"
      ],
      "metadata": {
        "colab": {
          "base_uri": "https://localhost:8080/",
          "height": 206
        },
        "id": "wmgs4jUUA8TW",
        "outputId": "a0739959-fbbd-498f-b993-cda876034e4f"
      },
      "execution_count": null,
      "outputs": [
        {
          "output_type": "execute_result",
          "data": {
            "text/plain": [
              "   id                                        description  jobflag\n",
              "0   0  <li>Develop cutting-edge web applications that...        3\n",
              "1   1  <li> Designs and develops high quality, scalab...        3\n",
              "2   2  <li>Functions as a point person for Network St...        4\n",
              "3   3  <li> Work on the technical design, development...        3\n",
              "4   4  <li>Quantify the resources required for a task...        4"
            ],
            "text/html": [
              "\n",
              "  <div id=\"df-251e0a0c-8057-41f8-ad6f-7a7544e7ad9d\">\n",
              "    <div class=\"colab-df-container\">\n",
              "      <div>\n",
              "<style scoped>\n",
              "    .dataframe tbody tr th:only-of-type {\n",
              "        vertical-align: middle;\n",
              "    }\n",
              "\n",
              "    .dataframe tbody tr th {\n",
              "        vertical-align: top;\n",
              "    }\n",
              "\n",
              "    .dataframe thead th {\n",
              "        text-align: right;\n",
              "    }\n",
              "</style>\n",
              "<table border=\"1\" class=\"dataframe\">\n",
              "  <thead>\n",
              "    <tr style=\"text-align: right;\">\n",
              "      <th></th>\n",
              "      <th>id</th>\n",
              "      <th>description</th>\n",
              "      <th>jobflag</th>\n",
              "    </tr>\n",
              "  </thead>\n",
              "  <tbody>\n",
              "    <tr>\n",
              "      <th>0</th>\n",
              "      <td>0</td>\n",
              "      <td>&lt;li&gt;Develop cutting-edge web applications that...</td>\n",
              "      <td>3</td>\n",
              "    </tr>\n",
              "    <tr>\n",
              "      <th>1</th>\n",
              "      <td>1</td>\n",
              "      <td>&lt;li&gt; Designs and develops high quality, scalab...</td>\n",
              "      <td>3</td>\n",
              "    </tr>\n",
              "    <tr>\n",
              "      <th>2</th>\n",
              "      <td>2</td>\n",
              "      <td>&lt;li&gt;Functions as a point person for Network St...</td>\n",
              "      <td>4</td>\n",
              "    </tr>\n",
              "    <tr>\n",
              "      <th>3</th>\n",
              "      <td>3</td>\n",
              "      <td>&lt;li&gt; Work on the technical design, development...</td>\n",
              "      <td>3</td>\n",
              "    </tr>\n",
              "    <tr>\n",
              "      <th>4</th>\n",
              "      <td>4</td>\n",
              "      <td>&lt;li&gt;Quantify the resources required for a task...</td>\n",
              "      <td>4</td>\n",
              "    </tr>\n",
              "  </tbody>\n",
              "</table>\n",
              "</div>\n",
              "      <button class=\"colab-df-convert\" onclick=\"convertToInteractive('df-251e0a0c-8057-41f8-ad6f-7a7544e7ad9d')\"\n",
              "              title=\"Convert this dataframe to an interactive table.\"\n",
              "              style=\"display:none;\">\n",
              "        \n",
              "  <svg xmlns=\"http://www.w3.org/2000/svg\" height=\"24px\"viewBox=\"0 0 24 24\"\n",
              "       width=\"24px\">\n",
              "    <path d=\"M0 0h24v24H0V0z\" fill=\"none\"/>\n",
              "    <path d=\"M18.56 5.44l.94 2.06.94-2.06 2.06-.94-2.06-.94-.94-2.06-.94 2.06-2.06.94zm-11 1L8.5 8.5l.94-2.06 2.06-.94-2.06-.94L8.5 2.5l-.94 2.06-2.06.94zm10 10l.94 2.06.94-2.06 2.06-.94-2.06-.94-.94-2.06-.94 2.06-2.06.94z\"/><path d=\"M17.41 7.96l-1.37-1.37c-.4-.4-.92-.59-1.43-.59-.52 0-1.04.2-1.43.59L10.3 9.45l-7.72 7.72c-.78.78-.78 2.05 0 2.83L4 21.41c.39.39.9.59 1.41.59.51 0 1.02-.2 1.41-.59l7.78-7.78 2.81-2.81c.8-.78.8-2.07 0-2.86zM5.41 20L4 18.59l7.72-7.72 1.47 1.35L5.41 20z\"/>\n",
              "  </svg>\n",
              "      </button>\n",
              "      \n",
              "  <style>\n",
              "    .colab-df-container {\n",
              "      display:flex;\n",
              "      flex-wrap:wrap;\n",
              "      gap: 12px;\n",
              "    }\n",
              "\n",
              "    .colab-df-convert {\n",
              "      background-color: #E8F0FE;\n",
              "      border: none;\n",
              "      border-radius: 50%;\n",
              "      cursor: pointer;\n",
              "      display: none;\n",
              "      fill: #1967D2;\n",
              "      height: 32px;\n",
              "      padding: 0 0 0 0;\n",
              "      width: 32px;\n",
              "    }\n",
              "\n",
              "    .colab-df-convert:hover {\n",
              "      background-color: #E2EBFA;\n",
              "      box-shadow: 0px 1px 2px rgba(60, 64, 67, 0.3), 0px 1px 3px 1px rgba(60, 64, 67, 0.15);\n",
              "      fill: #174EA6;\n",
              "    }\n",
              "\n",
              "    [theme=dark] .colab-df-convert {\n",
              "      background-color: #3B4455;\n",
              "      fill: #D2E3FC;\n",
              "    }\n",
              "\n",
              "    [theme=dark] .colab-df-convert:hover {\n",
              "      background-color: #434B5C;\n",
              "      box-shadow: 0px 1px 3px 1px rgba(0, 0, 0, 0.15);\n",
              "      filter: drop-shadow(0px 1px 2px rgba(0, 0, 0, 0.3));\n",
              "      fill: #FFFFFF;\n",
              "    }\n",
              "  </style>\n",
              "\n",
              "      <script>\n",
              "        const buttonEl =\n",
              "          document.querySelector('#df-251e0a0c-8057-41f8-ad6f-7a7544e7ad9d button.colab-df-convert');\n",
              "        buttonEl.style.display =\n",
              "          google.colab.kernel.accessAllowed ? 'block' : 'none';\n",
              "\n",
              "        async function convertToInteractive(key) {\n",
              "          const element = document.querySelector('#df-251e0a0c-8057-41f8-ad6f-7a7544e7ad9d');\n",
              "          const dataTable =\n",
              "            await google.colab.kernel.invokeFunction('convertToInteractive',\n",
              "                                                     [key], {});\n",
              "          if (!dataTable) return;\n",
              "\n",
              "          const docLinkHtml = 'Like what you see? Visit the ' +\n",
              "            '<a target=\"_blank\" href=https://colab.research.google.com/notebooks/data_table.ipynb>data table notebook</a>'\n",
              "            + ' to learn more about interactive tables.';\n",
              "          element.innerHTML = '';\n",
              "          dataTable['output_type'] = 'display_data';\n",
              "          await google.colab.output.renderOutput(dataTable, element);\n",
              "          const docLink = document.createElement('div');\n",
              "          docLink.innerHTML = docLinkHtml;\n",
              "          element.appendChild(docLink);\n",
              "        }\n",
              "      </script>\n",
              "    </div>\n",
              "  </div>\n",
              "  "
            ]
          },
          "metadata": {},
          "execution_count": 8
        }
      ]
    },
    {
      "cell_type": "code",
      "source": [
        "#評価用データの中身を確認\n",
        "test.head()"
      ],
      "metadata": {
        "colab": {
          "base_uri": "https://localhost:8080/",
          "height": 206
        },
        "id": "-knUInjHA_-k",
        "outputId": "2a330b27-7929-4765-d8c9-2a0c514f3114"
      },
      "execution_count": null,
      "outputs": [
        {
          "output_type": "execute_result",
          "data": {
            "text/plain": [
              "     id                                        description\n",
              "0  1516  <li>Building decision-making models and propos...\n",
              "1  1517  <li>Educate homeowners on the benefits of sola...\n",
              "2  1518  <li><span>Design, develop, document, and imple...\n",
              "3  1519  <li>Apply advanced technical expertise and ski...\n",
              "4  1520  <li>Project manage and deliver against our roa..."
            ],
            "text/html": [
              "\n",
              "  <div id=\"df-d3151fd8-8b8c-43ce-b323-08bd5e7d4479\">\n",
              "    <div class=\"colab-df-container\">\n",
              "      <div>\n",
              "<style scoped>\n",
              "    .dataframe tbody tr th:only-of-type {\n",
              "        vertical-align: middle;\n",
              "    }\n",
              "\n",
              "    .dataframe tbody tr th {\n",
              "        vertical-align: top;\n",
              "    }\n",
              "\n",
              "    .dataframe thead th {\n",
              "        text-align: right;\n",
              "    }\n",
              "</style>\n",
              "<table border=\"1\" class=\"dataframe\">\n",
              "  <thead>\n",
              "    <tr style=\"text-align: right;\">\n",
              "      <th></th>\n",
              "      <th>id</th>\n",
              "      <th>description</th>\n",
              "    </tr>\n",
              "  </thead>\n",
              "  <tbody>\n",
              "    <tr>\n",
              "      <th>0</th>\n",
              "      <td>1516</td>\n",
              "      <td>&lt;li&gt;Building decision-making models and propos...</td>\n",
              "    </tr>\n",
              "    <tr>\n",
              "      <th>1</th>\n",
              "      <td>1517</td>\n",
              "      <td>&lt;li&gt;Educate homeowners on the benefits of sola...</td>\n",
              "    </tr>\n",
              "    <tr>\n",
              "      <th>2</th>\n",
              "      <td>1518</td>\n",
              "      <td>&lt;li&gt;&lt;span&gt;Design, develop, document, and imple...</td>\n",
              "    </tr>\n",
              "    <tr>\n",
              "      <th>3</th>\n",
              "      <td>1519</td>\n",
              "      <td>&lt;li&gt;Apply advanced technical expertise and ski...</td>\n",
              "    </tr>\n",
              "    <tr>\n",
              "      <th>4</th>\n",
              "      <td>1520</td>\n",
              "      <td>&lt;li&gt;Project manage and deliver against our roa...</td>\n",
              "    </tr>\n",
              "  </tbody>\n",
              "</table>\n",
              "</div>\n",
              "      <button class=\"colab-df-convert\" onclick=\"convertToInteractive('df-d3151fd8-8b8c-43ce-b323-08bd5e7d4479')\"\n",
              "              title=\"Convert this dataframe to an interactive table.\"\n",
              "              style=\"display:none;\">\n",
              "        \n",
              "  <svg xmlns=\"http://www.w3.org/2000/svg\" height=\"24px\"viewBox=\"0 0 24 24\"\n",
              "       width=\"24px\">\n",
              "    <path d=\"M0 0h24v24H0V0z\" fill=\"none\"/>\n",
              "    <path d=\"M18.56 5.44l.94 2.06.94-2.06 2.06-.94-2.06-.94-.94-2.06-.94 2.06-2.06.94zm-11 1L8.5 8.5l.94-2.06 2.06-.94-2.06-.94L8.5 2.5l-.94 2.06-2.06.94zm10 10l.94 2.06.94-2.06 2.06-.94-2.06-.94-.94-2.06-.94 2.06-2.06.94z\"/><path d=\"M17.41 7.96l-1.37-1.37c-.4-.4-.92-.59-1.43-.59-.52 0-1.04.2-1.43.59L10.3 9.45l-7.72 7.72c-.78.78-.78 2.05 0 2.83L4 21.41c.39.39.9.59 1.41.59.51 0 1.02-.2 1.41-.59l7.78-7.78 2.81-2.81c.8-.78.8-2.07 0-2.86zM5.41 20L4 18.59l7.72-7.72 1.47 1.35L5.41 20z\"/>\n",
              "  </svg>\n",
              "      </button>\n",
              "      \n",
              "  <style>\n",
              "    .colab-df-container {\n",
              "      display:flex;\n",
              "      flex-wrap:wrap;\n",
              "      gap: 12px;\n",
              "    }\n",
              "\n",
              "    .colab-df-convert {\n",
              "      background-color: #E8F0FE;\n",
              "      border: none;\n",
              "      border-radius: 50%;\n",
              "      cursor: pointer;\n",
              "      display: none;\n",
              "      fill: #1967D2;\n",
              "      height: 32px;\n",
              "      padding: 0 0 0 0;\n",
              "      width: 32px;\n",
              "    }\n",
              "\n",
              "    .colab-df-convert:hover {\n",
              "      background-color: #E2EBFA;\n",
              "      box-shadow: 0px 1px 2px rgba(60, 64, 67, 0.3), 0px 1px 3px 1px rgba(60, 64, 67, 0.15);\n",
              "      fill: #174EA6;\n",
              "    }\n",
              "\n",
              "    [theme=dark] .colab-df-convert {\n",
              "      background-color: #3B4455;\n",
              "      fill: #D2E3FC;\n",
              "    }\n",
              "\n",
              "    [theme=dark] .colab-df-convert:hover {\n",
              "      background-color: #434B5C;\n",
              "      box-shadow: 0px 1px 3px 1px rgba(0, 0, 0, 0.15);\n",
              "      filter: drop-shadow(0px 1px 2px rgba(0, 0, 0, 0.3));\n",
              "      fill: #FFFFFF;\n",
              "    }\n",
              "  </style>\n",
              "\n",
              "      <script>\n",
              "        const buttonEl =\n",
              "          document.querySelector('#df-d3151fd8-8b8c-43ce-b323-08bd5e7d4479 button.colab-df-convert');\n",
              "        buttonEl.style.display =\n",
              "          google.colab.kernel.accessAllowed ? 'block' : 'none';\n",
              "\n",
              "        async function convertToInteractive(key) {\n",
              "          const element = document.querySelector('#df-d3151fd8-8b8c-43ce-b323-08bd5e7d4479');\n",
              "          const dataTable =\n",
              "            await google.colab.kernel.invokeFunction('convertToInteractive',\n",
              "                                                     [key], {});\n",
              "          if (!dataTable) return;\n",
              "\n",
              "          const docLinkHtml = 'Like what you see? Visit the ' +\n",
              "            '<a target=\"_blank\" href=https://colab.research.google.com/notebooks/data_table.ipynb>data table notebook</a>'\n",
              "            + ' to learn more about interactive tables.';\n",
              "          element.innerHTML = '';\n",
              "          dataTable['output_type'] = 'display_data';\n",
              "          await google.colab.output.renderOutput(dataTable, element);\n",
              "          const docLink = document.createElement('div');\n",
              "          docLink.innerHTML = docLinkHtml;\n",
              "          element.appendChild(docLink);\n",
              "        }\n",
              "      </script>\n",
              "    </div>\n",
              "  </div>\n",
              "  "
            ]
          },
          "metadata": {},
          "execution_count": 9
        }
      ]
    },
    {
      "cell_type": "code",
      "source": [
        "#学習用データに含まれるjobflagをカウント（＋可視化）\n",
        "print(train['jobflag'].value_counts())\n",
        "train['jobflag'].value_counts().plot(kind = 'bar')"
      ],
      "metadata": {
        "colab": {
          "base_uri": "https://localhost:8080/",
          "height": 366
        },
        "id": "R8NvfuwYBDQ-",
        "outputId": "f12f2f94-2172-4040-9fac-8559149dea99"
      },
      "execution_count": null,
      "outputs": [
        {
          "output_type": "stream",
          "name": "stdout",
          "text": [
            "4    505\n",
            "1    468\n",
            "3    455\n",
            "2     88\n",
            "Name: jobflag, dtype: int64\n"
          ]
        },
        {
          "output_type": "execute_result",
          "data": {
            "text/plain": [
              "<matplotlib.axes._subplots.AxesSubplot at 0x7f84d8944b10>"
            ]
          },
          "metadata": {},
          "execution_count": 10
        },
        {
          "output_type": "display_data",
          "data": {
            "text/plain": [
              "<Figure size 432x288 with 1 Axes>"
            ],
            "image/png": "[encoded data removed]"
          },
          "metadata": {
            "needs_background": "light"
          }
        }
      ]
    },
    {
      "cell_type": "code",
      "source": [
        "#学習用データ, 評価用データのdescriptionに含まれる文字数を確認\n",
        "train_length = train['description'].str.len()\n",
        "test_length = test['description'].str.len()"
      ],
      "metadata": {
        "id": "2vXX2LoABKtL"
      },
      "execution_count": null,
      "outputs": []
    },
    {
      "cell_type": "code",
      "source": [
        "#可視化\n",
        "fig = plt.figure()\n",
        "ax = fig.add_subplot(1, 1, 1)\n",
        "ax.violinplot([train_length, test_length])\n",
        "ax.set_xticks([1, 2])\n",
        "ax.set_xticklabels(['train', 'test'])\n",
        "ax.set_ylabel('word count')\n",
        "plt.show()"
      ],
      "metadata": {
        "colab": {
          "base_uri": "https://localhost:8080/",
          "height": 354
        },
        "id": "ESjdQAUEBSIF",
        "outputId": "40776d77-5a63-4863-bf5b-2228bb5339ac"
      },
      "execution_count": null,
      "outputs": [
        {
          "output_type": "stream",
          "name": "stderr",
          "text": [
            "/usr/local/lib/python3.7/dist-packages/matplotlib/cbook/__init__.py:1376: VisibleDeprecationWarning: Creating an ndarray from ragged nested sequences (which is a list-or-tuple of lists-or-tuples-or ndarrays with different lengths or shapes) is deprecated. If you meant to do this, you must specify 'dtype=object' when creating the ndarray.\n",
            "  X = np.atleast_1d(X.T if isinstance(X, np.ndarray) else np.asarray(X))\n",
            "/usr/local/lib/python3.7/dist-packages/numpy/core/fromnumeric.py:1970: VisibleDeprecationWarning: Creating an ndarray from ragged nested sequences (which is a list-or-tuple of lists-or-tuples-or ndarrays with different lengths or shapes) is deprecated. If you meant to do this, you must specify 'dtype=object' when creating the ndarray.\n",
            "  result = asarray(a).shape\n"
          ]
        },
        {
          "output_type": "display_data",
          "data": {
            "text/plain": [
              "<Figure size 432x288 with 1 Axes>"
            ],
            "image/png": "[encoded data removed]"
          },
          "metadata": {
            "needs_background": "light"
          }
        }
      ]
    },
    {
      "cell_type": "code",
      "source": [
        "#学習用データの職業ラベル(jobflag)ごとの文字数を確認\n",
        "fig = plt.figure(figsize = (15, 4))\n",
        "for flag in [1, 2, 3, 4]:\n",
        "    train_length_flag = train[train['jobflag'] == flag]['description'].str.len()\n",
        "    ax = fig.add_subplot(1, 4, flag)\n",
        "    ax.violinplot(train_length_flag)\n",
        "    ax.set_xticks([1])\n",
        "    ax.set_xticklabels([flag])\n",
        "    ax.set_ylabel('word count')\n",
        "plt.tight_layout()\n",
        "plt.show()"
      ],
      "metadata": {
        "colab": {
          "base_uri": "https://localhost:8080/",
          "height": 297
        },
        "id": "hzVRG9P7BVcG",
        "outputId": "a6bcad80-4900-421e-fd47-36d10d08bfa6"
      },
      "execution_count": null,
      "outputs": [
        {
          "output_type": "display_data",
          "data": {
            "text/plain": [
              "<Figure size 1080x288 with 4 Axes>"
            ],
            "image/png": "[encoded data removed]"
          },
          "metadata": {
            "needs_background": "light"
          }
        }
      ]
    },
    {
      "cell_type": "code",
      "source": [
        "#学習用データと評価用データを結合する (両データに対し一括で前処理を行うため)\n",
        "combined = train.append(test, ignore_index=True)"
      ],
      "metadata": {
        "id": "6VYt1uh1BbBL"
      },
      "execution_count": null,
      "outputs": []
    },
    {
      "cell_type": "code",
      "source": [
        "#以下の手順でdescriptionデータのクリーニングを行う.\n",
        "# <li>などのhtmlタグを削除する\n",
        "# アルファベット以外の文字をスペースに置き換える\n",
        "# 単語長が3文字以下のものは削除する\n",
        "# ステミング（単語の語幹を取り出す作業のこと. 派生語を同じ単語として扱えるようにする）\n",
        "\n",
        "import re\n",
        "from nltk.stem.porter import PorterStemmer\n",
        "stemmer = PorterStemmer()\n",
        "\n",
        "def cleaning(texts):\n",
        "    clean_texts = []\n",
        "    for text in texts:\n",
        "        # htmlタグを削除\n",
        "        text = remove_tag(text)\n",
        "        #アルファベット以外をスペースに置き換え\n",
        "        clean_punc = re.sub(r'[^a-zA-Z]', ' ', text)\n",
        "        #単語長が3文字以下のものは削除する\n",
        "        clean_short_tokenized = [word for word in clean_punc.split() if len(word) > 3]\n",
        "        #ステミング\n",
        "        clean_normalize = [stemmer.stem(word) for word in clean_short_tokenized]\n",
        "        #単語同士をスペースでつなぎ, 文章に戻す\n",
        "        clean_text = ' '.join(clean_normalize)\n",
        "        clean_texts.append(clean_text)\n",
        "    return clean_texts\n",
        "\n",
        "def remove_tag(x):\n",
        "    p = re.compile(r\"<[^>]*?>\")\n",
        "    return p.sub('',x)\n",
        "\n",
        "combined_cleaned = combined.copy()\n",
        "combined_cleaned['description'] = cleaning(combined['description'])"
      ],
      "metadata": {
        "id": "t8t-88CEBpRu"
      },
      "execution_count": null,
      "outputs": []
    },
    {
      "cell_type": "code",
      "source": [
        "# クリーニング結果の確認\n",
        "print('#original\\n', combined['description'][0])\n",
        "print(\"-----\")\n",
        "print('#cleaned\\n', combined_cleaned['description'][0])"
      ],
      "metadata": {
        "colab": {
          "base_uri": "https://localhost:8080/"
        },
        "id": "O1_C96RGB_MC",
        "outputId": "360b89b8-a6a7-45bd-d1db-e6b6a4d4e0a9"
      },
      "execution_count": null,
      "outputs": [
        {
          "output_type": "stream",
          "name": "stdout",
          "text": [
            "#original\n",
            " <li>Develop cutting-edge web applications that perform superbly across all platforms.</li><li>Work in a highly collaborative environment with cross-functional teams on projects ranging from a few weeks to a few months in length.</li><li>Maintain high standard of quality as you creatively and strategically problem solve throughout the product delivery process.</li><li>Be able to effectively communicate your work with both technical and non-technical peers</li><li>Be excited about new web technologies/techniques</li><li>Build solid front-end architectures that integrate easily with other systems and technologies</li><li>Working closely with other disciplines (Back-end, UX, Design, QA)</li><li>Have a superior attention to detail and a strong ability to Q/A one\\'s own work required, including cross-browser and cross-platform displays and performance</li></ul>\n",
            "-----\n",
            "#cleaned\n",
            " develop cut edg applic that perform superbl across platform work highli collabor environ with cross function team project rang from week month length maintain high standard qualiti creativ strateg problem solv throughout product deliveri process abl effect commun your work with both technic technic peersb excit about technolog techniquesbuild solid front architectur that integr easili with other system technologieswork close with other disciplin back design have superior attent detail strong abil work requir includ cross browser cross platform display perform\n"
          ]
        }
      ]
    },
    {
      "cell_type": "code",
      "source": [
        "print(combined_cleaned.shape)\n",
        "print(combined_cleaned.query('jobflag == 2'))\n",
        "mljob2csv = combined_cleaned.query('jobflag == 2')\n",
        "mljob2csv.to_csv(\"MLjobs.csv\")"
      ],
      "metadata": {
        "colab": {
          "base_uri": "https://localhost:8080/"
        },
        "id": "i5zE2btK_MsL",
        "outputId": "c471ef47-12d4-4cb4-9ab9-071167a73d5b"
      },
      "execution_count": null,
      "outputs": [
        {
          "output_type": "stream",
          "name": "stdout",
          "text": [
            "(3033, 3)\n",
            "        id                                        description  jobflag\n",
            "10      10  optim deep learn framework like tensorflow pyt...      2.0\n",
            "13      13  research prototyp identifi build predict produ...      2.0\n",
            "32      32  optim model method determin live real human fa...      2.0\n",
            "47      47  work togeth with team perform research test ev...      2.0\n",
            "68      68  implement appropri algorithmsresearch implemen...      2.0\n",
            "...    ...                                                ...      ...\n",
            "1450  1450                   build endpoint work cloud deploy      2.0\n",
            "1474  1474  monitor diagnos maintain deploy upgrad system ...      2.0\n",
            "1492  1492  implement appropri algorithm demonstr skill de...      2.0\n",
            "1508  1508  defin problem opportun complex busi areameasur...      2.0\n",
            "1512  1512  collabor with team support technic roadmap off...      2.0\n",
            "\n",
            "[88 rows x 3 columns]\n"
          ]
        }
      ]
    },
    {
      "cell_type": "code",
      "source": [
        "print(combined_cleaned['description'][:3])"
      ],
      "metadata": {
        "colab": {
          "base_uri": "https://localhost:8080/"
        },
        "id": "OdWVYT0Gy67G",
        "outputId": "d11e8c57-2970-4433-c7bc-ed864899fc62"
      },
      "execution_count": null,
      "outputs": [
        {
          "output_type": "stream",
          "name": "stdout",
          "text": [
            "0    develop cut edg applic that perform superbl ac...\n",
            "1    design develop high qualiti scalabl effici sol...\n",
            "2    function point person network strategi work re...\n",
            "Name: description, dtype: object\n"
          ]
        }
      ]
    },
    {
      "cell_type": "code",
      "source": [
        "#bag of words(文章中の単語の登場回数をカウントし, 特徴量化する手法)を用いて、descriptionをベクトル化する\n",
        "\n",
        "from sklearn.feature_extraction.text import CountVectorizer\n",
        "\n",
        "bow_vectorizer = CountVectorizer(max_df=0.90, min_df=2, max_features=2000, stop_words='english')\n",
        "bow = bow_vectorizer.fit_transform(combined_cleaned['description'])\n",
        "print(bow)"
      ],
      "metadata": {
        "colab": {
          "base_uri": "https://localhost:8080/"
        },
        "id": "jO0cq4HsCB_n",
        "outputId": "dfe02c97-e138-4291-b6ee-36a853530ba8"
      },
      "execution_count": null,
      "outputs": [
        {
          "output_type": "stream",
          "name": "stdout",
          "text": [
            "  (0, 501)\t1\n",
            "  (0, 439)\t1\n",
            "  (0, 571)\t1\n",
            "  (0, 108)\t1\n",
            "  (0, 1246)\t2\n",
            "  (0, 1277)\t2\n",
            "  (0, 1977)\t3\n",
            "  (0, 819)\t1\n",
            "  (0, 310)\t1\n",
            "  (0, 623)\t1\n",
            "  (0, 426)\t3\n",
            "  (0, 753)\t1\n",
            "  (0, 1781)\t1\n",
            "  (0, 1353)\t1\n",
            "  (0, 1404)\t1\n",
            "  (0, 1959)\t1\n",
            "  (0, 1109)\t1\n",
            "  (0, 1028)\t1\n",
            "  (0, 816)\t1\n",
            "  (0, 1693)\t1\n",
            "  (0, 1389)\t1\n",
            "  (0, 419)\t1\n",
            "  (0, 1715)\t1\n",
            "  (0, 1335)\t1\n",
            "  (0, 1648)\t1\n",
            "  :\t:\n",
            "  (3031, 1513)\t1\n",
            "  (3031, 1205)\t1\n",
            "  (3031, 1013)\t1\n",
            "  (3031, 167)\t1\n",
            "  (3031, 1873)\t1\n",
            "  (3031, 890)\t1\n",
            "  (3031, 393)\t1\n",
            "  (3031, 1015)\t1\n",
            "  (3031, 1749)\t1\n",
            "  (3031, 1640)\t1\n",
            "  (3032, 1246)\t1\n",
            "  (3032, 623)\t1\n",
            "  (3032, 1789)\t1\n",
            "  (3032, 1901)\t1\n",
            "  (3032, 231)\t1\n",
            "  (3032, 1756)\t2\n",
            "  (3032, 1839)\t1\n",
            "  (3032, 924)\t2\n",
            "  (3032, 1473)\t3\n",
            "  (3032, 859)\t1\n",
            "  (3032, 1900)\t1\n",
            "  (3032, 156)\t1\n",
            "  (3032, 38)\t1\n",
            "  (3032, 1303)\t1\n",
            "  (3032, 899)\t1\n"
          ]
        }
      ]
    },
    {
      "cell_type": "code",
      "source": [
        "#学習用データを分割して, 投稿前の精度検証を行う\n",
        "\n",
        "from sklearn.model_selection import train_test_split\n",
        "\n",
        "delimit_num = train.shape[0]\n",
        "train_bow = bow[:delimit_num, :]\n",
        "test_bow = bow[delimit_num:, :]\n",
        "\n",
        "x_bow_train, x_bow_valid, y_bow_train, y_bow_valid = train_test_split(train_bow, train['jobflag'], test_size=0.3, random_state=0)"
      ],
      "metadata": {
        "id": "GamVPDh1CLhR"
      },
      "execution_count": null,
      "outputs": []
    },
    {
      "cell_type": "markdown",
      "source": [
        "#### 学習・予測の部分を変更"
      ],
      "metadata": {
        "id": "HGQnWp2fpgT0"
      }
    },
    {
      "cell_type": "code",
      "source": [
        "#XGBを用いて分類器を作成し、学習・予測を行う　1回目\n",
        "\n",
        "# from xgboost import XGBClassifier\n",
        "\n",
        "# mod = XGBClassifier(max_depth=6, n_estimators=1000, n_jobs=-1)\n",
        "# mod.fit(x_bow_train, y_bow_train)\n",
        "# pred = mod.predict(x_bow_valid)"
      ],
      "metadata": {
        "id": "eGWzUHI5CVpF"
      },
      "execution_count": null,
      "outputs": []
    },
    {
      "cell_type": "code",
      "source": [
        "# SVMで分類器を作成する 2回目(rbf) 4回目(linear)\n",
        "\n",
        "from sklearn.svm import SVC\n",
        "mod = SVC(C=000.1,kernel='linear')\n",
        "mod.fit(x_bow_train, y_bow_train)\n",
        "pred = mod.predict(x_bow_valid)"
      ],
      "metadata": {
        "id": "HOG0czdXplrM"
      },
      "execution_count": null,
      "outputs": []
    },
    {
      "cell_type": "code",
      "source": [
        "# k近傍法 3回目←びみょい\n",
        "\n",
        "# from sklearn.neighbors import KNeighborsClassifier\n",
        "\n",
        "# mod = KNeighborsClassifier(n_neighbors=4, p=2)\n",
        "# mod.fit(x_bow_train, y_bow_train)\n",
        "# pred = mod.predict(x_bow_valid)"
      ],
      "metadata": {
        "id": "XRD-6rubtS6T"
      },
      "execution_count": null,
      "outputs": []
    },
    {
      "cell_type": "code",
      "source": [
        "from sklearn.metrics import confusion_matrix, classification_report\n",
        "labels = [1, 2, 3, 4]\n",
        "re_labels = [\"DS\", \"ML\", \"SE\", \"Cons\"]\n",
        "\n",
        "#混同行列の作成\n",
        "conf_mx = confusion_matrix(y_bow_valid, pred, labels=labels)\n",
        "conf_df = pd.DataFrame(data=conf_mx, index=[x + \"(act)\" for x in re_labels], columns=[x + \"(pred)\" for x in re_labels])\n",
        "\n",
        "#可視化\n",
        "plt.figure(figsize=(4, 4), dpi=150)\n",
        "sns.heatmap(conf_df, cmap='Blues', annot=True, fmt='d', annot_kws={\"size\": 12}).invert_yaxis()\n",
        "plt.tight_layout()\n",
        " \n",
        "print(classification_report(y_bow_valid, pred, labels=labels, digits=3))"
      ],
      "metadata": {
        "colab": {
          "base_uri": "https://localhost:8080/",
          "height": 793
        },
        "id": "6jKL9ggtCYbb",
        "outputId": "c2e9277f-5cce-4d10-cea7-d0e86e57cfa4"
      },
      "execution_count": null,
      "outputs": [
        {
          "output_type": "stream",
          "name": "stdout",
          "text": [
            "              precision    recall  f1-score   support\n",
            "\n",
            "           1      0.622     0.781     0.693       137\n",
            "           2      0.500     0.273     0.353        22\n",
            "           3      0.811     0.770     0.790       139\n",
            "           4      0.784     0.694     0.736       157\n",
            "\n",
            "    accuracy                          0.723       455\n",
            "   macro avg      0.679     0.629     0.643       455\n",
            "weighted avg      0.730     0.723     0.721       455\n",
            "\n"
          ]
        },
        {
          "output_type": "display_data",
          "data": {
            "text/plain": [
              "<Figure size 600x600 with 2 Axes>"
            ],
            "image/png": "[encoded data removed]"
          },
          "metadata": {
            "needs_background": "light"
          }
        }
      ]
    },
    {
      "cell_type": "code",
      "source": [
        "# グリッドサーチでハイパーパラメータのチューニング\n",
        "\n",
        "from sklearn.model_selection import GridSearchCV\n",
        "from sklearn.svm import SVC\n",
        "pipe_svc = SVC(random_state=1)\n",
        "param_range = [0.001,0.01,0.1,1,10,100]\n",
        "param_grid = [{'C':param_range, 'kernel':['linear']},{'C':param_range, 'gamma':param_range,'kernel':['rbf']}]\n",
        "gs = GridSearchCV(estimator=pipe_svc,param_grid=param_grid,scoring='f1',cv=10,n_jobs=-1)\n",
        "gs = gs.fit(x_bow_train, y_bow_train)\n",
        "print(gs.best_score_)\n",
        "print(gs.best_params_)"
      ],
      "metadata": {
        "colab": {
          "base_uri": "https://localhost:8080/"
        },
        "id": "z6wl3J9mvxxs",
        "outputId": "7eba7d29-8e6f-4f41-f514-e29e83fa55e1"
      },
      "execution_count": null,
      "outputs": [
        {
          "output_type": "stream",
          "name": "stderr",
          "text": [
            "/usr/local/lib/python3.7/dist-packages/sklearn/model_selection/_search.py:972: UserWarning: One or more of the test scores are non-finite: [nan nan nan nan nan nan nan nan nan nan nan nan nan nan nan nan nan nan\n",
            " nan nan nan nan nan nan nan nan nan nan nan nan nan nan nan nan nan nan\n",
            " nan nan nan nan nan nan]\n",
            "  category=UserWarning,\n"
          ]
        },
        {
          "output_type": "stream",
          "name": "stdout",
          "text": [
            "nan\n",
            "{'C': 0.001, 'kernel': 'linear'}\n"
          ]
        }
      ]
    },
    {
      "cell_type": "code",
      "source": [
        "mod.fit(train_bow, train['jobflag'])\n",
        "pred_sub = mod.predict(test_bow)"
      ],
      "metadata": {
        "id": "wt7DmYiKChqW"
      },
      "execution_count": null,
      "outputs": []
    },
    {
      "cell_type": "code",
      "source": [
        "sample_submit_df = pd.DataFrame([test['id'], pred_sub]).T\n",
        "sample_submit_df.to_csv('./sample.csv', header=None, index=None)"
      ],
      "metadata": {
        "id": "8cRSG-LjCz6u"
      },
      "execution_count": null,
      "outputs": []
    },
    {
      "cell_type": "code",
      "source": [
        "# 提出\n",
        "# !signate submit --competition-id=735 ./sample.csv --note 線形のSVMを使用"
      ],
      "metadata": {
        "colab": {
          "base_uri": "https://localhost:8080/"
        },
        "id": "F9ZOM58CQAlJ",
        "outputId": "3537523d-f687-4879-9cf7-4cd6b6747448"
      },
      "execution_count": null,
      "outputs": [
        {
          "output_type": "stream",
          "name": "stdout",
          "text": [
            "\u001b[32mYou have successfully submitted your predictions.We will send you the submission result to your email address.\u001b[0m\n"
          ]
        }
      ]
    },
    {
      "cell_type": "markdown",
      "source": [
        "\n",
        "\n",
        "1.   文字列を整形する\n",
        "    1. 正規表現？\n",
        "    1. htmlパーサー？\n",
        "1.   テキスト集合から特徴量を抽出するアルゴリズムを適用\n",
        "    1. bag-of-words?\n",
        "    1. word2vec?\n",
        "    1. BERT??\n",
        "1. 学習用データを分割して交差検証を行う\n",
        "    1. 学習データを7:3くらいで学習データ:検証データに分割する\n",
        "    1. ＊＊＊いくつかあった方法を試す！\n",
        "1. 分類器を作成する\n",
        "    1. 学習する\n",
        "    1. 予測する\n",
        "1. 検証する\n",
        "    1. テストデータセットで検証する\n",
        "\n",
        "\n"
      ],
      "metadata": {
        "id": "8-jslWbRSWOE"
      }
    },
    {
      "cell_type": "markdown",
      "source": [
        "## BERT"
      ],
      "metadata": {
        "id": "qGIULTVxNdj7"
      }
    },
    {
      "cell_type": "markdown",
      "source": [
        "- https://www.tensorflow.org/text/tutorials/classify_text_with_bert\n"
      ],
      "metadata": {
        "id": "XEIs9whXTpnM"
      }
    },
    {
      "cell_type": "markdown",
      "source": [
        "### Settings"
      ],
      "metadata": {
        "id": "DkmTG8Okleeg"
      }
    },
    {
      "cell_type": "code",
      "source": [
        "# install\n",
        "!pip install -q -U tensorflow-text\n",
        "!pip install -q tf-models-official"
      ],
      "metadata": {
        "colab": {
          "base_uri": "https://localhost:8080/"
        },
        "id": "9OQIcnkch2Lv",
        "outputId": "6e625e36-de6c-450e-85c6-4f00d08076b2"
      },
      "execution_count": 13,
      "outputs": [
        {
          "output_type": "stream",
          "name": "stdout",
          "text": [
            "\u001b[K     |████████████████████████████████| 4.6 MB 32.7 MB/s \n",
            "\u001b[K     |████████████████████████████████| 511.7 MB 6.4 kB/s \n",
            "\u001b[K     |████████████████████████████████| 5.8 MB 58.0 MB/s \n",
            "\u001b[K     |████████████████████████████████| 1.6 MB 64.5 MB/s \n",
            "\u001b[K     |████████████████████████████████| 438 kB 65.1 MB/s \n",
            "\u001b[K     |████████████████████████████████| 127 kB 55.0 MB/s \n",
            "\u001b[31mERROR: pip's dependency resolver does not currently take into account all the packages that are installed. This behaviour is the source of the following dependency conflicts.\n",
            "signate 0.9.9 requires urllib3>=1.26.7, but you have urllib3 1.25.11 which is incompatible.\u001b[0m\n",
            "\u001b[?25h"
          ]
        }
      ]
    },
    {
      "cell_type": "code",
      "source": [
        "# ライブラリのインポート\n",
        "\n",
        "import os\n",
        "import shutil\n",
        "\n",
        "import tensorflow as tf\n",
        "import tensorflow_hub as hub\n",
        "import tensorflow_text as text\n",
        "from official.nlp import optimization # to create AdamW optimizer\n",
        "import matplotlib.pyplot as plt\n",
        "\n",
        "import pandas as pd\n",
        "import matplotlib.pyplot as plt\n",
        "import seaborn as sns\n",
        "\n",
        "tf.get_logger().setLevel('ERROR')"
      ],
      "metadata": {
        "id": "KXsCNN9Pkjzx"
      },
      "execution_count": 15,
      "outputs": []
    },
    {
      "cell_type": "code",
      "source": [
        "#学習用データと評価用データの読み込み\n",
        "train = pd.read_csv(\"./train.csv\")\n",
        "test = pd.read_csv(\"./test.csv\")"
      ],
      "metadata": {
        "id": "LCPzWlp0JFYs"
      },
      "execution_count": 5,
      "outputs": []
    },
    {
      "cell_type": "code",
      "source": [
        "#データのサイズ確認\n",
        "print(train.shape)\n",
        "print(test.shape)"
      ],
      "metadata": {
        "colab": {
          "base_uri": "https://localhost:8080/"
        },
        "id": "wlyY00ctehUr",
        "outputId": "64f62324-a022-418c-c7a4-2e6f3d04511b"
      },
      "execution_count": 6,
      "outputs": [
        {
          "output_type": "stream",
          "name": "stdout",
          "text": [
            "(1516, 3)\n",
            "(1517, 2)\n"
          ]
        }
      ]
    },
    {
      "cell_type": "code",
      "source": [
        "# 学習データの確認\n",
        "train.head()"
      ],
      "metadata": {
        "colab": {
          "base_uri": "https://localhost:8080/",
          "height": 206
        },
        "id": "A00-CpVDeiON",
        "outputId": "6c89ff3d-1899-4068-dad3-3cd3daa71ba2"
      },
      "execution_count": 7,
      "outputs": [
        {
          "output_type": "execute_result",
          "data": {
            "text/plain": [
              "   id                                        description  jobflag\n",
              "0   0  <li>Develop cutting-edge web applications that...        3\n",
              "1   1  <li> Designs and develops high quality, scalab...        3\n",
              "2   2  <li>Functions as a point person for Network St...        4\n",
              "3   3  <li> Work on the technical design, development...        3\n",
              "4   4  <li>Quantify the resources required for a task...        4"
            ],
            "text/html": [
              "\n",
              "  <div id=\"df-aa057aba-fc27-4281-86da-f689edc4f60d\">\n",
              "    <div class=\"colab-df-container\">\n",
              "      <div>\n",
              "<style scoped>\n",
              "    .dataframe tbody tr th:only-of-type {\n",
              "        vertical-align: middle;\n",
              "    }\n",
              "\n",
              "    .dataframe tbody tr th {\n",
              "        vertical-align: top;\n",
              "    }\n",
              "\n",
              "    .dataframe thead th {\n",
              "        text-align: right;\n",
              "    }\n",
              "</style>\n",
              "<table border=\"1\" class=\"dataframe\">\n",
              "  <thead>\n",
              "    <tr style=\"text-align: right;\">\n",
              "      <th></th>\n",
              "      <th>id</th>\n",
              "      <th>description</th>\n",
              "      <th>jobflag</th>\n",
              "    </tr>\n",
              "  </thead>\n",
              "  <tbody>\n",
              "    <tr>\n",
              "      <th>0</th>\n",
              "      <td>0</td>\n",
              "      <td>&lt;li&gt;Develop cutting-edge web applications that...</td>\n",
              "      <td>3</td>\n",
              "    </tr>\n",
              "    <tr>\n",
              "      <th>1</th>\n",
              "      <td>1</td>\n",
              "      <td>&lt;li&gt; Designs and develops high quality, scalab...</td>\n",
              "      <td>3</td>\n",
              "    </tr>\n",
              "    <tr>\n",
              "      <th>2</th>\n",
              "      <td>2</td>\n",
              "      <td>&lt;li&gt;Functions as a point person for Network St...</td>\n",
              "      <td>4</td>\n",
              "    </tr>\n",
              "    <tr>\n",
              "      <th>3</th>\n",
              "      <td>3</td>\n",
              "      <td>&lt;li&gt; Work on the technical design, development...</td>\n",
              "      <td>3</td>\n",
              "    </tr>\n",
              "    <tr>\n",
              "      <th>4</th>\n",
              "      <td>4</td>\n",
              "      <td>&lt;li&gt;Quantify the resources required for a task...</td>\n",
              "      <td>4</td>\n",
              "    </tr>\n",
              "  </tbody>\n",
              "</table>\n",
              "</div>\n",
              "      <button class=\"colab-df-convert\" onclick=\"convertToInteractive('df-aa057aba-fc27-4281-86da-f689edc4f60d')\"\n",
              "              title=\"Convert this dataframe to an interactive table.\"\n",
              "              style=\"display:none;\">\n",
              "        \n",
              "  <svg xmlns=\"http://www.w3.org/2000/svg\" height=\"24px\"viewBox=\"0 0 24 24\"\n",
              "       width=\"24px\">\n",
              "    <path d=\"M0 0h24v24H0V0z\" fill=\"none\"/>\n",
              "    <path d=\"M18.56 5.44l.94 2.06.94-2.06 2.06-.94-2.06-.94-.94-2.06-.94 2.06-2.06.94zm-11 1L8.5 8.5l.94-2.06 2.06-.94-2.06-.94L8.5 2.5l-.94 2.06-2.06.94zm10 10l.94 2.06.94-2.06 2.06-.94-2.06-.94-.94-2.06-.94 2.06-2.06.94z\"/><path d=\"M17.41 7.96l-1.37-1.37c-.4-.4-.92-.59-1.43-.59-.52 0-1.04.2-1.43.59L10.3 9.45l-7.72 7.72c-.78.78-.78 2.05 0 2.83L4 21.41c.39.39.9.59 1.41.59.51 0 1.02-.2 1.41-.59l7.78-7.78 2.81-2.81c.8-.78.8-2.07 0-2.86zM5.41 20L4 18.59l7.72-7.72 1.47 1.35L5.41 20z\"/>\n",
              "  </svg>\n",
              "      </button>\n",
              "      \n",
              "  <style>\n",
              "    .colab-df-container {\n",
              "      display:flex;\n",
              "      flex-wrap:wrap;\n",
              "      gap: 12px;\n",
              "    }\n",
              "\n",
              "    .colab-df-convert {\n",
              "      background-color: #E8F0FE;\n",
              "      border: none;\n",
              "      border-radius: 50%;\n",
              "      cursor: pointer;\n",
              "      display: none;\n",
              "      fill: #1967D2;\n",
              "      height: 32px;\n",
              "      padding: 0 0 0 0;\n",
              "      width: 32px;\n",
              "    }\n",
              "\n",
              "    .colab-df-convert:hover {\n",
              "      background-color: #E2EBFA;\n",
              "      box-shadow: 0px 1px 2px rgba(60, 64, 67, 0.3), 0px 1px 3px 1px rgba(60, 64, 67, 0.15);\n",
              "      fill: #174EA6;\n",
              "    }\n",
              "\n",
              "    [theme=dark] .colab-df-convert {\n",
              "      background-color: #3B4455;\n",
              "      fill: #D2E3FC;\n",
              "    }\n",
              "\n",
              "    [theme=dark] .colab-df-convert:hover {\n",
              "      background-color: #434B5C;\n",
              "      box-shadow: 0px 1px 3px 1px rgba(0, 0, 0, 0.15);\n",
              "      filter: drop-shadow(0px 1px 2px rgba(0, 0, 0, 0.3));\n",
              "      fill: #FFFFFF;\n",
              "    }\n",
              "  </style>\n",
              "\n",
              "      <script>\n",
              "        const buttonEl =\n",
              "          document.querySelector('#df-aa057aba-fc27-4281-86da-f689edc4f60d button.colab-df-convert');\n",
              "        buttonEl.style.display =\n",
              "          google.colab.kernel.accessAllowed ? 'block' : 'none';\n",
              "\n",
              "        async function convertToInteractive(key) {\n",
              "          const element = document.querySelector('#df-aa057aba-fc27-4281-86da-f689edc4f60d');\n",
              "          const dataTable =\n",
              "            await google.colab.kernel.invokeFunction('convertToInteractive',\n",
              "                                                     [key], {});\n",
              "          if (!dataTable) return;\n",
              "\n",
              "          const docLinkHtml = 'Like what you see? Visit the ' +\n",
              "            '<a target=\"_blank\" href=https://colab.research.google.com/notebooks/data_table.ipynb>data table notebook</a>'\n",
              "            + ' to learn more about interactive tables.';\n",
              "          element.innerHTML = '';\n",
              "          dataTable['output_type'] = 'display_data';\n",
              "          await google.colab.output.renderOutput(dataTable, element);\n",
              "          const docLink = document.createElement('div');\n",
              "          docLink.innerHTML = docLinkHtml;\n",
              "          element.appendChild(docLink);\n",
              "        }\n",
              "      </script>\n",
              "    </div>\n",
              "  </div>\n",
              "  "
            ]
          },
          "metadata": {},
          "execution_count": 7
        }
      ]
    },
    {
      "cell_type": "code",
      "source": [
        "# テストデータの確認\n",
        "test.head()"
      ],
      "metadata": {
        "colab": {
          "base_uri": "https://localhost:8080/",
          "height": 206
        },
        "id": "GuSRchdBejU-",
        "outputId": "3ab30d6d-c5c8-47dc-ef78-d0b5a10ae6ef"
      },
      "execution_count": 8,
      "outputs": [
        {
          "output_type": "execute_result",
          "data": {
            "text/plain": [
              "     id                                        description\n",
              "0  1516  <li>Building decision-making models and propos...\n",
              "1  1517  <li>Educate homeowners on the benefits of sola...\n",
              "2  1518  <li><span>Design, develop, document, and imple...\n",
              "3  1519  <li>Apply advanced technical expertise and ski...\n",
              "4  1520  <li>Project manage and deliver against our roa..."
            ],
            "text/html": [
              "\n",
              "  <div id=\"df-ecab8202-a317-4531-b3ec-e5cdb6e933c8\">\n",
              "    <div class=\"colab-df-container\">\n",
              "      <div>\n",
              "<style scoped>\n",
              "    .dataframe tbody tr th:only-of-type {\n",
              "        vertical-align: middle;\n",
              "    }\n",
              "\n",
              "    .dataframe tbody tr th {\n",
              "        vertical-align: top;\n",
              "    }\n",
              "\n",
              "    .dataframe thead th {\n",
              "        text-align: right;\n",
              "    }\n",
              "</style>\n",
              "<table border=\"1\" class=\"dataframe\">\n",
              "  <thead>\n",
              "    <tr style=\"text-align: right;\">\n",
              "      <th></th>\n",
              "      <th>id</th>\n",
              "      <th>description</th>\n",
              "    </tr>\n",
              "  </thead>\n",
              "  <tbody>\n",
              "    <tr>\n",
              "      <th>0</th>\n",
              "      <td>1516</td>\n",
              "      <td>&lt;li&gt;Building decision-making models and propos...</td>\n",
              "    </tr>\n",
              "    <tr>\n",
              "      <th>1</th>\n",
              "      <td>1517</td>\n",
              "      <td>&lt;li&gt;Educate homeowners on the benefits of sola...</td>\n",
              "    </tr>\n",
              "    <tr>\n",
              "      <th>2</th>\n",
              "      <td>1518</td>\n",
              "      <td>&lt;li&gt;&lt;span&gt;Design, develop, document, and imple...</td>\n",
              "    </tr>\n",
              "    <tr>\n",
              "      <th>3</th>\n",
              "      <td>1519</td>\n",
              "      <td>&lt;li&gt;Apply advanced technical expertise and ski...</td>\n",
              "    </tr>\n",
              "    <tr>\n",
              "      <th>4</th>\n",
              "      <td>1520</td>\n",
              "      <td>&lt;li&gt;Project manage and deliver against our roa...</td>\n",
              "    </tr>\n",
              "  </tbody>\n",
              "</table>\n",
              "</div>\n",
              "      <button class=\"colab-df-convert\" onclick=\"convertToInteractive('df-ecab8202-a317-4531-b3ec-e5cdb6e933c8')\"\n",
              "              title=\"Convert this dataframe to an interactive table.\"\n",
              "              style=\"display:none;\">\n",
              "        \n",
              "  <svg xmlns=\"http://www.w3.org/2000/svg\" height=\"24px\"viewBox=\"0 0 24 24\"\n",
              "       width=\"24px\">\n",
              "    <path d=\"M0 0h24v24H0V0z\" fill=\"none\"/>\n",
              "    <path d=\"M18.56 5.44l.94 2.06.94-2.06 2.06-.94-2.06-.94-.94-2.06-.94 2.06-2.06.94zm-11 1L8.5 8.5l.94-2.06 2.06-.94-2.06-.94L8.5 2.5l-.94 2.06-2.06.94zm10 10l.94 2.06.94-2.06 2.06-.94-2.06-.94-.94-2.06-.94 2.06-2.06.94z\"/><path d=\"M17.41 7.96l-1.37-1.37c-.4-.4-.92-.59-1.43-.59-.52 0-1.04.2-1.43.59L10.3 9.45l-7.72 7.72c-.78.78-.78 2.05 0 2.83L4 21.41c.39.39.9.59 1.41.59.51 0 1.02-.2 1.41-.59l7.78-7.78 2.81-2.81c.8-.78.8-2.07 0-2.86zM5.41 20L4 18.59l7.72-7.72 1.47 1.35L5.41 20z\"/>\n",
              "  </svg>\n",
              "      </button>\n",
              "      \n",
              "  <style>\n",
              "    .colab-df-container {\n",
              "      display:flex;\n",
              "      flex-wrap:wrap;\n",
              "      gap: 12px;\n",
              "    }\n",
              "\n",
              "    .colab-df-convert {\n",
              "      background-color: #E8F0FE;\n",
              "      border: none;\n",
              "      border-radius: 50%;\n",
              "      cursor: pointer;\n",
              "      display: none;\n",
              "      fill: #1967D2;\n",
              "      height: 32px;\n",
              "      padding: 0 0 0 0;\n",
              "      width: 32px;\n",
              "    }\n",
              "\n",
              "    .colab-df-convert:hover {\n",
              "      background-color: #E2EBFA;\n",
              "      box-shadow: 0px 1px 2px rgba(60, 64, 67, 0.3), 0px 1px 3px 1px rgba(60, 64, 67, 0.15);\n",
              "      fill: #174EA6;\n",
              "    }\n",
              "\n",
              "    [theme=dark] .colab-df-convert {\n",
              "      background-color: #3B4455;\n",
              "      fill: #D2E3FC;\n",
              "    }\n",
              "\n",
              "    [theme=dark] .colab-df-convert:hover {\n",
              "      background-color: #434B5C;\n",
              "      box-shadow: 0px 1px 3px 1px rgba(0, 0, 0, 0.15);\n",
              "      filter: drop-shadow(0px 1px 2px rgba(0, 0, 0, 0.3));\n",
              "      fill: #FFFFFF;\n",
              "    }\n",
              "  </style>\n",
              "\n",
              "      <script>\n",
              "        const buttonEl =\n",
              "          document.querySelector('#df-ecab8202-a317-4531-b3ec-e5cdb6e933c8 button.colab-df-convert');\n",
              "        buttonEl.style.display =\n",
              "          google.colab.kernel.accessAllowed ? 'block' : 'none';\n",
              "\n",
              "        async function convertToInteractive(key) {\n",
              "          const element = document.querySelector('#df-ecab8202-a317-4531-b3ec-e5cdb6e933c8');\n",
              "          const dataTable =\n",
              "            await google.colab.kernel.invokeFunction('convertToInteractive',\n",
              "                                                     [key], {});\n",
              "          if (!dataTable) return;\n",
              "\n",
              "          const docLinkHtml = 'Like what you see? Visit the ' +\n",
              "            '<a target=\"_blank\" href=https://colab.research.google.com/notebooks/data_table.ipynb>data table notebook</a>'\n",
              "            + ' to learn more about interactive tables.';\n",
              "          element.innerHTML = '';\n",
              "          dataTable['output_type'] = 'display_data';\n",
              "          await google.colab.output.renderOutput(dataTable, element);\n",
              "          const docLink = document.createElement('div');\n",
              "          docLink.innerHTML = docLinkHtml;\n",
              "          element.appendChild(docLink);\n",
              "        }\n",
              "      </script>\n",
              "    </div>\n",
              "  </div>\n",
              "  "
            ]
          },
          "metadata": {},
          "execution_count": 8
        }
      ]
    },
    {
      "cell_type": "markdown",
      "source": [
        "### Preprocessing"
      ],
      "metadata": {
        "id": "WOvjzqGUgJKq"
      }
    },
    {
      "cell_type": "code",
      "source": [
        "#学習用データと評価用データを結合する (両データに対し一括で前処理を行うため)\n",
        "combined = train.append(test, ignore_index=True)"
      ],
      "metadata": {
        "id": "Zkz8WAalgpq8"
      },
      "execution_count": 9,
      "outputs": []
    },
    {
      "cell_type": "code",
      "source": [
        "#以下の手順でdescriptionデータのクリーニングを行う.\n",
        "# <li>などのhtmlタグを削除する\n",
        "# アルファベット以外の文字をスペースに置き換える\n",
        "# 単語長が3文字以下のものは削除する\n",
        "# ステミング（単語の語幹を取り出す作業のこと. 派生語を同じ単語として扱えるようにする）\n",
        "\n",
        "import re\n",
        "from nltk.stem.porter import PorterStemmer\n",
        "stemmer = PorterStemmer()\n",
        "\n",
        "def cleaning(texts):\n",
        "    clean_texts = []\n",
        "    for text in texts:\n",
        "        # htmlタグを削除\n",
        "        text = remove_tag(text)\n",
        "        #アルファベット以外をスペースに置き換え\n",
        "        clean_punc = re.sub(r'[^a-zA-Z]', ' ', text)\n",
        "        #単語長が3文字以下のものは削除する\n",
        "        clean_short_tokenized = [word for word in clean_punc.split() if len(word) > 3]\n",
        "        #ステミング\n",
        "        clean_normalize = [stemmer.stem(word) for word in clean_short_tokenized]\n",
        "        #単語同士をスペースでつなぎ, 文章に戻す\n",
        "        clean_text = ' '.join(clean_normalize)\n",
        "        clean_texts.append(clean_text)\n",
        "    return clean_texts\n",
        "\n",
        "def remove_tag(x):\n",
        "    p = re.compile(r\"<[^>]*?>\")\n",
        "    return p.sub('',x)\n",
        "\n",
        "combined_cleaned = combined.copy()\n",
        "combined_cleaned['description'] = cleaning(combined['description'])"
      ],
      "metadata": {
        "id": "XvEMtRw2gqdO"
      },
      "execution_count": 10,
      "outputs": []
    },
    {
      "cell_type": "code",
      "source": [
        "print(combined_cleaned['description'])"
      ],
      "metadata": {
        "colab": {
          "base_uri": "https://localhost:8080/"
        },
        "id": "urRUCNKPhp4V",
        "outputId": "e794cd9f-18c8-49a7-a7e0-98e136fe97a0"
      },
      "execution_count": 11,
      "outputs": [
        {
          "output_type": "stream",
          "name": "stdout",
          "text": [
            "0       develop cut edg applic that perform superbl ac...\n",
            "1       design develop high qualiti scalabl effici sol...\n",
            "2       function point person network strategi work re...\n",
            "3       work technic design develop releas deploy clou...\n",
            "4       quantifi resourc requir task project relat ent...\n",
            "                              ...                        \n",
            "3028    manag develop interfac requir interfac specif ...\n",
            "3029    lead implement statist model capabl which requ...\n",
            "3030    configur zuora fulfil casesidentifi area compl...\n",
            "3031    gather translat document stakehold requir dema...\n",
            "3032    support busi intellig environ use cogno other ...\n",
            "Name: description, Length: 3033, dtype: object\n"
          ]
        }
      ]
    },
    {
      "cell_type": "code",
      "source": [
        "# raw_train_data\n",
        "print(train)\n",
        "\n",
        "# raw_test_data\n",
        "print(test)"
      ],
      "metadata": {
        "colab": {
          "base_uri": "https://localhost:8080/"
        },
        "id": "IbmcaqyXoVYl",
        "outputId": "679e70c8-074b-4d02-975e-b471f1bc55d4"
      },
      "execution_count": 17,
      "outputs": [
        {
          "output_type": "stream",
          "name": "stdout",
          "text": [
            "        id                                        description  jobflag\n",
            "0        0  <li>Develop cutting-edge web applications that...        3\n",
            "1        1  <li> Designs and develops high quality, scalab...        3\n",
            "2        2  <li>Functions as a point person for Network St...        4\n",
            "3        3  <li> Work on the technical design, development...        3\n",
            "4        4  <li>Quantify the resources required for a task...        4\n",
            "...    ...                                                ...      ...\n",
            "1511  1511  <li>Support detailed reporting, statistical an...        1\n",
            "1512  1512  <li>Collaborate with teams to support the ML t...        2\n",
            "1513  1513  <li> Work with executives and other business l...        1\n",
            "1514  1514  <li>Leading design ideation sessions to ensure...        3\n",
            "1515  1515  <li>Detection of Issues &amp; Impact Assessmen...        1\n",
            "\n",
            "[1516 rows x 3 columns]\n",
            "        id                                        description\n",
            "0     1516  <li>Building decision-making models and propos...\n",
            "1     1517  <li>Educate homeowners on the benefits of sola...\n",
            "2     1518  <li><span>Design, develop, document, and imple...\n",
            "3     1519  <li>Apply advanced technical expertise and ski...\n",
            "4     1520  <li>Project manage and deliver against our roa...\n",
            "...    ...                                                ...\n",
            "1512  3028  <li> Manages the development of interface requ...\n",
            "1513  3029  <li>Lead the implementation of new statistical...\n",
            "1514  3030  <li>Configure Zuora to fulfill use cases</li><...\n",
            "1515  3031  <li>Gather, translate, and document stakeholde...\n",
            "1516  3032  <li>Support a business intelligence environmen...\n",
            "\n",
            "[1517 rows x 2 columns]\n"
          ]
        }
      ]
    },
    {
      "cell_type": "code",
      "source": [
        "# 学習データをさらに、学習用：検証用=8:2に分割する\n",
        "from sklearn.model_selection import train_test_split\n",
        "\n",
        "train_df, val_df = train_test_split(train,test_size=0.2,random_state=42)\n",
        "\n",
        "print(train_df)\n",
        "print(train_df.dtypes)\n",
        "# print(val_df.shape)"
      ],
      "metadata": {
        "colab": {
          "base_uri": "https://localhost:8080/"
        },
        "id": "7_3rErQXnCD5",
        "outputId": "f52e648c-cb87-4ab3-a14c-98820418a64c"
      },
      "execution_count": 61,
      "outputs": [
        {
          "output_type": "stream",
          "name": "stdout",
          "text": [
            "        id                                        description  jobflag\n",
            "1280  1280  <li>Participates in standard business and tech...        3\n",
            "1334  1334  <li>Drive innovative applications of the knowl...        1\n",
            "601    601  <li>Develop models, using C++, Python, and SQL...        1\n",
            "590    590  <li>Collaborate with product management to und...        3\n",
            "718    718  <li>Proficient use of recruiting tools and mat...        4\n",
            "...    ...                                                ...      ...\n",
            "1130  1130  <li>Independently identify issues, develop str...        1\n",
            "1294  1294  <li>Build internal and external timelines and ...        1\n",
            "860    860  <li>Support and improve our recommendation pip...        2\n",
            "1459  1459  <li>Design and lead strategic business initiat...        4\n",
            "1126  1126  <li>Full stack application development (front ...        3\n",
            "\n",
            "[1212 rows x 3 columns]\n",
            "id              int64\n",
            "description    object\n",
            "jobflag         int64\n",
            "dtype: object\n"
          ]
        }
      ]
    },
    {
      "cell_type": "markdown",
      "source": [
        "### Learning\n"
      ],
      "metadata": {
        "id": "TkX9-5IKgOul"
      }
    },
    {
      "cell_type": "code",
      "source": [
        "bert_model_name = 'small_bert/bert_en_uncased_L-4_H-512_A-8' \n",
        "\n",
        "map_name_to_handle = {\n",
        "    'bert_en_uncased_L-12_H-768_A-12':\n",
        "        'https://tfhub.dev/tensorflow/bert_en_uncased_L-12_H-768_A-12/3',\n",
        "    'bert_en_cased_L-12_H-768_A-12':\n",
        "        'https://tfhub.dev/tensorflow/bert_en_cased_L-12_H-768_A-12/3',\n",
        "    'bert_multi_cased_L-12_H-768_A-12':\n",
        "        'https://tfhub.dev/tensorflow/bert_multi_cased_L-12_H-768_A-12/3',\n",
        "    'small_bert/bert_en_uncased_L-2_H-128_A-2':\n",
        "        'https://tfhub.dev/tensorflow/small_bert/bert_en_uncased_L-2_H-128_A-2/1',\n",
        "    'small_bert/bert_en_uncased_L-2_H-256_A-4':\n",
        "        'https://tfhub.dev/tensorflow/small_bert/bert_en_uncased_L-2_H-256_A-4/1',\n",
        "    'small_bert/bert_en_uncased_L-2_H-512_A-8':\n",
        "        'https://tfhub.dev/tensorflow/small_bert/bert_en_uncased_L-2_H-512_A-8/1',\n",
        "    'small_bert/bert_en_uncased_L-2_H-768_A-12':\n",
        "        'https://tfhub.dev/tensorflow/small_bert/bert_en_uncased_L-2_H-768_A-12/1',\n",
        "    'small_bert/bert_en_uncased_L-4_H-128_A-2':\n",
        "        'https://tfhub.dev/tensorflow/small_bert/bert_en_uncased_L-4_H-128_A-2/1',\n",
        "    'small_bert/bert_en_uncased_L-4_H-256_A-4':\n",
        "        'https://tfhub.dev/tensorflow/small_bert/bert_en_uncased_L-4_H-256_A-4/1',\n",
        "    'small_bert/bert_en_uncased_L-4_H-512_A-8':\n",
        "        'https://tfhub.dev/tensorflow/small_bert/bert_en_uncased_L-4_H-512_A-8/1',\n",
        "    'small_bert/bert_en_uncased_L-4_H-768_A-12':\n",
        "        'https://tfhub.dev/tensorflow/small_bert/bert_en_uncased_L-4_H-768_A-12/1',\n",
        "    'small_bert/bert_en_uncased_L-6_H-128_A-2':\n",
        "        'https://tfhub.dev/tensorflow/small_bert/bert_en_uncased_L-6_H-128_A-2/1',\n",
        "    'small_bert/bert_en_uncased_L-6_H-256_A-4':\n",
        "        'https://tfhub.dev/tensorflow/small_bert/bert_en_uncased_L-6_H-256_A-4/1',\n",
        "    'small_bert/bert_en_uncased_L-6_H-512_A-8':\n",
        "        'https://tfhub.dev/tensorflow/small_bert/bert_en_uncased_L-6_H-512_A-8/1',\n",
        "    'small_bert/bert_en_uncased_L-6_H-768_A-12':\n",
        "        'https://tfhub.dev/tensorflow/small_bert/bert_en_uncased_L-6_H-768_A-12/1',\n",
        "    'small_bert/bert_en_uncased_L-8_H-128_A-2':\n",
        "        'https://tfhub.dev/tensorflow/small_bert/bert_en_uncased_L-8_H-128_A-2/1',\n",
        "    'small_bert/bert_en_uncased_L-8_H-256_A-4':\n",
        "        'https://tfhub.dev/tensorflow/small_bert/bert_en_uncased_L-8_H-256_A-4/1',\n",
        "    'small_bert/bert_en_uncased_L-8_H-512_A-8':\n",
        "        'https://tfhub.dev/tensorflow/small_bert/bert_en_uncased_L-8_H-512_A-8/1',\n",
        "    'small_bert/bert_en_uncased_L-8_H-768_A-12':\n",
        "        'https://tfhub.dev/tensorflow/small_bert/bert_en_uncased_L-8_H-768_A-12/1',\n",
        "    'small_bert/bert_en_uncased_L-10_H-128_A-2':\n",
        "        'https://tfhub.dev/tensorflow/small_bert/bert_en_uncased_L-10_H-128_A-2/1',\n",
        "    'small_bert/bert_en_uncased_L-10_H-256_A-4':\n",
        "        'https://tfhub.dev/tensorflow/small_bert/bert_en_uncased_L-10_H-256_A-4/1',\n",
        "    'small_bert/bert_en_uncased_L-10_H-512_A-8':\n",
        "        'https://tfhub.dev/tensorflow/small_bert/bert_en_uncased_L-10_H-512_A-8/1',\n",
        "    'small_bert/bert_en_uncased_L-10_H-768_A-12':\n",
        "        'https://tfhub.dev/tensorflow/small_bert/bert_en_uncased_L-10_H-768_A-12/1',\n",
        "    'small_bert/bert_en_uncased_L-12_H-128_A-2':\n",
        "        'https://tfhub.dev/tensorflow/small_bert/bert_en_uncased_L-12_H-128_A-2/1',\n",
        "    'small_bert/bert_en_uncased_L-12_H-256_A-4':\n",
        "        'https://tfhub.dev/tensorflow/small_bert/bert_en_uncased_L-12_H-256_A-4/1',\n",
        "    'small_bert/bert_en_uncased_L-12_H-512_A-8':\n",
        "        'https://tfhub.dev/tensorflow/small_bert/bert_en_uncased_L-12_H-512_A-8/1',\n",
        "    'small_bert/bert_en_uncased_L-12_H-768_A-12':\n",
        "        'https://tfhub.dev/tensorflow/small_bert/bert_en_uncased_L-12_H-768_A-12/1',\n",
        "    'albert_en_base':\n",
        "        'https://tfhub.dev/tensorflow/albert_en_base/2',\n",
        "    'electra_small':\n",
        "        'https://tfhub.dev/google/electra_small/2',\n",
        "    'electra_base':\n",
        "        'https://tfhub.dev/google/electra_base/2',\n",
        "    'experts_pubmed':\n",
        "        'https://tfhub.dev/google/experts/bert/pubmed/2',\n",
        "    'experts_wiki_books':\n",
        "        'https://tfhub.dev/google/experts/bert/wiki_books/2',\n",
        "    'talking-heads_base':\n",
        "        'https://tfhub.dev/tensorflow/talkheads_ggelu_bert_en_base/1',\n",
        "}\n",
        "\n",
        "map_model_to_preprocess = {\n",
        "    'bert_en_uncased_L-12_H-768_A-12':\n",
        "        'https://tfhub.dev/tensorflow/bert_en_uncased_preprocess/3',\n",
        "    'bert_en_cased_L-12_H-768_A-12':\n",
        "        'https://tfhub.dev/tensorflow/bert_en_cased_preprocess/3',\n",
        "    'small_bert/bert_en_uncased_L-2_H-128_A-2':\n",
        "        'https://tfhub.dev/tensorflow/bert_en_uncased_preprocess/3',\n",
        "    'small_bert/bert_en_uncased_L-2_H-256_A-4':\n",
        "        'https://tfhub.dev/tensorflow/bert_en_uncased_preprocess/3',\n",
        "    'small_bert/bert_en_uncased_L-2_H-512_A-8':\n",
        "        'https://tfhub.dev/tensorflow/bert_en_uncased_preprocess/3',\n",
        "    'small_bert/bert_en_uncased_L-2_H-768_A-12':\n",
        "        'https://tfhub.dev/tensorflow/bert_en_uncased_preprocess/3',\n",
        "    'small_bert/bert_en_uncased_L-4_H-128_A-2':\n",
        "        'https://tfhub.dev/tensorflow/bert_en_uncased_preprocess/3',\n",
        "    'small_bert/bert_en_uncased_L-4_H-256_A-4':\n",
        "        'https://tfhub.dev/tensorflow/bert_en_uncased_preprocess/3',\n",
        "    'small_bert/bert_en_uncased_L-4_H-512_A-8':\n",
        "        'https://tfhub.dev/tensorflow/bert_en_uncased_preprocess/3',\n",
        "    'small_bert/bert_en_uncased_L-4_H-768_A-12':\n",
        "        'https://tfhub.dev/tensorflow/bert_en_uncased_preprocess/3',\n",
        "    'small_bert/bert_en_uncased_L-6_H-128_A-2':\n",
        "        'https://tfhub.dev/tensorflow/bert_en_uncased_preprocess/3',\n",
        "    'small_bert/bert_en_uncased_L-6_H-256_A-4':\n",
        "        'https://tfhub.dev/tensorflow/bert_en_uncased_preprocess/3',\n",
        "    'small_bert/bert_en_uncased_L-6_H-512_A-8':\n",
        "        'https://tfhub.dev/tensorflow/bert_en_uncased_preprocess/3',\n",
        "    'small_bert/bert_en_uncased_L-6_H-768_A-12':\n",
        "        'https://tfhub.dev/tensorflow/bert_en_uncased_preprocess/3',\n",
        "    'small_bert/bert_en_uncased_L-8_H-128_A-2':\n",
        "        'https://tfhub.dev/tensorflow/bert_en_uncased_preprocess/3',\n",
        "    'small_bert/bert_en_uncased_L-8_H-256_A-4':\n",
        "        'https://tfhub.dev/tensorflow/bert_en_uncased_preprocess/3',\n",
        "    'small_bert/bert_en_uncased_L-8_H-512_A-8':\n",
        "        'https://tfhub.dev/tensorflow/bert_en_uncased_preprocess/3',\n",
        "    'small_bert/bert_en_uncased_L-8_H-768_A-12':\n",
        "        'https://tfhub.dev/tensorflow/bert_en_uncased_preprocess/3',\n",
        "    'small_bert/bert_en_uncased_L-10_H-128_A-2':\n",
        "        'https://tfhub.dev/tensorflow/bert_en_uncased_preprocess/3',\n",
        "    'small_bert/bert_en_uncased_L-10_H-256_A-4':\n",
        "        'https://tfhub.dev/tensorflow/bert_en_uncased_preprocess/3',\n",
        "    'small_bert/bert_en_uncased_L-10_H-512_A-8':\n",
        "        'https://tfhub.dev/tensorflow/bert_en_uncased_preprocess/3',\n",
        "    'small_bert/bert_en_uncased_L-10_H-768_A-12':\n",
        "        'https://tfhub.dev/tensorflow/bert_en_uncased_preprocess/3',\n",
        "    'small_bert/bert_en_uncased_L-12_H-128_A-2':\n",
        "        'https://tfhub.dev/tensorflow/bert_en_uncased_preprocess/3',\n",
        "    'small_bert/bert_en_uncased_L-12_H-256_A-4':\n",
        "        'https://tfhub.dev/tensorflow/bert_en_uncased_preprocess/3',\n",
        "    'small_bert/bert_en_uncased_L-12_H-512_A-8':\n",
        "        'https://tfhub.dev/tensorflow/bert_en_uncased_preprocess/3',\n",
        "    'small_bert/bert_en_uncased_L-12_H-768_A-12':\n",
        "        'https://tfhub.dev/tensorflow/bert_en_uncased_preprocess/3',\n",
        "    'bert_multi_cased_L-12_H-768_A-12':\n",
        "        'https://tfhub.dev/tensorflow/bert_multi_cased_preprocess/3',\n",
        "    'albert_en_base':\n",
        "        'https://tfhub.dev/tensorflow/albert_en_preprocess/3',\n",
        "    'electra_small':\n",
        "        'https://tfhub.dev/tensorflow/bert_en_uncased_preprocess/3',\n",
        "    'electra_base':\n",
        "        'https://tfhub.dev/tensorflow/bert_en_uncased_preprocess/3',\n",
        "    'experts_pubmed':\n",
        "        'https://tfhub.dev/tensorflow/bert_en_uncased_preprocess/3',\n",
        "    'experts_wiki_books':\n",
        "        'https://tfhub.dev/tensorflow/bert_en_uncased_preprocess/3',\n",
        "    'talking-heads_base':\n",
        "        'https://tfhub.dev/tensorflow/bert_en_uncased_preprocess/3',\n",
        "}\n",
        "\n",
        "tfhub_handle_encoder = map_name_to_handle[bert_model_name]\n",
        "tfhub_handle_preprocess = map_model_to_preprocess[bert_model_name]\n",
        "\n",
        "print(f'BERT model selected           : {tfhub_handle_encoder}')\n",
        "print(f'Preprocess model auto-selected: {tfhub_handle_preprocess}')"
      ],
      "metadata": {
        "colab": {
          "base_uri": "https://localhost:8080/"
        },
        "id": "lmLJfwikszau",
        "outputId": "7fe5cefd-5d0a-43cd-bf37-3a6a5e99064e"
      },
      "execution_count": 27,
      "outputs": [
        {
          "output_type": "stream",
          "name": "stdout",
          "text": [
            "BERT model selected           : https://tfhub.dev/tensorflow/small_bert/bert_en_uncased_L-4_H-512_A-8/1\n",
            "Preprocess model auto-selected: https://tfhub.dev/tensorflow/bert_en_uncased_preprocess/3\n"
          ]
        }
      ]
    },
    {
      "cell_type": "code",
      "source": [
        "bert_preprocess_model = hub.KerasLayer(tfhub_handle_preprocess)"
      ],
      "metadata": {
        "id": "NQfsV8SytCBy"
      },
      "execution_count": 30,
      "outputs": []
    },
    {
      "cell_type": "code",
      "source": [
        "# text_test = ['this is such an amazing movie!']\n",
        "text_preprocessed = bert_preprocess_model(train_df['description'])\n",
        "\n",
        "print(f'Keys       : {list(text_preprocessed.keys())}')\n",
        "print(f'Shape      : {text_preprocessed[\"input_word_ids\"].shape}')\n",
        "print(f'Word Ids   : {text_preprocessed[\"input_word_ids\"][0, :12]}')\n",
        "print(f'Input Mask : {text_preprocessed[\"input_mask\"][0, :12]}')\n",
        "print(f'Type Ids   : {text_preprocessed[\"input_type_ids\"][0, :12]}')"
      ],
      "metadata": {
        "colab": {
          "base_uri": "https://localhost:8080/"
        },
        "id": "ht4zpViVlOV0",
        "outputId": "a2b0fb8d-3324-45fa-a7e6-a4166793208b"
      },
      "execution_count": 63,
      "outputs": [
        {
          "output_type": "stream",
          "name": "stdout",
          "text": [
            "Keys       : ['input_mask', 'input_word_ids', 'input_type_ids']\n",
            "Shape      : (1212, 128)\n",
            "Word Ids   : [  101  1026  5622  1028 17257  1999  3115  2449  1998  4087  2592  2974]\n",
            "Input Mask : [1 1 1 1 1 1 1 1 1 1 1 1]\n",
            "Type Ids   : [0 0 0 0 0 0 0 0 0 0 0 0]\n"
          ]
        }
      ]
    },
    {
      "cell_type": "code",
      "source": [
        "bert_model = hub.KerasLayer(tfhub_handle_encoder)"
      ],
      "metadata": {
        "id": "2geuuHKHt262"
      },
      "execution_count": 64,
      "outputs": []
    },
    {
      "cell_type": "code",
      "source": [
        "bert_results = bert_model(text_preprocessed)\n",
        "\n",
        "print(f'Loaded BERT: {tfhub_handle_encoder}')\n",
        "print(f'Pooled Outputs Shape:{bert_results[\"pooled_output\"].shape}')\n",
        "print(f'Pooled Outputs Values:{bert_results[\"pooled_output\"][0, :12]}')\n",
        "print(f'Sequence Outputs Shape:{bert_results[\"sequence_output\"].shape}')\n",
        "print(f'Sequence Outputs Values:{bert_results[\"sequence_output\"][0, :12]}')"
      ],
      "metadata": {
        "colab": {
          "base_uri": "https://localhost:8080/"
        },
        "id": "vC9se6GRt6Vp",
        "outputId": "504aca95-2442-440d-b353-345555ece083"
      },
      "execution_count": 65,
      "outputs": [
        {
          "output_type": "stream",
          "name": "stdout",
          "text": [
            "Loaded BERT: https://tfhub.dev/tensorflow/small_bert/bert_en_uncased_L-4_H-512_A-8/1\n",
            "Pooled Outputs Shape:(1212, 512)\n",
            "Pooled Outputs Values:[ 0.8232009   0.6409292  -0.01792385  0.2215765  -0.1269039   0.99365526\n",
            "  0.99615395 -0.64732724 -0.3940386  -0.9305324  -0.01175248 -0.75607663]\n",
            "Sequence Outputs Shape:(1212, 128, 512)\n",
            "Sequence Outputs Values:[[ 0.00611442  0.8721795   0.10588391 ... -1.3166891  -0.44138423\n",
            "   1.2013093 ]\n",
            " [ 0.74261576  1.4158843  -0.09430102 ... -1.9828308  -0.8568333\n",
            "   1.2797911 ]\n",
            " [ 0.6549192  -0.04213241  1.3639845  ... -0.62539965  0.6340686\n",
            "  -1.1540636 ]\n",
            " ...\n",
            " [ 0.13523175  0.16911209 -0.6511225  ... -0.2640455  -0.7490889\n",
            "   0.50339794]\n",
            " [-0.4935878  -0.3400941   0.6179465  ... -0.65160066 -0.92500335\n",
            "   1.4565184 ]\n",
            " [-0.29031226 -0.27704325 -0.06808297 ... -0.375062   -0.77050406\n",
            "   0.9314869 ]]\n"
          ]
        }
      ]
    },
    {
      "cell_type": "code",
      "source": [
        "def build_classifier_model():\n",
        "    text_input = tf.keras.layers.Input(shape=(), dtype=tf.string, name= 'text')\n",
        "    preprocessing_layer = hub.KerasLayer(tfhub_handle_preprocess, name = 'preprocessing')\n",
        "    encoder_inputs = preprocessing_layer(text_input)\n",
        "    encoder= hub.KerasLayer(tfhub_handle_encoder, trainable=True, name = 'BERT_encoder')\n",
        "    outputs = encoder(encoder_inputs)\n",
        "    net = outputs['pooled_output']\n",
        "    net = tf.keras.layers.Dropout(0.1)(net)\n",
        "    net = tf.keras.layers.Dense(1, activation=None, name = 'classifier')(net)\n",
        "    return tf.keras.Model(text_input, net)"
      ],
      "metadata": {
        "id": "V2QCInLzuJSP"
      },
      "execution_count": 34,
      "outputs": []
    },
    {
      "cell_type": "code",
      "source": [
        "print(bert_results)"
      ],
      "metadata": {
        "colab": {
          "base_uri": "https://localhost:8080/"
        },
        "id": "dSAEcXc0CDXL",
        "outputId": "0facb8f5-666c-46b6-93cd-405afa77c2b1"
      },
      "execution_count": 70,
      "outputs": [
        {
          "output_type": "stream",
          "name": "stdout",
          "text": [
            "{'pooled_output': <tf.Tensor: shape=(1212, 512), dtype=float32, numpy=\n",
            "array([[ 0.8232009 ,  0.6409292 , -0.01792385, ..., -0.45971715,\n",
            "        -0.83775693,  0.06807604],\n",
            "       [-0.29102027,  0.9330787 , -0.1251496 , ..., -0.12678039,\n",
            "        -0.39897934, -0.7897967 ],\n",
            "       [ 0.94728774, -0.04472557, -0.23720169, ..., -0.24966331,\n",
            "        -0.56395495,  0.08263954],\n",
            "       ...,\n",
            "       [ 0.60861343,  0.81999534, -0.09979463, ..., -0.42238674,\n",
            "        -0.5822539 , -0.40905207],\n",
            "       [ 0.4570858 ,  0.56236917, -0.30365443, ..., -0.31671968,\n",
            "        -0.7141273 , -0.610977  ],\n",
            "       [ 0.87573475,  0.6591444 , -0.31081644, ..., -0.24548249,\n",
            "        -0.4790525 , -0.29630235]], dtype=float32)>, 'default': <tf.Tensor: shape=(1212, 512), dtype=float32, numpy=\n",
            "array([[ 0.8232009 ,  0.6409292 , -0.01792385, ..., -0.45971715,\n",
            "        -0.83775693,  0.06807604],\n",
            "       [-0.29102027,  0.9330787 , -0.1251496 , ..., -0.12678039,\n",
            "        -0.39897934, -0.7897967 ],\n",
            "       [ 0.94728774, -0.04472557, -0.23720169, ..., -0.24966331,\n",
            "        -0.56395495,  0.08263954],\n",
            "       ...,\n",
            "       [ 0.60861343,  0.81999534, -0.09979463, ..., -0.42238674,\n",
            "        -0.5822539 , -0.40905207],\n",
            "       [ 0.4570858 ,  0.56236917, -0.30365443, ..., -0.31671968,\n",
            "        -0.7141273 , -0.610977  ],\n",
            "       [ 0.87573475,  0.6591444 , -0.31081644, ..., -0.24548249,\n",
            "        -0.4790525 , -0.29630235]], dtype=float32)>, 'sequence_output': <tf.Tensor: shape=(1212, 128, 512), dtype=float32, numpy=\n",
            "array([[[ 6.11442327e-03,  8.72179508e-01,  1.05883911e-01, ...,\n",
            "         -1.31668913e+00, -4.41384226e-01,  1.20130932e+00],\n",
            "        [ 7.42615759e-01,  1.41588426e+00, -9.43010151e-02, ...,\n",
            "         -1.98283076e+00, -8.56833279e-01,  1.27979112e+00],\n",
            "        [ 6.54919207e-01, -4.21324074e-02,  1.36398447e+00, ...,\n",
            "         -6.25399649e-01,  6.34068608e-01, -1.15406358e+00],\n",
            "        ...,\n",
            "        [ 3.36655006e-02,  8.73243690e-01, -1.19101107e-01, ...,\n",
            "         -9.91559029e-01, -1.02128613e+00,  9.59085584e-01],\n",
            "        [ 5.41267455e-01,  6.85534596e-01,  6.80206001e-01, ...,\n",
            "         -2.98149616e-01, -3.44092071e-01,  4.41273928e-01],\n",
            "        [ 4.18127984e-01,  6.78399444e-01,  2.76646405e-01, ...,\n",
            "         -1.02613413e+00, -4.30329815e-02,  1.79693568e+00]],\n",
            "\n",
            "       [[ 5.06855249e-01,  8.59022617e-01,  5.72642803e-01, ...,\n",
            "         -1.62156689e+00,  5.11714399e-01,  7.95788109e-01],\n",
            "        [ 6.83721602e-01,  1.43285632e+00, -2.57457420e-02, ...,\n",
            "         -1.89308202e+00, -2.03881592e-01,  1.19610465e+00],\n",
            "        [ 6.49365306e-01,  2.79145598e-01,  1.35567033e+00, ...,\n",
            "         -1.44794449e-01,  3.04793388e-01, -8.53361249e-01],\n",
            "        ...,\n",
            "        [ 1.64869279e-01,  7.05101252e-01,  2.13905647e-01, ...,\n",
            "         -5.44560373e-01,  8.15772936e-02,  7.96996891e-01],\n",
            "        [ 3.83721441e-01,  5.51499724e-01,  6.23755932e-01, ...,\n",
            "         -3.78908932e-01,  5.17411590e-01,  3.65654230e-01],\n",
            "        [-9.14690048e-02,  1.47103757e-01,  3.87981832e-01, ...,\n",
            "          2.01840520e-01,  3.77689242e-01,  1.00087261e+00]],\n",
            "\n",
            "       [[ 3.59513760e-01,  1.22667098e+00, -1.71356246e-01, ...,\n",
            "         -1.82912862e+00, -1.13511406e-01,  8.93492281e-01],\n",
            "        [ 6.61873281e-01,  1.36257124e+00, -5.16847372e-02, ...,\n",
            "         -1.96644485e+00, -7.44051099e-01,  1.49499524e+00],\n",
            "        [ 5.61429083e-01,  3.00360620e-01,  1.34186149e+00, ...,\n",
            "         -2.42019370e-01,  4.08537000e-01, -8.12504828e-01],\n",
            "        ...,\n",
            "        [ 3.36887270e-01,  3.59542578e-01, -1.21174939e-01, ...,\n",
            "         -4.87518847e-01,  9.85656530e-02,  7.74495721e-01],\n",
            "        [ 2.32472211e-01,  4.72640038e-01,  1.96710423e-01, ...,\n",
            "         -7.36481249e-01, -1.62725747e-01,  7.33590245e-01],\n",
            "        [ 1.15652278e-01,  6.17849112e-01,  4.62995887e-01, ...,\n",
            "         -8.89679611e-01, -3.17277521e-01,  7.93797076e-01]],\n",
            "\n",
            "       ...,\n",
            "\n",
            "       [[ 1.29972234e-01,  8.24594736e-01,  2.78766334e-01, ...,\n",
            "         -1.52503610e+00,  1.67347744e-01,  9.71688390e-01],\n",
            "        [ 7.80361891e-01,  1.35401630e+00, -1.46925777e-01, ...,\n",
            "         -1.87634766e+00, -6.00981116e-01,  1.26452017e+00],\n",
            "        [ 7.60551751e-01,  2.86846995e-01,  1.46918392e+00, ...,\n",
            "         -2.59057701e-01,  3.99155259e-01, -1.06850064e+00],\n",
            "        ...,\n",
            "        [ 2.38816038e-01,  3.66833389e-01,  6.68383539e-02, ...,\n",
            "         -2.14641288e-01, -1.77881747e-01,  7.54752159e-01],\n",
            "        [ 2.37011462e-01,  1.19644836e-01,  3.83668765e-02, ...,\n",
            "         -2.82542139e-01, -6.02326319e-02,  8.98213148e-01],\n",
            "        [ 3.48918140e-04,  2.02940524e-01,  8.03004205e-02, ...,\n",
            "         -1.04662514e+00,  1.91587806e-02,  5.49754918e-01]],\n",
            "\n",
            "       [[ 3.93643916e-01,  9.22110081e-01,  9.16776210e-02, ...,\n",
            "         -1.48954606e+00,  2.56713450e-01,  1.43505001e+00],\n",
            "        [ 6.13254130e-01,  1.31754375e+00, -7.16103092e-02, ...,\n",
            "         -1.98512208e+00, -4.50213462e-01,  1.37883019e+00],\n",
            "        [ 6.04291439e-01,  3.57403874e-01,  1.33208537e+00, ...,\n",
            "         -2.48239756e-01,  4.82374489e-01, -8.41335237e-01],\n",
            "        ...,\n",
            "        [ 5.58712147e-02,  2.31776774e-01,  3.35971825e-02, ...,\n",
            "         -1.90572441e-01,  3.46699685e-01,  1.53660011e+00],\n",
            "        [ 3.62851232e-01,  4.11074162e-01,  5.26944250e-02, ...,\n",
            "         -2.54540056e-01,  4.42398280e-01,  1.24532831e+00],\n",
            "        [ 3.54982913e-01,  7.13344589e-02,  6.04423173e-02, ...,\n",
            "         -4.22419578e-01,  9.59192932e-01,  1.75347173e+00]],\n",
            "\n",
            "       [[ 4.59352553e-01,  3.96071345e-01, -8.65327418e-02, ...,\n",
            "         -1.21393561e+00, -5.11501491e-01,  8.22760165e-04],\n",
            "        [ 8.24892282e-01,  1.43944144e+00, -1.20969251e-01, ...,\n",
            "         -2.02494073e+00, -1.01941741e+00,  1.28706479e+00],\n",
            "        [ 5.30617654e-01,  7.70957619e-02,  1.61069477e+00, ...,\n",
            "         -5.04423141e-01,  2.16566831e-01, -1.13728106e+00],\n",
            "        ...,\n",
            "        [ 3.65177542e-01,  3.45976532e-01,  3.01687688e-01, ...,\n",
            "         -1.09494638e+00,  5.94975352e-01, -1.12569284e+00],\n",
            "        [-7.46949315e-02,  7.05194712e-01,  1.25809267e-01, ...,\n",
            "         -1.09221876e+00,  4.21825260e-01,  2.45422959e-01],\n",
            "        [ 7.04109907e-01,  5.80465317e-01,  4.54561025e-01, ...,\n",
            "         -1.04343617e+00, -5.66895962e-01,  6.52673364e-01]]],\n",
            "      dtype=float32)>, 'encoder_outputs': [<tf.Tensor: shape=(1212, 128, 512), dtype=float32, numpy=\n",
            "array([[[-3.36914748e-01,  1.10113248e-03,  2.95669846e-02, ...,\n",
            "         -6.72805011e-01, -2.16468304e-01,  1.07776754e-01],\n",
            "        [-2.65371501e-01, -1.21327333e-01, -6.18588924e-01, ...,\n",
            "         -2.08989215e+00, -3.86841685e-01,  1.16189778e+00],\n",
            "        [ 2.50431865e-01, -3.75034660e-03,  1.85009086e+00, ...,\n",
            "          1.21787585e-01, -3.60205650e-01, -1.19232059e-01],\n",
            "        ...,\n",
            "        [-1.01167405e+00,  7.80286551e-01,  2.39571512e-01, ...,\n",
            "         -1.75184041e-01, -1.19820428e+00,  1.08388230e-01],\n",
            "        [-7.80703872e-03,  8.68013322e-01,  6.32815182e-01, ...,\n",
            "          2.42891446e-01, -1.58106291e+00,  1.15747535e+00],\n",
            "        [ 8.94625902e-01,  1.54832393e-01,  8.34496439e-01, ...,\n",
            "         -2.11306348e-01, -8.23197961e-01,  1.24392062e-01]],\n",
            "\n",
            "       [[-1.61295608e-01, -1.24028429e-01,  6.22423775e-02, ...,\n",
            "         -6.57718420e-01, -7.80192465e-02, -3.13272513e-03],\n",
            "        [-1.63982272e-01, -2.17165262e-01, -7.85833299e-01, ...,\n",
            "         -1.85927474e+00, -1.44060448e-01,  1.00828290e+00],\n",
            "        [ 3.50817978e-01,  2.29034945e-01,  1.81453848e+00, ...,\n",
            "          1.46842971e-02, -4.16094363e-01, -3.66812587e-01],\n",
            "        ...,\n",
            "        [ 6.24441981e-01, -2.33192012e-01, -4.53944989e-02, ...,\n",
            "          7.90110409e-01, -1.36696994e-01,  6.63854063e-01],\n",
            "        [ 4.25606251e-01, -4.35434043e-01,  3.02006274e-01, ...,\n",
            "          8.72726679e-01,  3.28478783e-01,  3.82300049e-01],\n",
            "        [ 3.33199203e-01, -6.28855050e-01,  5.88780224e-01, ...,\n",
            "          6.26144767e-01,  3.34363520e-01,  4.42477018e-01]],\n",
            "\n",
            "       [[-2.48477221e-01,  1.76844895e-02, -4.68559712e-02, ...,\n",
            "         -6.23564184e-01, -1.90595284e-01,  1.23412974e-01],\n",
            "        [-2.45595962e-01, -2.70306244e-02, -7.15904713e-01, ...,\n",
            "         -1.98689604e+00, -4.04341549e-01,  1.31432176e+00],\n",
            "        [ 4.07274485e-01,  3.31167281e-01,  1.97296989e+00, ...,\n",
            "          2.33862862e-01, -4.52691495e-01, -1.21321879e-01],\n",
            "        ...,\n",
            "        [ 4.74769920e-01, -6.66239440e-01,  6.00356497e-02, ...,\n",
            "          8.10738564e-01, -2.21491635e-01,  6.23384774e-01],\n",
            "        [ 7.87723422e-01, -7.06165135e-01,  2.70514160e-01, ...,\n",
            "          6.64645970e-01, -6.64888471e-02,  7.97246695e-01],\n",
            "        [ 6.99514270e-01, -7.21778989e-01,  7.50933409e-01, ...,\n",
            "          5.65435290e-01,  1.92507848e-01,  3.08718175e-01]],\n",
            "\n",
            "       ...,\n",
            "\n",
            "       [[-2.68520296e-01,  4.77735251e-02,  3.66058797e-02, ...,\n",
            "         -6.06623828e-01, -2.41402999e-01,  1.42049372e-01],\n",
            "        [-1.02480017e-01, -1.06247216e-01, -8.18206429e-01, ...,\n",
            "         -1.82088649e+00, -3.47117513e-01,  1.14571345e+00],\n",
            "        [ 3.91723841e-01,  2.26925254e-01,  1.77920902e+00, ...,\n",
            "          3.07543993e-01, -4.78816837e-01, -3.85392666e-01],\n",
            "        ...,\n",
            "        [ 6.30669594e-01, -3.41208607e-01,  5.15608117e-02, ...,\n",
            "          9.50182855e-01, -3.04728091e-01,  8.05863857e-01],\n",
            "        [ 8.38566661e-01, -4.79280055e-01,  2.23848090e-01, ...,\n",
            "          7.56837785e-01, -2.58667439e-01,  7.20885098e-01],\n",
            "        [ 5.54576457e-01, -7.35748112e-01,  6.23124361e-01, ...,\n",
            "          5.03839910e-01,  3.33530933e-01,  3.60040426e-01]],\n",
            "\n",
            "       [[-2.76175559e-01, -7.21395165e-02,  4.31218334e-02, ...,\n",
            "         -6.76245749e-01, -1.67164043e-01,  1.13219365e-01],\n",
            "        [-2.47240722e-01, -1.25650480e-01, -7.39437819e-01, ...,\n",
            "         -1.99942803e+00, -4.30545628e-01,  1.13426995e+00],\n",
            "        [ 3.03776860e-01,  1.47406474e-01,  1.93600237e+00, ...,\n",
            "          6.55797720e-02, -4.36970383e-01, -2.48372391e-01],\n",
            "        ...,\n",
            "        [ 4.06736284e-01, -3.48702103e-01, -1.42082661e-01, ...,\n",
            "          8.11296046e-01, -1.42847240e-01,  8.07218432e-01],\n",
            "        [ 6.79301858e-01, -2.48788342e-01,  1.26366690e-01, ...,\n",
            "          7.03117967e-01, -5.36028482e-02,  8.44342828e-01],\n",
            "        [ 3.65390897e-01, -5.67896903e-01,  4.57853377e-01, ...,\n",
            "          6.10219419e-01,  3.79652143e-01,  5.22929907e-01]],\n",
            "\n",
            "       [[-2.80149877e-01,  6.24341480e-02,  8.03272948e-02, ...,\n",
            "         -6.87401831e-01, -2.59582430e-01,  1.27020448e-01],\n",
            "        [-3.33288670e-01, -6.57521710e-02, -6.46243215e-01, ...,\n",
            "         -2.00974894e+00, -4.23199385e-01,  1.19453454e+00],\n",
            "        [ 2.60361165e-01,  2.53852099e-01,  1.82359934e+00, ...,\n",
            "          1.65910840e-01, -4.77450311e-01, -3.74326199e-01],\n",
            "        ...,\n",
            "        [ 1.28648198e+00,  5.41385829e-01,  2.87216336e-01, ...,\n",
            "         -1.12239826e+00, -1.21414411e+00, -1.59127742e-01],\n",
            "        [-6.59907043e-01,  2.71050811e-01, -1.86869180e+00, ...,\n",
            "         -7.35148787e-01, -2.63653904e-01,  9.53787118e-02],\n",
            "        [ 8.56270075e-01,  2.08117500e-01,  9.61328208e-01, ...,\n",
            "         -2.55766690e-01, -8.83361936e-01,  1.21455811e-01]]],\n",
            "      dtype=float32)>, <tf.Tensor: shape=(1212, 128, 512), dtype=float32, numpy=\n",
            "array([[[ 9.46362317e-03,  4.25792709e-02,  9.39369053e-02, ...,\n",
            "         -9.12650526e-01, -2.93887883e-01,  3.25431794e-01],\n",
            "        [ 4.95284051e-01,  6.42502248e-01, -9.02932227e-01, ...,\n",
            "         -2.20660233e+00, -6.02400899e-01,  5.71641386e-01],\n",
            "        [-1.08883716e-02, -6.72217309e-01,  7.42291987e-01, ...,\n",
            "         -5.45426488e-01, -5.82961500e-01, -9.66211915e-01],\n",
            "        ...,\n",
            "        [-3.97935808e-01,  1.18047249e+00,  5.86715102e-01, ...,\n",
            "         -6.44250631e-01, -1.09701443e+00,  3.34800929e-01],\n",
            "        [ 3.56801152e-01,  6.44824564e-01,  5.30532181e-01, ...,\n",
            "         -3.14862937e-01, -1.06978285e+00,  9.12121952e-01],\n",
            "        [ 2.09458023e-02,  3.98141891e-02,  1.71999767e-01, ...,\n",
            "         -1.07308343e-01, -1.31872907e-01, -7.38918781e-03]],\n",
            "\n",
            "       [[ 1.16288498e-01,  8.69636685e-02,  7.46267885e-02, ...,\n",
            "         -7.31828988e-01, -1.32342493e-02,  2.49869913e-01],\n",
            "        [ 2.77599603e-01,  5.23659468e-01, -9.61561382e-01, ...,\n",
            "         -1.56721199e+00, -1.15689874e-01,  4.98597294e-01],\n",
            "        [ 8.58851448e-02, -6.93881989e-01,  7.77244508e-01, ...,\n",
            "          1.24351680e-03, -5.79924643e-01, -9.38486278e-01],\n",
            "        ...,\n",
            "        [-5.39441034e-02, -1.56597197e-02, -6.46835193e-02, ...,\n",
            "          5.74793279e-01, -1.21220715e-01,  8.87090921e-01],\n",
            "        [-1.33789226e-01, -1.49655864e-01,  2.66457677e-01, ...,\n",
            "          6.01952314e-01,  3.13760191e-01,  6.70271516e-01],\n",
            "        [-7.76292384e-02, -2.51416564e-01,  5.93068480e-01, ...,\n",
            "          2.66370565e-01,  5.90700090e-01,  8.93206060e-01]],\n",
            "\n",
            "       [[ 1.14693075e-01,  5.72727472e-02, -9.89637822e-02, ...,\n",
            "         -7.98228621e-01, -2.94831306e-01,  1.72439098e-01],\n",
            "        [ 4.45705950e-01,  5.57770848e-01, -1.05185747e+00, ...,\n",
            "         -1.73842978e+00, -6.12985969e-01,  8.52653325e-01],\n",
            "        [-1.54230475e-01, -2.48202577e-01,  9.30472136e-01, ...,\n",
            "          6.71611875e-02, -6.14762843e-01, -9.58767354e-01],\n",
            "        ...,\n",
            "        [ 1.46856606e-01, -3.28606427e-01,  1.19244773e-02, ...,\n",
            "          5.65511703e-01, -4.49254483e-01,  9.57075596e-01],\n",
            "        [ 4.52248991e-01, -3.70265305e-01,  1.65302560e-01, ...,\n",
            "          4.89302278e-01, -3.03056896e-01,  8.95819008e-01],\n",
            "        [ 2.57277310e-01, -3.12316775e-01,  6.05421126e-01, ...,\n",
            "          4.79473770e-01, -1.06146291e-01,  4.91431236e-01]],\n",
            "\n",
            "       ...,\n",
            "\n",
            "       [[ 1.68521553e-01,  7.09689409e-02, -2.32397541e-02, ...,\n",
            "         -9.13031340e-01, -1.84274480e-01,  1.34914219e-01],\n",
            "        [ 4.57485914e-01,  5.73090792e-01, -1.03159225e+00, ...,\n",
            "         -1.72728503e+00, -4.24776644e-01,  6.09135389e-01],\n",
            "        [ 5.28702959e-02, -3.40440482e-01,  6.99838400e-01, ...,\n",
            "         -7.09817186e-02, -5.70632815e-01, -1.26377285e+00],\n",
            "        ...,\n",
            "        [ 3.26836467e-01,  1.12104274e-01, -3.30380872e-02, ...,\n",
            "          3.82470787e-01, -3.03666443e-01,  7.76914477e-01],\n",
            "        [ 6.76942527e-01, -7.20014125e-02,  1.51397854e-01, ...,\n",
            "          2.97269166e-01, -1.98195234e-01,  7.42087483e-01],\n",
            "        [ 1.37130320e-01, -2.20020831e-01,  4.59339678e-01, ...,\n",
            "          1.19389191e-01,  2.35165194e-01,  1.93860412e-01]],\n",
            "\n",
            "       [[ 9.76007283e-02, -5.88076450e-02, -2.55561292e-01, ...,\n",
            "         -7.81237483e-01, -1.41717941e-01,  2.73060501e-01],\n",
            "        [ 3.13102454e-01,  5.50897896e-01, -9.22971308e-01, ...,\n",
            "         -1.83514750e+00, -5.09952962e-01,  8.42828155e-01],\n",
            "        [-7.61661381e-02, -4.20248330e-01,  8.09885144e-01, ...,\n",
            "         -1.62769571e-01, -4.84634340e-01, -1.02791500e+00],\n",
            "        ...,\n",
            "        [ 2.06715956e-01, -2.17137560e-02, -1.78442866e-01, ...,\n",
            "          4.94003981e-01, -3.86458844e-01,  1.08920407e+00],\n",
            "        [ 5.53052962e-01,  7.32895285e-02, -4.37136367e-03, ...,\n",
            "          3.02132428e-01, -2.04949543e-01,  1.18326378e+00],\n",
            "        [ 2.15468481e-01, -3.74319777e-02,  2.71196157e-01, ...,\n",
            "          3.03972811e-01,  2.15516418e-01,  9.56682682e-01]],\n",
            "\n",
            "       [[ 1.21495277e-01,  1.77083358e-01, -6.12240098e-02, ...,\n",
            "         -8.59187067e-01, -4.46800202e-01, -7.01826066e-02],\n",
            "        [ 5.07682443e-01,  4.80054826e-01, -1.06014645e+00, ...,\n",
            "         -2.02090001e+00, -7.20402539e-01,  7.84124792e-01],\n",
            "        [-2.03064844e-01, -3.43741566e-01,  7.46097267e-01, ...,\n",
            "         -1.81871027e-01, -5.68491697e-01, -1.14713836e+00],\n",
            "        ...,\n",
            "        [ 9.19763744e-01,  7.67408371e-01,  4.40256000e-01, ...,\n",
            "         -9.38659787e-01, -1.52970695e+00, -1.14794023e-01],\n",
            "        [ 3.47636938e-01,  3.18895578e-01, -1.01634276e+00, ...,\n",
            "         -3.21929306e-01, -3.25498462e-01, -3.77567671e-03],\n",
            "        [-4.21356410e-03,  3.28222215e-02,  1.85661867e-01, ...,\n",
            "         -9.34497640e-02, -1.26809508e-01,  4.14001197e-03]]],\n",
            "      dtype=float32)>, <tf.Tensor: shape=(1212, 128, 512), dtype=float32, numpy=\n",
            "array([[[ 0.10568785, -0.10338291, -0.03000044, ..., -0.77011704,\n",
            "         -0.3722879 ,  0.7628714 ],\n",
            "        [ 0.25699848,  0.64764166, -1.0959982 , ..., -2.6813192 ,\n",
            "         -1.1884714 ,  0.51244   ],\n",
            "        [-0.16854873, -0.3563728 ,  0.44614586, ..., -0.31494084,\n",
            "         -0.3183251 , -1.5373454 ],\n",
            "        ...,\n",
            "        [-0.19988285,  1.1163744 ,  0.5562966 , ..., -1.091512  ,\n",
            "         -1.5354463 ,  0.5157912 ],\n",
            "        [ 0.5136377 ,  0.71875125,  1.2037766 , ...,  0.31109756,\n",
            "         -0.9965457 ,  0.8045371 ],\n",
            "        [ 0.01477664, -0.05067868,  0.01674751, ...,  0.03455393,\n",
            "         -0.03398126, -0.03691394]],\n",
            "\n",
            "       [[-0.16143522,  0.1009709 ,  0.08078353, ..., -0.7781467 ,\n",
            "         -0.16242503,  0.2717549 ],\n",
            "        [ 0.13730986,  0.7570468 , -0.739802  , ..., -2.0169504 ,\n",
            "         -0.63056177,  0.44023344],\n",
            "        [ 0.10427783, -0.00344466,  0.55568665, ...,  0.26579785,\n",
            "         -0.13991557, -1.3534869 ],\n",
            "        ...,\n",
            "        [-0.43703672,  0.5898414 ,  0.1663762 , ...,  0.8170239 ,\n",
            "         -0.2444213 ,  1.1252327 ],\n",
            "        [-0.7205807 ,  0.5671763 ,  0.64287525, ...,  0.7160514 ,\n",
            "          0.6338461 ,  0.5091042 ],\n",
            "        [-0.6631268 ,  0.44508842,  0.7460502 , ...,  0.5073829 ,\n",
            "          0.634445  ,  0.8069138 ]],\n",
            "\n",
            "       [[ 0.34563   ,  0.12798911, -0.44103715, ..., -0.6860155 ,\n",
            "         -0.590608  ,  0.27519313],\n",
            "        [ 0.19810054,  0.64503574, -0.97976184, ..., -2.2382016 ,\n",
            "         -1.0985886 ,  0.9687339 ],\n",
            "        [ 0.12030902,  0.3153633 ,  0.5784439 , ...,  0.11594114,\n",
            "         -0.25474152, -1.3162073 ],\n",
            "        ...,\n",
            "        [ 0.56640995,  0.09654123,  0.148577  , ...,  0.65417373,\n",
            "         -0.458752  ,  1.1235281 ],\n",
            "        [ 0.696774  ,  0.08115084,  0.35091642, ...,  0.4679951 ,\n",
            "         -0.28848812,  0.80157673],\n",
            "        [ 0.39069265,  0.17557058,  0.66515726, ...,  0.1681189 ,\n",
            "         -0.15557544,  0.22515094]],\n",
            "\n",
            "       ...,\n",
            "\n",
            "       [[ 0.23714015, -0.01048002,  0.07220411, ..., -0.54571795,\n",
            "         -0.37409428,  0.539065  ],\n",
            "        [ 0.30852878,  0.6723757 , -0.90650934, ..., -2.1648486 ,\n",
            "         -1.0549825 ,  0.58342737],\n",
            "        [ 0.3137383 ,  0.20575094,  0.5653719 , ...,  0.30678576,\n",
            "         -0.24795508, -1.7382551 ],\n",
            "        ...,\n",
            "        [ 0.7717915 ,  0.48798335,  0.18088877, ...,  0.7217809 ,\n",
            "         -0.44989136,  0.9931169 ],\n",
            "        [ 0.8798494 ,  0.22424926,  0.3032377 , ...,  0.4032365 ,\n",
            "         -0.3789068 ,  1.0016248 ],\n",
            "        [ 0.18937078,  0.03889081,  0.55800456, ..., -0.21694925,\n",
            "          0.17693104, -0.21162492]],\n",
            "\n",
            "       [[ 0.29517   , -0.08638291, -0.21239954, ..., -0.5558138 ,\n",
            "         -0.42107636,  0.7310149 ],\n",
            "        [ 0.01788615,  0.7202508 , -0.74477434, ..., -2.1019278 ,\n",
            "         -0.869626  ,  0.8257577 ],\n",
            "        [ 0.09003478,  0.14010888,  0.61814886, ...,  0.21472633,\n",
            "         -0.10396604, -1.4746966 ],\n",
            "        ...,\n",
            "        [ 0.3014462 ,  0.08085029,  0.03160744, ...,  0.7236883 ,\n",
            "         -0.41327745,  1.7016816 ],\n",
            "        [ 0.8787085 ,  0.5740931 ,  0.09543662, ...,  0.69550675,\n",
            "         -0.12002649,  1.4050587 ],\n",
            "        [ 0.31934252, -0.06220103,  0.16926435, ...,  0.47707957,\n",
            "          0.35603696,  1.7370633 ]],\n",
            "\n",
            "       [[ 0.32348308, -0.01586952, -0.28448048, ..., -0.82654196,\n",
            "         -0.7389506 ,  0.320798  ],\n",
            "        [ 0.36543363,  0.6484625 , -0.96947163, ..., -2.690508  ,\n",
            "         -1.3802965 ,  0.89640206],\n",
            "        [-0.0929506 ,  0.19964737,  0.62513506, ...,  0.06748283,\n",
            "         -0.5322536 , -1.5023258 ],\n",
            "        ...,\n",
            "        [ 0.14369063,  0.90214664,  0.33266333, ..., -1.1228747 ,\n",
            "          0.07193857, -0.79345655],\n",
            "        [ 0.06997956,  1.0754457 , -0.3867634 , ..., -0.61505735,\n",
            "         -0.11585456,  0.63032997],\n",
            "        [ 0.00493487, -0.05427474,  0.01835492, ...,  0.03121155,\n",
            "         -0.04011143, -0.04960642]]], dtype=float32)>, <tf.Tensor: shape=(1212, 128, 512), dtype=float32, numpy=\n",
            "array([[[ 6.11442327e-03,  8.72179508e-01,  1.05883911e-01, ...,\n",
            "         -1.31668913e+00, -4.41384226e-01,  1.20130932e+00],\n",
            "        [ 7.42615759e-01,  1.41588426e+00, -9.43010151e-02, ...,\n",
            "         -1.98283076e+00, -8.56833279e-01,  1.27979112e+00],\n",
            "        [ 6.54919207e-01, -4.21324074e-02,  1.36398447e+00, ...,\n",
            "         -6.25399649e-01,  6.34068608e-01, -1.15406358e+00],\n",
            "        ...,\n",
            "        [ 3.36655006e-02,  8.73243690e-01, -1.19101107e-01, ...,\n",
            "         -9.91559029e-01, -1.02128613e+00,  9.59085584e-01],\n",
            "        [ 5.41267455e-01,  6.85534596e-01,  6.80206001e-01, ...,\n",
            "         -2.98149616e-01, -3.44092071e-01,  4.41273928e-01],\n",
            "        [ 4.18127984e-01,  6.78399444e-01,  2.76646405e-01, ...,\n",
            "         -1.02613413e+00, -4.30329815e-02,  1.79693568e+00]],\n",
            "\n",
            "       [[ 5.06855249e-01,  8.59022617e-01,  5.72642803e-01, ...,\n",
            "         -1.62156689e+00,  5.11714399e-01,  7.95788109e-01],\n",
            "        [ 6.83721602e-01,  1.43285632e+00, -2.57457420e-02, ...,\n",
            "         -1.89308202e+00, -2.03881592e-01,  1.19610465e+00],\n",
            "        [ 6.49365306e-01,  2.79145598e-01,  1.35567033e+00, ...,\n",
            "         -1.44794449e-01,  3.04793388e-01, -8.53361249e-01],\n",
            "        ...,\n",
            "        [ 1.64869279e-01,  7.05101252e-01,  2.13905647e-01, ...,\n",
            "         -5.44560373e-01,  8.15772936e-02,  7.96996891e-01],\n",
            "        [ 3.83721441e-01,  5.51499724e-01,  6.23755932e-01, ...,\n",
            "         -3.78908932e-01,  5.17411590e-01,  3.65654230e-01],\n",
            "        [-9.14690048e-02,  1.47103757e-01,  3.87981832e-01, ...,\n",
            "          2.01840520e-01,  3.77689242e-01,  1.00087261e+00]],\n",
            "\n",
            "       [[ 3.59513760e-01,  1.22667098e+00, -1.71356246e-01, ...,\n",
            "         -1.82912862e+00, -1.13511406e-01,  8.93492281e-01],\n",
            "        [ 6.61873281e-01,  1.36257124e+00, -5.16847372e-02, ...,\n",
            "         -1.96644485e+00, -7.44051099e-01,  1.49499524e+00],\n",
            "        [ 5.61429083e-01,  3.00360620e-01,  1.34186149e+00, ...,\n",
            "         -2.42019370e-01,  4.08537000e-01, -8.12504828e-01],\n",
            "        ...,\n",
            "        [ 3.36887270e-01,  3.59542578e-01, -1.21174939e-01, ...,\n",
            "         -4.87518847e-01,  9.85656530e-02,  7.74495721e-01],\n",
            "        [ 2.32472211e-01,  4.72640038e-01,  1.96710423e-01, ...,\n",
            "         -7.36481249e-01, -1.62725747e-01,  7.33590245e-01],\n",
            "        [ 1.15652278e-01,  6.17849112e-01,  4.62995887e-01, ...,\n",
            "         -8.89679611e-01, -3.17277521e-01,  7.93797076e-01]],\n",
            "\n",
            "       ...,\n",
            "\n",
            "       [[ 1.29972234e-01,  8.24594736e-01,  2.78766334e-01, ...,\n",
            "         -1.52503610e+00,  1.67347744e-01,  9.71688390e-01],\n",
            "        [ 7.80361891e-01,  1.35401630e+00, -1.46925777e-01, ...,\n",
            "         -1.87634766e+00, -6.00981116e-01,  1.26452017e+00],\n",
            "        [ 7.60551751e-01,  2.86846995e-01,  1.46918392e+00, ...,\n",
            "         -2.59057701e-01,  3.99155259e-01, -1.06850064e+00],\n",
            "        ...,\n",
            "        [ 2.38816038e-01,  3.66833389e-01,  6.68383539e-02, ...,\n",
            "         -2.14641288e-01, -1.77881747e-01,  7.54752159e-01],\n",
            "        [ 2.37011462e-01,  1.19644836e-01,  3.83668765e-02, ...,\n",
            "         -2.82542139e-01, -6.02326319e-02,  8.98213148e-01],\n",
            "        [ 3.48918140e-04,  2.02940524e-01,  8.03004205e-02, ...,\n",
            "         -1.04662514e+00,  1.91587806e-02,  5.49754918e-01]],\n",
            "\n",
            "       [[ 3.93643916e-01,  9.22110081e-01,  9.16776210e-02, ...,\n",
            "         -1.48954606e+00,  2.56713450e-01,  1.43505001e+00],\n",
            "        [ 6.13254130e-01,  1.31754375e+00, -7.16103092e-02, ...,\n",
            "         -1.98512208e+00, -4.50213462e-01,  1.37883019e+00],\n",
            "        [ 6.04291439e-01,  3.57403874e-01,  1.33208537e+00, ...,\n",
            "         -2.48239756e-01,  4.82374489e-01, -8.41335237e-01],\n",
            "        ...,\n",
            "        [ 5.58712147e-02,  2.31776774e-01,  3.35971825e-02, ...,\n",
            "         -1.90572441e-01,  3.46699685e-01,  1.53660011e+00],\n",
            "        [ 3.62851232e-01,  4.11074162e-01,  5.26944250e-02, ...,\n",
            "         -2.54540056e-01,  4.42398280e-01,  1.24532831e+00],\n",
            "        [ 3.54982913e-01,  7.13344589e-02,  6.04423173e-02, ...,\n",
            "         -4.22419578e-01,  9.59192932e-01,  1.75347173e+00]],\n",
            "\n",
            "       [[ 4.59352553e-01,  3.96071345e-01, -8.65327418e-02, ...,\n",
            "         -1.21393561e+00, -5.11501491e-01,  8.22760165e-04],\n",
            "        [ 8.24892282e-01,  1.43944144e+00, -1.20969251e-01, ...,\n",
            "         -2.02494073e+00, -1.01941741e+00,  1.28706479e+00],\n",
            "        [ 5.30617654e-01,  7.70957619e-02,  1.61069477e+00, ...,\n",
            "         -5.04423141e-01,  2.16566831e-01, -1.13728106e+00],\n",
            "        ...,\n",
            "        [ 3.65177542e-01,  3.45976532e-01,  3.01687688e-01, ...,\n",
            "         -1.09494638e+00,  5.94975352e-01, -1.12569284e+00],\n",
            "        [-7.46949315e-02,  7.05194712e-01,  1.25809267e-01, ...,\n",
            "         -1.09221876e+00,  4.21825260e-01,  2.45422959e-01],\n",
            "        [ 7.04109907e-01,  5.80465317e-01,  4.54561025e-01, ...,\n",
            "         -1.04343617e+00, -5.66895962e-01,  6.52673364e-01]]],\n",
            "      dtype=float32)>]}\n"
          ]
        }
      ]
    },
    {
      "cell_type": "code",
      "source": [
        "classifier_model = build_classifier_model()\n",
        "bert_raw_result = classifier_model(tf.constant(train_df['description']))\n",
        "print(tf.sigmoid(bert_raw_result))"
      ],
      "metadata": {
        "colab": {
          "base_uri": "https://localhost:8080/"
        },
        "id": "FfJz5T-9wKad",
        "outputId": "f13a98c6-b194-4ef3-9f94-61a36afb3773"
      },
      "execution_count": 66,
      "outputs": [
        {
          "output_type": "stream",
          "name": "stdout",
          "text": [
            "tf.Tensor(\n",
            "[[0.16289617]\n",
            " [0.17615068]\n",
            " [0.15009183]\n",
            " ...\n",
            " [0.16915816]\n",
            " [0.17607084]\n",
            " [0.20285717]], shape=(1212, 1), dtype=float32)\n"
          ]
        }
      ]
    },
    {
      "cell_type": "code",
      "source": [
        "tf.keras.utils.plot_model(classifier_model)"
      ],
      "metadata": {
        "colab": {
          "base_uri": "https://localhost:8080/",
          "height": 466
        },
        "id": "Y1S6Ka53wjNJ",
        "outputId": "e1dd259c-6482-425e-a4d4-29d442bd86e9"
      },
      "execution_count": 38,
      "outputs": [
        {
          "output_type": "execute_result",
          "data": {
            "image/png": "[encoded data removed]",
            "text/plain": [
              "<IPython.core.display.Image object>"
            ]
          },
          "metadata": {},
          "execution_count": 38
        }
      ]
    },
    {
      "cell_type": "markdown",
      "source": [
        "#### model traininig"
      ],
      "metadata": {
        "id": "7AXDiXUpxjTN"
      }
    },
    {
      "cell_type": "code",
      "source": [
        "# loss function\n",
        "loss = tf.keras.losses.BinaryCrossentropy(from_logits=True)\n",
        "metrics = tf.metrics.BinaryAccuracy()\n"
      ],
      "metadata": {
        "id": "dms7SqXjw5Qc"
      },
      "execution_count": 40,
      "outputs": []
    },
    {
      "cell_type": "code",
      "source": [
        "print(train_ds.dtypes)\n",
        "tf.convert_to_tensor(train_ds)"
      ],
      "metadata": {
        "colab": {
          "base_uri": "https://localhost:8080/",
          "height": 416
        },
        "id": "2eqbbZD-z-xP",
        "outputId": "a6c5a3b4-3018-4a3f-c580-ea250399ced8"
      },
      "execution_count": 60,
      "outputs": [
        {
          "output_type": "stream",
          "name": "stdout",
          "text": [
            "id              int64\n",
            "description    object\n",
            "jobflag         int64\n",
            "dtype: object\n"
          ]
        },
        {
          "output_type": "error",
          "ename": "ValueError",
          "evalue": "ignored",
          "traceback": [
            "\u001b[0;31m---------------------------------------------------------------------------\u001b[0m",
            "\u001b[0;31mValueError\u001b[0m                                Traceback (most recent call last)",
            "\u001b[0;32m<ipython-input-60-07c354a5c844>\u001b[0m in \u001b[0;36m<module>\u001b[0;34m\u001b[0m\n\u001b[1;32m      1\u001b[0m \u001b[0mprint\u001b[0m\u001b[0;34m(\u001b[0m\u001b[0mtrain_ds\u001b[0m\u001b[0;34m.\u001b[0m\u001b[0mdtypes\u001b[0m\u001b[0;34m)\u001b[0m\u001b[0;34m\u001b[0m\u001b[0;34m\u001b[0m\u001b[0m\n\u001b[0;32m----> 2\u001b[0;31m \u001b[0mtf\u001b[0m\u001b[0;34m.\u001b[0m\u001b[0mconvert_to_tensor\u001b[0m\u001b[0;34m(\u001b[0m\u001b[0mtrain_ds\u001b[0m\u001b[0;34m)\u001b[0m\u001b[0;34m\u001b[0m\u001b[0;34m\u001b[0m\u001b[0m\n\u001b[0m",
            "\u001b[0;32m/usr/local/lib/python3.7/dist-packages/tensorflow/python/util/traceback_utils.py\u001b[0m in \u001b[0;36merror_handler\u001b[0;34m(*args, **kwargs)\u001b[0m\n\u001b[1;32m    151\u001b[0m     \u001b[0;32mexcept\u001b[0m \u001b[0mException\u001b[0m \u001b[0;32mas\u001b[0m \u001b[0me\u001b[0m\u001b[0;34m:\u001b[0m\u001b[0;34m\u001b[0m\u001b[0;34m\u001b[0m\u001b[0m\n\u001b[1;32m    152\u001b[0m       \u001b[0mfiltered_tb\u001b[0m \u001b[0;34m=\u001b[0m \u001b[0m_process_traceback_frames\u001b[0m\u001b[0;34m(\u001b[0m\u001b[0me\u001b[0m\u001b[0;34m.\u001b[0m\u001b[0m__traceback__\u001b[0m\u001b[0;34m)\u001b[0m\u001b[0;34m\u001b[0m\u001b[0;34m\u001b[0m\u001b[0m\n\u001b[0;32m--> 153\u001b[0;31m       \u001b[0;32mraise\u001b[0m \u001b[0me\u001b[0m\u001b[0;34m.\u001b[0m\u001b[0mwith_traceback\u001b[0m\u001b[0;34m(\u001b[0m\u001b[0mfiltered_tb\u001b[0m\u001b[0;34m)\u001b[0m \u001b[0;32mfrom\u001b[0m \u001b[0;32mNone\u001b[0m\u001b[0;34m\u001b[0m\u001b[0;34m\u001b[0m\u001b[0m\n\u001b[0m\u001b[1;32m    154\u001b[0m     \u001b[0;32mfinally\u001b[0m\u001b[0;34m:\u001b[0m\u001b[0;34m\u001b[0m\u001b[0;34m\u001b[0m\u001b[0m\n\u001b[1;32m    155\u001b[0m       \u001b[0;32mdel\u001b[0m \u001b[0mfiltered_tb\u001b[0m\u001b[0;34m\u001b[0m\u001b[0;34m\u001b[0m\u001b[0m\n",
            "\u001b[0;32m/usr/local/lib/python3.7/dist-packages/tensorflow/python/framework/constant_op.py\u001b[0m in \u001b[0;36mconvert_to_eager_tensor\u001b[0;34m(value, ctx, dtype)\u001b[0m\n\u001b[1;32m    100\u001b[0m       \u001b[0mdtype\u001b[0m \u001b[0;34m=\u001b[0m \u001b[0mdtypes\u001b[0m\u001b[0;34m.\u001b[0m\u001b[0mas_dtype\u001b[0m\u001b[0;34m(\u001b[0m\u001b[0mdtype\u001b[0m\u001b[0;34m)\u001b[0m\u001b[0;34m.\u001b[0m\u001b[0mas_datatype_enum\u001b[0m\u001b[0;34m\u001b[0m\u001b[0;34m\u001b[0m\u001b[0m\n\u001b[1;32m    101\u001b[0m   \u001b[0mctx\u001b[0m\u001b[0;34m.\u001b[0m\u001b[0mensure_initialized\u001b[0m\u001b[0;34m(\u001b[0m\u001b[0;34m)\u001b[0m\u001b[0;34m\u001b[0m\u001b[0;34m\u001b[0m\u001b[0m\n\u001b[0;32m--> 102\u001b[0;31m   \u001b[0;32mreturn\u001b[0m \u001b[0mops\u001b[0m\u001b[0;34m.\u001b[0m\u001b[0mEagerTensor\u001b[0m\u001b[0;34m(\u001b[0m\u001b[0mvalue\u001b[0m\u001b[0;34m,\u001b[0m \u001b[0mctx\u001b[0m\u001b[0;34m.\u001b[0m\u001b[0mdevice_name\u001b[0m\u001b[0;34m,\u001b[0m \u001b[0mdtype\u001b[0m\u001b[0;34m)\u001b[0m\u001b[0;34m\u001b[0m\u001b[0;34m\u001b[0m\u001b[0m\n\u001b[0m\u001b[1;32m    103\u001b[0m \u001b[0;34m\u001b[0m\u001b[0m\n\u001b[1;32m    104\u001b[0m \u001b[0;34m\u001b[0m\u001b[0m\n",
            "\u001b[0;31mValueError\u001b[0m: Failed to convert a NumPy array to a Tensor (Unsupported object type int)."
          ]
        }
      ]
    },
    {
      "cell_type": "code",
      "source": [
        "epochs = 5\n",
        "steps_per_epoch = tf.data.experimental.cardinality(train_ds).numpy()\n",
        "num_train_steps = steps_per_epoch * epochs\n",
        "num_warmup_steps = int(0.1*num_train_steps)\n",
        "\n",
        "init_lr = 3e-5\n",
        "optimizer = optimization.create_optimizer(init_lr = init_lr,\n",
        "                                          num_train_steps=num_train_steps,\n",
        "                                          num_warmup_steps=num_warmup_steps,\n",
        "                                          optimizer_type='adamw')"
      ],
      "metadata": {
        "colab": {
          "base_uri": "https://localhost:8080/",
          "height": 381
        },
        "id": "CIm3K8dtxmlx",
        "outputId": "dbb6626a-c8dd-46c9-fe03-e0d981fb622e"
      },
      "execution_count": 50,
      "outputs": [
        {
          "output_type": "error",
          "ename": "AttributeError",
          "evalue": "ignored",
          "traceback": [
            "\u001b[0;31m---------------------------------------------------------------------------\u001b[0m",
            "\u001b[0;31mAttributeError\u001b[0m                            Traceback (most recent call last)",
            "\u001b[0;32m<ipython-input-50-e660c8359fd2>\u001b[0m in \u001b[0;36m<module>\u001b[0;34m\u001b[0m\n\u001b[1;32m      1\u001b[0m \u001b[0mepochs\u001b[0m \u001b[0;34m=\u001b[0m \u001b[0;36m5\u001b[0m\u001b[0;34m\u001b[0m\u001b[0;34m\u001b[0m\u001b[0m\n\u001b[0;32m----> 2\u001b[0;31m \u001b[0msteps_per_epoch\u001b[0m \u001b[0;34m=\u001b[0m \u001b[0mtf\u001b[0m\u001b[0;34m.\u001b[0m\u001b[0mdata\u001b[0m\u001b[0;34m.\u001b[0m\u001b[0mexperimental\u001b[0m\u001b[0;34m.\u001b[0m\u001b[0mcardinality\u001b[0m\u001b[0;34m(\u001b[0m\u001b[0mtrain_ds\u001b[0m\u001b[0;34m)\u001b[0m\u001b[0;34m.\u001b[0m\u001b[0mnumpy\u001b[0m\u001b[0;34m(\u001b[0m\u001b[0;34m)\u001b[0m\u001b[0;34m\u001b[0m\u001b[0;34m\u001b[0m\u001b[0m\n\u001b[0m\u001b[1;32m      3\u001b[0m \u001b[0mnum_train_steps\u001b[0m \u001b[0;34m=\u001b[0m \u001b[0msteps_per_epoch\u001b[0m \u001b[0;34m*\u001b[0m \u001b[0mepochs\u001b[0m\u001b[0;34m\u001b[0m\u001b[0;34m\u001b[0m\u001b[0m\n\u001b[1;32m      4\u001b[0m \u001b[0mnum_warmup_steps\u001b[0m \u001b[0;34m=\u001b[0m \u001b[0mint\u001b[0m\u001b[0;34m(\u001b[0m\u001b[0;36m0.1\u001b[0m\u001b[0;34m*\u001b[0m\u001b[0mnum_train_steps\u001b[0m\u001b[0;34m)\u001b[0m\u001b[0;34m\u001b[0m\u001b[0;34m\u001b[0m\u001b[0m\n\u001b[1;32m      5\u001b[0m \u001b[0;34m\u001b[0m\u001b[0m\n",
            "\u001b[0;32m/usr/local/lib/python3.7/dist-packages/tensorflow/python/data/experimental/ops/cardinality.py\u001b[0m in \u001b[0;36mcardinality\u001b[0;34m(dataset)\u001b[0m\n\u001b[1;32m     62\u001b[0m   \"\"\"\n\u001b[1;32m     63\u001b[0m \u001b[0;34m\u001b[0m\u001b[0m\n\u001b[0;32m---> 64\u001b[0;31m   \u001b[0;32mreturn\u001b[0m \u001b[0mgen_dataset_ops\u001b[0m\u001b[0;34m.\u001b[0m\u001b[0mdataset_cardinality\u001b[0m\u001b[0;34m(\u001b[0m\u001b[0mdataset\u001b[0m\u001b[0;34m.\u001b[0m\u001b[0m_variant_tensor\u001b[0m\u001b[0;34m)\u001b[0m  \u001b[0;31m# pylint: disable=protected-access\u001b[0m\u001b[0;34m\u001b[0m\u001b[0;34m\u001b[0m\u001b[0m\n\u001b[0m\u001b[1;32m     65\u001b[0m \u001b[0;34m\u001b[0m\u001b[0m\n\u001b[1;32m     66\u001b[0m \u001b[0;34m\u001b[0m\u001b[0m\n",
            "\u001b[0;32m/usr/local/lib/python3.7/dist-packages/pandas/core/generic.py\u001b[0m in \u001b[0;36m__getattr__\u001b[0;34m(self, name)\u001b[0m\n\u001b[1;32m   5485\u001b[0m         ):\n\u001b[1;32m   5486\u001b[0m             \u001b[0;32mreturn\u001b[0m \u001b[0mself\u001b[0m\u001b[0;34m[\u001b[0m\u001b[0mname\u001b[0m\u001b[0;34m]\u001b[0m\u001b[0;34m\u001b[0m\u001b[0;34m\u001b[0m\u001b[0m\n\u001b[0;32m-> 5487\u001b[0;31m         \u001b[0;32mreturn\u001b[0m \u001b[0mobject\u001b[0m\u001b[0;34m.\u001b[0m\u001b[0m__getattribute__\u001b[0m\u001b[0;34m(\u001b[0m\u001b[0mself\u001b[0m\u001b[0;34m,\u001b[0m \u001b[0mname\u001b[0m\u001b[0;34m)\u001b[0m\u001b[0;34m\u001b[0m\u001b[0;34m\u001b[0m\u001b[0m\n\u001b[0m\u001b[1;32m   5488\u001b[0m \u001b[0;34m\u001b[0m\u001b[0m\n\u001b[1;32m   5489\u001b[0m     \u001b[0;32mdef\u001b[0m \u001b[0m__setattr__\u001b[0m\u001b[0;34m(\u001b[0m\u001b[0mself\u001b[0m\u001b[0;34m,\u001b[0m \u001b[0mname\u001b[0m\u001b[0;34m:\u001b[0m \u001b[0mstr\u001b[0m\u001b[0;34m,\u001b[0m \u001b[0mvalue\u001b[0m\u001b[0;34m)\u001b[0m \u001b[0;34m->\u001b[0m \u001b[0;32mNone\u001b[0m\u001b[0;34m:\u001b[0m\u001b[0;34m\u001b[0m\u001b[0;34m\u001b[0m\u001b[0m\n",
            "\u001b[0;31mAttributeError\u001b[0m: 'DataFrame' object has no attribute '_variant_tensor'"
          ]
        }
      ]
    },
    {
      "cell_type": "code",
      "source": [
        "classifier_model.compile(optimizer=optimizer,\n",
        "                         loss=loss,\n",
        "                         metrics=metrics)"
      ],
      "metadata": {
        "colab": {
          "base_uri": "https://localhost:8080/",
          "height": 201
        },
        "id": "2O_vdsDh2Nfp",
        "outputId": "00a5ea4e-79d7-4919-f344-a8ada1271131"
      },
      "execution_count": 49,
      "outputs": [
        {
          "output_type": "error",
          "ename": "NameError",
          "evalue": "ignored",
          "traceback": [
            "\u001b[0;31m---------------------------------------------------------------------------\u001b[0m",
            "\u001b[0;31mNameError\u001b[0m                                 Traceback (most recent call last)",
            "\u001b[0;32m<ipython-input-49-16bb1f90e1ff>\u001b[0m in \u001b[0;36m<module>\u001b[0;34m\u001b[0m\n\u001b[0;32m----> 1\u001b[0;31m classifier_model.compile(optimizer=optimizer,\n\u001b[0m\u001b[1;32m      2\u001b[0m                          \u001b[0mloss\u001b[0m\u001b[0;34m=\u001b[0m\u001b[0mloss\u001b[0m\u001b[0;34m,\u001b[0m\u001b[0;34m\u001b[0m\u001b[0;34m\u001b[0m\u001b[0m\n\u001b[1;32m      3\u001b[0m                          metrics=metrics)\n",
            "\u001b[0;31mNameError\u001b[0m: name 'optimizer' is not defined"
          ]
        }
      ]
    },
    {
      "cell_type": "code",
      "source": [
        "print(f'Training model with {tfhub_handle_encoder}')\n",
        "hitsotry = classifier_model.fit(x=train_ds,\n",
        "                                validation_data=val_ds,\n",
        "                                epochs=epochs)"
      ],
      "metadata": {
        "colab": {
          "base_uri": "https://localhost:8080/",
          "height": 381
        },
        "id": "Ld0EcjtPyXno",
        "outputId": "63ce4144-ae9c-4751-97ae-3254c4ec50df"
      },
      "execution_count": 51,
      "outputs": [
        {
          "output_type": "stream",
          "name": "stdout",
          "text": [
            "Training model with https://tfhub.dev/tensorflow/small_bert/bert_en_uncased_L-4_H-512_A-8/1\n"
          ]
        },
        {
          "output_type": "error",
          "ename": "RuntimeError",
          "evalue": "ignored",
          "traceback": [
            "\u001b[0;31m---------------------------------------------------------------------------\u001b[0m",
            "\u001b[0;31mRuntimeError\u001b[0m                              Traceback (most recent call last)",
            "\u001b[0;32m<ipython-input-51-3bece6e22cdf>\u001b[0m in \u001b[0;36m<module>\u001b[0;34m\u001b[0m\n\u001b[1;32m      2\u001b[0m hitsotry = classifier_model.fit(x=train_ds,\n\u001b[1;32m      3\u001b[0m                                 \u001b[0mvalidation_data\u001b[0m\u001b[0;34m=\u001b[0m\u001b[0mval_ds\u001b[0m\u001b[0;34m,\u001b[0m\u001b[0;34m\u001b[0m\u001b[0;34m\u001b[0m\u001b[0m\n\u001b[0;32m----> 4\u001b[0;31m                                 epochs=epochs)\n\u001b[0m",
            "\u001b[0;32m/usr/local/lib/python3.7/dist-packages/keras/utils/traceback_utils.py\u001b[0m in \u001b[0;36merror_handler\u001b[0;34m(*args, **kwargs)\u001b[0m\n\u001b[1;32m     65\u001b[0m     \u001b[0;32mexcept\u001b[0m \u001b[0mException\u001b[0m \u001b[0;32mas\u001b[0m \u001b[0me\u001b[0m\u001b[0;34m:\u001b[0m  \u001b[0;31m# pylint: disable=broad-except\u001b[0m\u001b[0;34m\u001b[0m\u001b[0;34m\u001b[0m\u001b[0m\n\u001b[1;32m     66\u001b[0m       \u001b[0mfiltered_tb\u001b[0m \u001b[0;34m=\u001b[0m \u001b[0m_process_traceback_frames\u001b[0m\u001b[0;34m(\u001b[0m\u001b[0me\u001b[0m\u001b[0;34m.\u001b[0m\u001b[0m__traceback__\u001b[0m\u001b[0;34m)\u001b[0m\u001b[0;34m\u001b[0m\u001b[0;34m\u001b[0m\u001b[0m\n\u001b[0;32m---> 67\u001b[0;31m       \u001b[0;32mraise\u001b[0m \u001b[0me\u001b[0m\u001b[0;34m.\u001b[0m\u001b[0mwith_traceback\u001b[0m\u001b[0;34m(\u001b[0m\u001b[0mfiltered_tb\u001b[0m\u001b[0;34m)\u001b[0m \u001b[0;32mfrom\u001b[0m \u001b[0;32mNone\u001b[0m\u001b[0;34m\u001b[0m\u001b[0;34m\u001b[0m\u001b[0m\n\u001b[0m\u001b[1;32m     68\u001b[0m     \u001b[0;32mfinally\u001b[0m\u001b[0;34m:\u001b[0m\u001b[0;34m\u001b[0m\u001b[0;34m\u001b[0m\u001b[0m\n\u001b[1;32m     69\u001b[0m       \u001b[0;32mdel\u001b[0m \u001b[0mfiltered_tb\u001b[0m\u001b[0;34m\u001b[0m\u001b[0;34m\u001b[0m\u001b[0m\n",
            "\u001b[0;32m/usr/local/lib/python3.7/dist-packages/keras/engine/training.py\u001b[0m in \u001b[0;36m_assert_compile_was_called\u001b[0;34m(self)\u001b[0m\n\u001b[1;32m   3158\u001b[0m     \u001b[0;31m# (i.e. whether the model is built and its inputs/outputs are set).\u001b[0m\u001b[0;34m\u001b[0m\u001b[0;34m\u001b[0m\u001b[0;34m\u001b[0m\u001b[0m\n\u001b[1;32m   3159\u001b[0m     \u001b[0;32mif\u001b[0m \u001b[0;32mnot\u001b[0m \u001b[0mself\u001b[0m\u001b[0;34m.\u001b[0m\u001b[0m_is_compiled\u001b[0m\u001b[0;34m:\u001b[0m\u001b[0;34m\u001b[0m\u001b[0;34m\u001b[0m\u001b[0m\n\u001b[0;32m-> 3160\u001b[0;31m       raise RuntimeError('You must compile your model before '\n\u001b[0m\u001b[1;32m   3161\u001b[0m                          \u001b[0;34m'training/testing. '\u001b[0m\u001b[0;34m\u001b[0m\u001b[0;34m\u001b[0m\u001b[0m\n\u001b[1;32m   3162\u001b[0m                          'Use `model.compile(optimizer, loss)`.')\n",
            "\u001b[0;31mRuntimeError\u001b[0m: You must compile your model before training/testing. Use `model.compile(optimizer, loss)`."
          ]
        }
      ]
    },
    {
      "cell_type": "markdown",
      "source": [
        "### Predicting"
      ],
      "metadata": {
        "id": "abzpOgS1gTAS"
      }
    },
    {
      "cell_type": "code",
      "source": [
        ""
      ],
      "metadata": {
        "id": "tpVVw4GegNeH"
      },
      "execution_count": null,
      "outputs": []
    }
  ]
}