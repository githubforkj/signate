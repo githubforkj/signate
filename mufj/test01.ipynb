{
  "nbformat": 4,
  "nbformat_minor": 0,
  "metadata": {
    "colab": {
      "provenance": [],
      "authorship_tag": "ABX9TyMD3mbp+Ck2IBqxn/gtzxyC",
      "include_colab_link": true
    },
    "kernelspec": {
      "name": "python3",
      "display_name": "Python 3"
    },
    "language_info": {
      "name": "python"
    },
    "gpuClass": "standard"
  },
  "cells": [
    {
      "cell_type": "markdown",
      "metadata": {
        "id": "view-in-github",
        "colab_type": "text"
      },
      "source": [
        "<a href=\"https://colab.research.google.com/github/githubforkj/signate/blob/main/mufj/test01.ipynb\" target=\"_parent\"><img src=\"https://colab.research.google.com/assets/colab-badge.svg\" alt=\"Open In Colab\"/></a>"
      ]
    },
    {
      "cell_type": "markdown",
      "source": [
        "# 遊んでみるファイル"
      ],
      "metadata": {
        "id": "65mFjGGVcCHF"
      }
    },
    {
      "cell_type": "code",
      "source": [
        "from google.colab import drive\n",
        "drive.mount('/content/drive')"
      ],
      "metadata": {
        "colab": {
          "base_uri": "https://localhost:8080/"
        },
        "id": "RlQLngXS78RX",
        "outputId": "634fd40d-9bf2-4404-c4dc-3a65c5d13e9c"
      },
      "execution_count": null,
      "outputs": [
        {
          "output_type": "stream",
          "name": "stdout",
          "text": [
            "Mounted at /content/drive\n"
          ]
        }
      ]
    },
    {
      "cell_type": "code",
      "source": [
        "import pandas as pd\n",
        "train = pd.read_csv('/content/drive/MyDrive/signate/mufj/Input/train.csv')\n",
        "test = pd.read_csv('/content/drive/MyDrive/signate/mufj/Input/test.csv')\n",
        "sample_sub = pd.read_csv('/content/drive/MyDrive/signate/mufj/Input/sample_submit.csv', names= ['id','label'])"
      ],
      "metadata": {
        "id": "YH9VOIar79mn"
      },
      "execution_count": null,
      "outputs": []
    },
    {
      "cell_type": "code",
      "source": [
        "sample_sub"
      ],
      "metadata": {
        "colab": {
          "base_uri": "https://localhost:8080/",
          "height": 424
        },
        "id": "ZexwZmLuATYf",
        "outputId": "0165b8a6-7922-4f66-9751-081d6f92edbc"
      },
      "execution_count": null,
      "outputs": [
        {
          "output_type": "execute_result",
          "data": {
            "text/plain": [
              "              id  label\n",
              "0     test_00000      1\n",
              "1     test_00001      0\n",
              "2     test_00002      0\n",
              "3     test_00003      0\n",
              "4     test_00004      1\n",
              "...          ...    ...\n",
              "9795  test_09795      0\n",
              "9796  test_09796      0\n",
              "9797  test_09797      1\n",
              "9798  test_09798      0\n",
              "9799  test_09799      0\n",
              "\n",
              "[9800 rows x 2 columns]"
            ],
            "text/html": [
              "\n",
              "  <div id=\"df-bffafc34-3214-49cb-bb3d-278905937d7e\">\n",
              "    <div class=\"colab-df-container\">\n",
              "      <div>\n",
              "<style scoped>\n",
              "    .dataframe tbody tr th:only-of-type {\n",
              "        vertical-align: middle;\n",
              "    }\n",
              "\n",
              "    .dataframe tbody tr th {\n",
              "        vertical-align: top;\n",
              "    }\n",
              "\n",
              "    .dataframe thead th {\n",
              "        text-align: right;\n",
              "    }\n",
              "</style>\n",
              "<table border=\"1\" class=\"dataframe\">\n",
              "  <thead>\n",
              "    <tr style=\"text-align: right;\">\n",
              "      <th></th>\n",
              "      <th>id</th>\n",
              "      <th>label</th>\n",
              "    </tr>\n",
              "  </thead>\n",
              "  <tbody>\n",
              "    <tr>\n",
              "      <th>0</th>\n",
              "      <td>test_00000</td>\n",
              "      <td>1</td>\n",
              "    </tr>\n",
              "    <tr>\n",
              "      <th>1</th>\n",
              "      <td>test_00001</td>\n",
              "      <td>0</td>\n",
              "    </tr>\n",
              "    <tr>\n",
              "      <th>2</th>\n",
              "      <td>test_00002</td>\n",
              "      <td>0</td>\n",
              "    </tr>\n",
              "    <tr>\n",
              "      <th>3</th>\n",
              "      <td>test_00003</td>\n",
              "      <td>0</td>\n",
              "    </tr>\n",
              "    <tr>\n",
              "      <th>4</th>\n",
              "      <td>test_00004</td>\n",
              "      <td>1</td>\n",
              "    </tr>\n",
              "    <tr>\n",
              "      <th>...</th>\n",
              "      <td>...</td>\n",
              "      <td>...</td>\n",
              "    </tr>\n",
              "    <tr>\n",
              "      <th>9795</th>\n",
              "      <td>test_09795</td>\n",
              "      <td>0</td>\n",
              "    </tr>\n",
              "    <tr>\n",
              "      <th>9796</th>\n",
              "      <td>test_09796</td>\n",
              "      <td>0</td>\n",
              "    </tr>\n",
              "    <tr>\n",
              "      <th>9797</th>\n",
              "      <td>test_09797</td>\n",
              "      <td>1</td>\n",
              "    </tr>\n",
              "    <tr>\n",
              "      <th>9798</th>\n",
              "      <td>test_09798</td>\n",
              "      <td>0</td>\n",
              "    </tr>\n",
              "    <tr>\n",
              "      <th>9799</th>\n",
              "      <td>test_09799</td>\n",
              "      <td>0</td>\n",
              "    </tr>\n",
              "  </tbody>\n",
              "</table>\n",
              "<p>9800 rows × 2 columns</p>\n",
              "</div>\n",
              "      <button class=\"colab-df-convert\" onclick=\"convertToInteractive('df-bffafc34-3214-49cb-bb3d-278905937d7e')\"\n",
              "              title=\"Convert this dataframe to an interactive table.\"\n",
              "              style=\"display:none;\">\n",
              "        \n",
              "  <svg xmlns=\"http://www.w3.org/2000/svg\" height=\"24px\"viewBox=\"0 0 24 24\"\n",
              "       width=\"24px\">\n",
              "    <path d=\"M0 0h24v24H0V0z\" fill=\"none\"/>\n",
              "    <path d=\"M18.56 5.44l.94 2.06.94-2.06 2.06-.94-2.06-.94-.94-2.06-.94 2.06-2.06.94zm-11 1L8.5 8.5l.94-2.06 2.06-.94-2.06-.94L8.5 2.5l-.94 2.06-2.06.94zm10 10l.94 2.06.94-2.06 2.06-.94-2.06-.94-.94-2.06-.94 2.06-2.06.94z\"/><path d=\"M17.41 7.96l-1.37-1.37c-.4-.4-.92-.59-1.43-.59-.52 0-1.04.2-1.43.59L10.3 9.45l-7.72 7.72c-.78.78-.78 2.05 0 2.83L4 21.41c.39.39.9.59 1.41.59.51 0 1.02-.2 1.41-.59l7.78-7.78 2.81-2.81c.8-.78.8-2.07 0-2.86zM5.41 20L4 18.59l7.72-7.72 1.47 1.35L5.41 20z\"/>\n",
              "  </svg>\n",
              "      </button>\n",
              "      \n",
              "  <style>\n",
              "    .colab-df-container {\n",
              "      display:flex;\n",
              "      flex-wrap:wrap;\n",
              "      gap: 12px;\n",
              "    }\n",
              "\n",
              "    .colab-df-convert {\n",
              "      background-color: #E8F0FE;\n",
              "      border: none;\n",
              "      border-radius: 50%;\n",
              "      cursor: pointer;\n",
              "      display: none;\n",
              "      fill: #1967D2;\n",
              "      height: 32px;\n",
              "      padding: 0 0 0 0;\n",
              "      width: 32px;\n",
              "    }\n",
              "\n",
              "    .colab-df-convert:hover {\n",
              "      background-color: #E2EBFA;\n",
              "      box-shadow: 0px 1px 2px rgba(60, 64, 67, 0.3), 0px 1px 3px 1px rgba(60, 64, 67, 0.15);\n",
              "      fill: #174EA6;\n",
              "    }\n",
              "\n",
              "    [theme=dark] .colab-df-convert {\n",
              "      background-color: #3B4455;\n",
              "      fill: #D2E3FC;\n",
              "    }\n",
              "\n",
              "    [theme=dark] .colab-df-convert:hover {\n",
              "      background-color: #434B5C;\n",
              "      box-shadow: 0px 1px 3px 1px rgba(0, 0, 0, 0.15);\n",
              "      filter: drop-shadow(0px 1px 2px rgba(0, 0, 0, 0.3));\n",
              "      fill: #FFFFFF;\n",
              "    }\n",
              "  </style>\n",
              "\n",
              "      <script>\n",
              "        const buttonEl =\n",
              "          document.querySelector('#df-bffafc34-3214-49cb-bb3d-278905937d7e button.colab-df-convert');\n",
              "        buttonEl.style.display =\n",
              "          google.colab.kernel.accessAllowed ? 'block' : 'none';\n",
              "\n",
              "        async function convertToInteractive(key) {\n",
              "          const element = document.querySelector('#df-bffafc34-3214-49cb-bb3d-278905937d7e');\n",
              "          const dataTable =\n",
              "            await google.colab.kernel.invokeFunction('convertToInteractive',\n",
              "                                                     [key], {});\n",
              "          if (!dataTable) return;\n",
              "\n",
              "          const docLinkHtml = 'Like what you see? Visit the ' +\n",
              "            '<a target=\"_blank\" href=https://colab.research.google.com/notebooks/data_table.ipynb>data table notebook</a>'\n",
              "            + ' to learn more about interactive tables.';\n",
              "          element.innerHTML = '';\n",
              "          dataTable['output_type'] = 'display_data';\n",
              "          await google.colab.output.renderOutput(dataTable, element);\n",
              "          const docLink = document.createElement('div');\n",
              "          docLink.innerHTML = docLinkHtml;\n",
              "          element.appendChild(docLink);\n",
              "        }\n",
              "      </script>\n",
              "    </div>\n",
              "  </div>\n",
              "  "
            ]
          },
          "metadata": {},
          "execution_count": 274
        }
      ]
    },
    {
      "cell_type": "code",
      "source": [
        "print(train.isnull().value_counts())\n",
        "print('---------------------------------------------------------')\n",
        "print(test.isnull().value_counts())\n",
        "# 欠損値がないことを確認"
      ],
      "metadata": {
        "colab": {
          "base_uri": "https://localhost:8080/"
        },
        "id": "IvRpYi9MFAZq",
        "outputId": "34d663c5-f5d3-4d86-9e84-cb50c025d3e9"
      },
      "execution_count": null,
      "outputs": [
        {
          "output_type": "stream",
          "name": "stdout",
          "text": [
            "id     goal   country  duration  category1  category2  html_content  state\n",
            "False  False  False    False     False      False      False         False    9791\n",
            "dtype: int64\n",
            "---------------------------------------------------------\n",
            "id     goal   country  duration  category1  category2  html_content\n",
            "False  False  False    False     False      False      False           9800\n",
            "dtype: int64\n"
          ]
        }
      ]
    },
    {
      "cell_type": "code",
      "source": [
        "train.head()"
      ],
      "metadata": {
        "colab": {
          "base_uri": "https://localhost:8080/",
          "height": 337
        },
        "id": "WXfi_0bybfk4",
        "outputId": "bbbc2d87-dfbd-4098-a72f-16b57ed78282"
      },
      "execution_count": null,
      "outputs": [
        {
          "output_type": "execute_result",
          "data": {
            "text/plain": [
              "            id         goal country  duration     category1        category2  \\\n",
              "0  train_00000  20001-21000      US        45           art      mixed media   \n",
              "1  train_00001  19001-20000      US        59          food      restaurants   \n",
              "2  train_00002    2001-3000      US        38           art  performance art   \n",
              "3  train_00003    1001-2000      US        30           art      mixed media   \n",
              "4  train_00004    1001-2000      US        29  film & video        webseries   \n",
              "\n",
              "                                        html_content  state  \n",
              "0  <div class=\"contents\"><div><p><a href=\"http://...      1  \n",
              "1  <div class=\"contents\"><div><p>Cultural Pretzel...      0  \n",
              "2  <div class=\"contents\"><div><p>I want to perfor...      0  \n",
              "3  <div class=\"contents\"><div><div class=\"templat...      1  \n",
              "4  <div class=\"contents\"><div><p>The story of the...      1  "
            ],
            "text/html": [
              "\n",
              "  <div id=\"df-afed616b-5609-4848-b388-ecf4bb82f3f2\">\n",
              "    <div class=\"colab-df-container\">\n",
              "      <div>\n",
              "<style scoped>\n",
              "    .dataframe tbody tr th:only-of-type {\n",
              "        vertical-align: middle;\n",
              "    }\n",
              "\n",
              "    .dataframe tbody tr th {\n",
              "        vertical-align: top;\n",
              "    }\n",
              "\n",
              "    .dataframe thead th {\n",
              "        text-align: right;\n",
              "    }\n",
              "</style>\n",
              "<table border=\"1\" class=\"dataframe\">\n",
              "  <thead>\n",
              "    <tr style=\"text-align: right;\">\n",
              "      <th></th>\n",
              "      <th>id</th>\n",
              "      <th>goal</th>\n",
              "      <th>country</th>\n",
              "      <th>duration</th>\n",
              "      <th>category1</th>\n",
              "      <th>category2</th>\n",
              "      <th>html_content</th>\n",
              "      <th>state</th>\n",
              "    </tr>\n",
              "  </thead>\n",
              "  <tbody>\n",
              "    <tr>\n",
              "      <th>0</th>\n",
              "      <td>train_00000</td>\n",
              "      <td>20001-21000</td>\n",
              "      <td>US</td>\n",
              "      <td>45</td>\n",
              "      <td>art</td>\n",
              "      <td>mixed media</td>\n",
              "      <td>&lt;div class=\"contents\"&gt;&lt;div&gt;&lt;p&gt;&lt;a href=\"http://...</td>\n",
              "      <td>1</td>\n",
              "    </tr>\n",
              "    <tr>\n",
              "      <th>1</th>\n",
              "      <td>train_00001</td>\n",
              "      <td>19001-20000</td>\n",
              "      <td>US</td>\n",
              "      <td>59</td>\n",
              "      <td>food</td>\n",
              "      <td>restaurants</td>\n",
              "      <td>&lt;div class=\"contents\"&gt;&lt;div&gt;&lt;p&gt;Cultural Pretzel...</td>\n",
              "      <td>0</td>\n",
              "    </tr>\n",
              "    <tr>\n",
              "      <th>2</th>\n",
              "      <td>train_00002</td>\n",
              "      <td>2001-3000</td>\n",
              "      <td>US</td>\n",
              "      <td>38</td>\n",
              "      <td>art</td>\n",
              "      <td>performance art</td>\n",
              "      <td>&lt;div class=\"contents\"&gt;&lt;div&gt;&lt;p&gt;I want to perfor...</td>\n",
              "      <td>0</td>\n",
              "    </tr>\n",
              "    <tr>\n",
              "      <th>3</th>\n",
              "      <td>train_00003</td>\n",
              "      <td>1001-2000</td>\n",
              "      <td>US</td>\n",
              "      <td>30</td>\n",
              "      <td>art</td>\n",
              "      <td>mixed media</td>\n",
              "      <td>&lt;div class=\"contents\"&gt;&lt;div&gt;&lt;div class=\"templat...</td>\n",
              "      <td>1</td>\n",
              "    </tr>\n",
              "    <tr>\n",
              "      <th>4</th>\n",
              "      <td>train_00004</td>\n",
              "      <td>1001-2000</td>\n",
              "      <td>US</td>\n",
              "      <td>29</td>\n",
              "      <td>film &amp; video</td>\n",
              "      <td>webseries</td>\n",
              "      <td>&lt;div class=\"contents\"&gt;&lt;div&gt;&lt;p&gt;The story of the...</td>\n",
              "      <td>1</td>\n",
              "    </tr>\n",
              "  </tbody>\n",
              "</table>\n",
              "</div>\n",
              "      <button class=\"colab-df-convert\" onclick=\"convertToInteractive('df-afed616b-5609-4848-b388-ecf4bb82f3f2')\"\n",
              "              title=\"Convert this dataframe to an interactive table.\"\n",
              "              style=\"display:none;\">\n",
              "        \n",
              "  <svg xmlns=\"http://www.w3.org/2000/svg\" height=\"24px\"viewBox=\"0 0 24 24\"\n",
              "       width=\"24px\">\n",
              "    <path d=\"M0 0h24v24H0V0z\" fill=\"none\"/>\n",
              "    <path d=\"M18.56 5.44l.94 2.06.94-2.06 2.06-.94-2.06-.94-.94-2.06-.94 2.06-2.06.94zm-11 1L8.5 8.5l.94-2.06 2.06-.94-2.06-.94L8.5 2.5l-.94 2.06-2.06.94zm10 10l.94 2.06.94-2.06 2.06-.94-2.06-.94-.94-2.06-.94 2.06-2.06.94z\"/><path d=\"M17.41 7.96l-1.37-1.37c-.4-.4-.92-.59-1.43-.59-.52 0-1.04.2-1.43.59L10.3 9.45l-7.72 7.72c-.78.78-.78 2.05 0 2.83L4 21.41c.39.39.9.59 1.41.59.51 0 1.02-.2 1.41-.59l7.78-7.78 2.81-2.81c.8-.78.8-2.07 0-2.86zM5.41 20L4 18.59l7.72-7.72 1.47 1.35L5.41 20z\"/>\n",
              "  </svg>\n",
              "      </button>\n",
              "      \n",
              "  <style>\n",
              "    .colab-df-container {\n",
              "      display:flex;\n",
              "      flex-wrap:wrap;\n",
              "      gap: 12px;\n",
              "    }\n",
              "\n",
              "    .colab-df-convert {\n",
              "      background-color: #E8F0FE;\n",
              "      border: none;\n",
              "      border-radius: 50%;\n",
              "      cursor: pointer;\n",
              "      display: none;\n",
              "      fill: #1967D2;\n",
              "      height: 32px;\n",
              "      padding: 0 0 0 0;\n",
              "      width: 32px;\n",
              "    }\n",
              "\n",
              "    .colab-df-convert:hover {\n",
              "      background-color: #E2EBFA;\n",
              "      box-shadow: 0px 1px 2px rgba(60, 64, 67, 0.3), 0px 1px 3px 1px rgba(60, 64, 67, 0.15);\n",
              "      fill: #174EA6;\n",
              "    }\n",
              "\n",
              "    [theme=dark] .colab-df-convert {\n",
              "      background-color: #3B4455;\n",
              "      fill: #D2E3FC;\n",
              "    }\n",
              "\n",
              "    [theme=dark] .colab-df-convert:hover {\n",
              "      background-color: #434B5C;\n",
              "      box-shadow: 0px 1px 3px 1px rgba(0, 0, 0, 0.15);\n",
              "      filter: drop-shadow(0px 1px 2px rgba(0, 0, 0, 0.3));\n",
              "      fill: #FFFFFF;\n",
              "    }\n",
              "  </style>\n",
              "\n",
              "      <script>\n",
              "        const buttonEl =\n",
              "          document.querySelector('#df-afed616b-5609-4848-b388-ecf4bb82f3f2 button.colab-df-convert');\n",
              "        buttonEl.style.display =\n",
              "          google.colab.kernel.accessAllowed ? 'block' : 'none';\n",
              "\n",
              "        async function convertToInteractive(key) {\n",
              "          const element = document.querySelector('#df-afed616b-5609-4848-b388-ecf4bb82f3f2');\n",
              "          const dataTable =\n",
              "            await google.colab.kernel.invokeFunction('convertToInteractive',\n",
              "                                                     [key], {});\n",
              "          if (!dataTable) return;\n",
              "\n",
              "          const docLinkHtml = 'Like what you see? Visit the ' +\n",
              "            '<a target=\"_blank\" href=https://colab.research.google.com/notebooks/data_table.ipynb>data table notebook</a>'\n",
              "            + ' to learn more about interactive tables.';\n",
              "          element.innerHTML = '';\n",
              "          dataTable['output_type'] = 'display_data';\n",
              "          await google.colab.output.renderOutput(dataTable, element);\n",
              "          const docLink = document.createElement('div');\n",
              "          docLink.innerHTML = docLinkHtml;\n",
              "          element.appendChild(docLink);\n",
              "        }\n",
              "      </script>\n",
              "    </div>\n",
              "  </div>\n",
              "  "
            ]
          },
          "metadata": {},
          "execution_count": 4
        }
      ]
    },
    {
      "cell_type": "code",
      "source": [],
      "metadata": {
        "id": "5pIt3g1jYz8D"
      },
      "execution_count": null,
      "outputs": []
    },
    {
      "cell_type": "code",
      "source": [
        "train['category1'].value_counts().plot()\n",
        "# 10個ほどの質的変数に変更できれば、one-hotエンコーディングできるのでは？"
      ],
      "metadata": {
        "colab": {
          "base_uri": "https://localhost:8080/",
          "height": 282
        },
        "id": "rMztTYBNe4O9",
        "outputId": "0f7bb13f-33ac-463a-9cba-c2643293770e"
      },
      "execution_count": null,
      "outputs": [
        {
          "output_type": "execute_result",
          "data": {
            "text/plain": [
              "<matplotlib.axes._subplots.AxesSubplot at 0x7f06d4545b90>"
            ]
          },
          "metadata": {},
          "execution_count": 12
        },
        {
          "output_type": "display_data",
          "data": {
            "text/plain": [
              "<Figure size 432x288 with 1 Axes>"
            ],
            "image/png": "[encoded data removed]"
          },
          "metadata": {
            "needs_background": "light"
          }
        }
      ]
    },
    {
      "cell_type": "markdown",
      "source": [
        "## 前処理"
      ],
      "metadata": {
        "id": "9bUY2wgY1fil"
      }
    },
    {
      "cell_type": "code",
      "source": [
        "# データ作成\n",
        "\n",
        "import numpy as np\n",
        "from sklearn.model_selection import train_test_split\n",
        "\n",
        "# 学習データを7:3に分割\n",
        "X_train, X_valid = train_test_split(\n",
        "    train,test_size=0.3, random_state=42\n",
        ")\n",
        "\n",
        "# 説明変数と目的変数を分離\n",
        "\n",
        "# 1:NLなし,2:NLあり\n",
        "x_train1 = X_train.iloc[:,1:6]\n",
        "x_train2 = X_train.iloc[:,6:7]\n",
        "y_train = X_train.iloc[:,7:8]\n",
        "x_valid1 = X_valid.iloc[:,1:6]\n",
        "x_valid2 = X_valid.iloc[:,6:7]\n",
        "y_valid = X_valid.iloc[:,7:8]\n",
        "test1 = test.iloc[:,1:6]\n",
        "test2 = test.iloc[:,6:7]\n",
        "\n",
        "\n",
        "test2.info()"
      ],
      "metadata": {
        "colab": {
          "base_uri": "https://localhost:8080/"
        },
        "id": "Z1LBs-FJY1Ii",
        "outputId": "520784f4-2850-463a-8c83-11f7e24c2fae"
      },
      "execution_count": null,
      "outputs": [
        {
          "output_type": "stream",
          "name": "stdout",
          "text": [
            "<class 'pandas.core.frame.DataFrame'>\n",
            "RangeIndex: 9800 entries, 0 to 9799\n",
            "Data columns (total 1 columns):\n",
            " #   Column        Non-Null Count  Dtype \n",
            "---  ------        --------------  ----- \n",
            " 0   html_content  9800 non-null   object\n",
            "dtypes: object(1)\n",
            "memory usage: 76.7+ KB\n"
          ]
        }
      ]
    },
    {
      "cell_type": "code",
      "source": [
        "type(x_train2['html_content'].values)"
      ],
      "metadata": {
        "colab": {
          "base_uri": "https://localhost:8080/"
        },
        "id": "Ql3genMocNQx",
        "outputId": "95c0631f-e410-428b-e47d-5d7a5530b118"
      },
      "execution_count": null,
      "outputs": [
        {
          "output_type": "execute_result",
          "data": {
            "text/plain": [
              "numpy.ndarray"
            ]
          },
          "metadata": {},
          "execution_count": 169
        }
      ]
    },
    {
      "cell_type": "markdown",
      "source": [
        "### 'html_content'の処理"
      ],
      "metadata": {
        "id": "MPLFmvjTiD72"
      }
    },
    {
      "cell_type": "code",
      "source": [
        "# 文章をベクトル化(TFidfを使用)\n",
        "from sklearn.feature_extraction.text import TfidfVectorizer\n",
        "\n",
        "vectorizer = TfidfVectorizer(max_features = 5000)\n",
        "# scipyで疎行列を作成。文字列→ベクトル列に変換\n",
        "x_train2 = vectorizer.fit_transform(x_train2['html_content'].values)\n",
        "x_valid2 = vectorizer.transform(x_valid2['html_content'].values)\n",
        "test2 = vectorizer.transform(test2['html_content'].values)"
      ],
      "metadata": {
        "id": "tnwNr0VCYsaY"
      },
      "execution_count": null,
      "outputs": []
    },
    {
      "cell_type": "code",
      "source": [
        "# 出来上がった形を見る\n",
        "print(x_train2.shape,x_valid2.shape,test2.shape)"
      ],
      "metadata": {
        "colab": {
          "base_uri": "https://localhost:8080/"
        },
        "id": "dkUX5kNrYscp",
        "outputId": "90306a0b-155e-404c-b995-d6fe69d04e96"
      },
      "execution_count": null,
      "outputs": [
        {
          "output_type": "stream",
          "name": "stdout",
          "text": [
            "(6853, 5000) (2938, 5000) (9800, 5000)\n"
          ]
        }
      ]
    },
    {
      "cell_type": "markdown",
      "source": [
        "### 他通常の説明変数の処理"
      ],
      "metadata": {
        "id": "BN64cmreiLhR"
      }
    },
    {
      "cell_type": "code",
      "source": [
        "print(x_train1.info())\n",
        "print(x_valid1.info())"
      ],
      "metadata": {
        "colab": {
          "base_uri": "https://localhost:8080/"
        },
        "id": "ziybQG4VjP3Z",
        "outputId": "ba118405-fed4-412b-cab9-4263d5e45ca8"
      },
      "execution_count": null,
      "outputs": [
        {
          "output_type": "stream",
          "name": "stdout",
          "text": [
            "<class 'pandas.core.frame.DataFrame'>\n",
            "Int64Index: 6853 entries, 486 to 7270\n",
            "Data columns (total 5 columns):\n",
            " #   Column     Non-Null Count  Dtype \n",
            "---  ------     --------------  ----- \n",
            " 0   goal       6853 non-null   object\n",
            " 1   country    6853 non-null   object\n",
            " 2   duration   6853 non-null   int64 \n",
            " 3   category1  6853 non-null   object\n",
            " 4   category2  6853 non-null   object\n",
            "dtypes: int64(1), object(4)\n",
            "memory usage: 321.2+ KB\n",
            "None\n",
            "<class 'pandas.core.frame.DataFrame'>\n",
            "Int64Index: 2938 entries, 6555 to 5428\n",
            "Data columns (total 5 columns):\n",
            " #   Column     Non-Null Count  Dtype \n",
            "---  ------     --------------  ----- \n",
            " 0   goal       2938 non-null   object\n",
            " 1   country    2938 non-null   object\n",
            " 2   duration   2938 non-null   int64 \n",
            " 3   category1  2938 non-null   object\n",
            " 4   category2  2938 non-null   object\n",
            "dtypes: int64(1), object(4)\n",
            "memory usage: 137.7+ KB\n",
            "None\n"
          ]
        }
      ]
    },
    {
      "cell_type": "code",
      "source": [
        "from sklearn.preprocessing import OrdinalEncoder\n",
        "le = OrdinalEncoder()\n",
        "\n",
        "\n",
        "# 学習用、検証用データセット共に、ラベルエンコーディングを一括で行う\n",
        "# 出来上がるのはpandas.DataFrameではなく、numpy.ndarrayであることに注意\n",
        "\n",
        "le.fit(x_train1)\n",
        "x_train1_n = le.transform(x_train1)\n",
        "\n",
        "le.fit(x_valid1)\n",
        "x_valid1_n = le.transform(x_valid1)\n",
        "\n",
        "le.fit(test1)\n",
        "test1_n = le.transform(test1)"
      ],
      "metadata": {
        "id": "riW8wQBeA9gg"
      },
      "execution_count": null,
      "outputs": []
    },
    {
      "cell_type": "code",
      "source": [
        "print(type(x_train1))\n",
        "print(type(x_valid1))\n",
        "print(type(test1))\n",
        "print(type(x_train1_n))\n",
        "print(type(x_valid1_n))\n",
        "print(type(test1_n))"
      ],
      "metadata": {
        "colab": {
          "base_uri": "https://localhost:8080/"
        },
        "id": "VZBW3iHgjc4Z",
        "outputId": "a9db3a22-f696-4a6c-ab2a-a7d5f9af2d84"
      },
      "execution_count": null,
      "outputs": [
        {
          "output_type": "stream",
          "name": "stdout",
          "text": [
            "<class 'pandas.core.frame.DataFrame'>\n",
            "<class 'pandas.core.frame.DataFrame'>\n",
            "<class 'pandas.core.frame.DataFrame'>\n",
            "<class 'numpy.ndarray'>\n",
            "<class 'numpy.ndarray'>\n",
            "<class 'numpy.ndarray'>\n"
          ]
        }
      ]
    },
    {
      "cell_type": "markdown",
      "source": [
        "### モデルの作成"
      ],
      "metadata": {
        "id": "WHAOue72lgMd"
      }
    },
    {
      "cell_type": "code",
      "source": [
        "import lightgbm as lgb"
      ],
      "metadata": {
        "id": "h5aNZdeJeniT"
      },
      "execution_count": null,
      "outputs": []
    },
    {
      "cell_type": "code",
      "source": [
        "# lightgbmで使用するためのDataset形式に変換する\n",
        "train_set1 = lgb.Dataset(x_train1_n,y_train)\n",
        "train_set2 = lgb.Dataset(x_train2,y_train)\n",
        "valid_set1 = lgb.Dataset(x_valid1_n,y_valid)\n",
        "valid_set2 = lgb.Dataset(x_valid2,y_valid)"
      ],
      "metadata": {
        "id": "rDeEjtkoYsfL"
      },
      "execution_count": null,
      "outputs": []
    },
    {
      "cell_type": "code",
      "source": [
        "# パラメータの指定\n",
        "params = {\n",
        "    \"objective\":\"binary\", # 2値分類\n",
        "    \"metric\":\"binary_logloss\", # 2値分類用の損失関数\n",
        "}"
      ],
      "metadata": {
        "id": "7mweuY24YshU"
      },
      "execution_count": null,
      "outputs": []
    },
    {
      "cell_type": "code",
      "source": [
        "# NLなし\n",
        "model1 = lgb.train(\n",
        "    params = params,\n",
        "    train_set = train_set1,\n",
        "    valid_sets = [train_set1, valid_set1],\n",
        "    num_boost_round = 300,\n",
        "    early_stopping_rounds = 50,\n",
        "    verbose_eval = 20,\n",
        ")"
      ],
      "metadata": {
        "colab": {
          "base_uri": "https://localhost:8080/"
        },
        "id": "8apYQAqsYskD",
        "outputId": "588b9dff-778e-441b-98ee-51a0e04079e3"
      },
      "execution_count": null,
      "outputs": [
        {
          "output_type": "stream",
          "name": "stdout",
          "text": [
            "Training until validation scores don't improve for 50 rounds.\n",
            "[20]\ttraining's binary_logloss: 0.535524\tvalid_1's binary_logloss: 0.593761\n",
            "[40]\ttraining's binary_logloss: 0.482063\tvalid_1's binary_logloss: 0.572425\n",
            "[60]\ttraining's binary_logloss: 0.454822\tvalid_1's binary_logloss: 0.568581\n",
            "[80]\ttraining's binary_logloss: 0.433974\tvalid_1's binary_logloss: 0.573274\n",
            "[100]\ttraining's binary_logloss: 0.416753\tvalid_1's binary_logloss: 0.574916\n",
            "Early stopping, best iteration is:\n",
            "[57]\ttraining's binary_logloss: 0.458216\tvalid_1's binary_logloss: 0.567542\n"
          ]
        }
      ]
    },
    {
      "cell_type": "code",
      "source": [
        "# NLあり\n",
        "model2 = lgb.train(\n",
        "    params = params,\n",
        "    train_set = train_set2,\n",
        "    valid_sets = [train_set2, valid_set2],\n",
        "    num_boost_round = 300,\n",
        "    early_stopping_rounds = 50,\n",
        "    verbose_eval = 20,\n",
        ")"
      ],
      "metadata": {
        "colab": {
          "base_uri": "https://localhost:8080/"
        },
        "id": "XITQ9r0wlkXB",
        "outputId": "bd8abf19-23d1-4d0f-be65-93abaedc1090"
      },
      "execution_count": null,
      "outputs": [
        {
          "output_type": "stream",
          "name": "stdout",
          "text": [
            "Training until validation scores don't improve for 50 rounds.\n",
            "[20]\ttraining's binary_logloss: 0.488107\tvalid_1's binary_logloss: 0.566662\n",
            "[40]\ttraining's binary_logloss: 0.393156\tvalid_1's binary_logloss: 0.540635\n",
            "[60]\ttraining's binary_logloss: 0.330489\tvalid_1's binary_logloss: 0.529983\n",
            "[80]\ttraining's binary_logloss: 0.283896\tvalid_1's binary_logloss: 0.528462\n",
            "[100]\ttraining's binary_logloss: 0.247521\tvalid_1's binary_logloss: 0.529328\n",
            "[120]\ttraining's binary_logloss: 0.217758\tvalid_1's binary_logloss: 0.531819\n",
            "Early stopping, best iteration is:\n",
            "[77]\ttraining's binary_logloss: 0.289912\tvalid_1's binary_logloss: 0.527474\n"
          ]
        }
      ]
    },
    {
      "cell_type": "markdown",
      "source": [
        "## 予測"
      ],
      "metadata": {
        "id": "JRefPIUm7oDC"
      }
    },
    {
      "cell_type": "code",
      "source": [
        "# 予測してみる(model1)\n",
        "preds1 = model1.predict(x_valid1_n)\n",
        "\n",
        "# 後々に2次元配列にしないとうまくいかない\n",
        "preds1 = preds1.reshape(2938,1)\n",
        "\n",
        "# 後でpreds2とブレンドするためにとっておく\n",
        "preds1_c = preds1.copy()\n",
        "\n",
        "# 0.5を閾値として、確率値を0と1に分ける\n",
        "for (u,v) in enumerate(preds1):\n",
        "    if v[0] >= 0.5:\n",
        "        v[0] = 1\n",
        "    else:\n",
        "        v[0] = 0\n",
        "\n",
        "# 正解率\n",
        "from sklearn.metrics import accuracy_score\n",
        "acc = accuracy_score(y_valid.iloc[:,0], preds1)\n",
        "print(acc)"
      ],
      "metadata": {
        "colab": {
          "base_uri": "https://localhost:8080/"
        },
        "id": "1p46i2tQYsmT",
        "outputId": "65570099-a565-4ce2-d380-2b73153d86c9"
      },
      "execution_count": null,
      "outputs": [
        {
          "output_type": "stream",
          "name": "stdout",
          "text": [
            "0.7001361470388019\n"
          ]
        }
      ]
    },
    {
      "cell_type": "code",
      "source": [
        "# 予測してみる(model2)\n",
        "preds2 = model2.predict(x_valid2)\n",
        "\n",
        "# 後々に2次元配列にしないとうまくいかない\n",
        "preds2 = preds2.reshape(2938,1)\n",
        "\n",
        "\n",
        "# 後でpreds1とブレンドする\n",
        "preds2_c = preds2.copy()\n",
        "\n",
        "# 0.5を閾値として、確率値を0と1に分類する\n",
        "for (u,v) in enumerate(preds2):\n",
        "    if v[0] >= 0.5:\n",
        "        v[0] = 1\n",
        "    else:\n",
        "        v[0] = 0\n",
        "\n",
        "# 正解率\n",
        "from sklearn.metrics import accuracy_score\n",
        "acc = accuracy_score(y_valid.iloc[:,0], preds2)\n",
        "print(acc)"
      ],
      "metadata": {
        "colab": {
          "base_uri": "https://localhost:8080/"
        },
        "id": "haeLBENrlV81",
        "outputId": "ddbc1ed7-c890-46eb-f363-f2bdf902b394"
      },
      "execution_count": null,
      "outputs": [
        {
          "output_type": "stream",
          "name": "stdout",
          "text": [
            "0.7426820966643976\n"
          ]
        }
      ]
    },
    {
      "cell_type": "code",
      "source": [
        "a = 0.6 * 0.7 + 0.2*0.3\n",
        "a"
      ],
      "metadata": {
        "colab": {
          "base_uri": "https://localhost:8080/"
        },
        "id": "DgwL6nSHzC-k",
        "outputId": "42c9fe2d-dd1b-491c-c078-7a9eb7040529"
      },
      "execution_count": null,
      "outputs": [
        {
          "output_type": "execute_result",
          "data": {
            "text/plain": [
              "0.48"
            ]
          },
          "metadata": {},
          "execution_count": 200
        }
      ]
    },
    {
      "cell_type": "code",
      "source": [
        "print(preds1_c)\n",
        "print(preds2_c)\n",
        "\n",
        "# ここでは同じ形のnumpy配列が欲しいため、copy()関数を使用している。\n",
        "preds12 = preds1.copy()\n",
        "\n",
        "\n",
        "# 上の結果より、ほー－－んの少し、NLありの方がスコアが高いため4:6で重みをつける(加重平均を取る)\n",
        "for i,j in zip(preds1_c,preds2_c):\n",
        "    score = i[0]*0.6 + j[0]*0.4\n",
        "    if score >= 0.5:\n",
        "        preds12[0] = 1\n",
        "    else:\n",
        "        preds12[0] = 0\n",
        "\n",
        "preds12\n",
        "\n",
        "# 正解率\n",
        "from sklearn.metrics import accuracy_score\n",
        "acc = accuracy_score(y_valid.iloc[:,0], preds12)\n",
        "print(acc)"
      ],
      "metadata": {
        "colab": {
          "base_uri": "https://localhost:8080/"
        },
        "id": "MVA4E98FwFs3",
        "outputId": "0552d5e3-33ef-42f3-d2a5-a637d928ceac"
      },
      "execution_count": null,
      "outputs": [
        {
          "output_type": "stream",
          "name": "stdout",
          "text": [
            "[[0.62890881]\n",
            " [0.33268353]\n",
            " [0.56139518]\n",
            " ...\n",
            " [0.89943832]\n",
            " [0.7223424 ]\n",
            " [0.22667495]]\n",
            "[[0.85567627]\n",
            " [0.4741771 ]\n",
            " [0.57997465]\n",
            " ...\n",
            " [0.70609841]\n",
            " [0.81134432]\n",
            " [0.11522887]]\n",
            "0.6997957794417972\n"
          ]
        }
      ]
    },
    {
      "cell_type": "code",
      "source": [
        "# 予測してみる(test1)\n",
        "t_preds1 = model1.predict(test1_n)\n",
        "\n",
        "# 後々に2次元配列にしないとうまくいかない\n",
        "t_preds1 = t_preds1.reshape(9800,1)\n",
        "\n",
        "# 後でpreds2とブレンドするためにとっておく\n",
        "t_preds1_c = t_preds1.copy()\n",
        "\n",
        "# 0.5を閾値として、確率値を0と1に分ける\n",
        "for (u,v) in enumerate(t_preds1):\n",
        "    if v[0] >= 0.5:\n",
        "        v[0] = 1\n",
        "    else:\n",
        "        v[0] = 0\n",
        "\n",
        "t_preds1"
      ],
      "metadata": {
        "colab": {
          "base_uri": "https://localhost:8080/"
        },
        "id": "3pla0B060ULB",
        "outputId": "c86afd41-1a9c-4a98-a7db-fb72dabcd36f"
      },
      "execution_count": null,
      "outputs": [
        {
          "output_type": "execute_result",
          "data": {
            "text/plain": [
              "array([[1.],\n",
              "       [1.],\n",
              "       [1.],\n",
              "       ...,\n",
              "       [0.],\n",
              "       [1.],\n",
              "       [0.]])"
            ]
          },
          "metadata": {},
          "execution_count": 224
        }
      ]
    },
    {
      "cell_type": "code",
      "source": [
        "# 予測してみる(test2)\n",
        "t_preds2 = model2.predict(test2)\n",
        "\n",
        "# 後々に2次元配列にしないとうまくいかない\n",
        "t_preds2 = t_preds2.reshape(9800,1)\n",
        "\n",
        "# 後でpreds2とブレンドするためにとっておく\n",
        "t_preds2_c = t_preds2.copy()\n",
        "\n",
        "# 0.5を閾値として、確率値を0と1に分ける\n",
        "for (u,v) in enumerate(t_preds2):\n",
        "    if v[0] >= 0.5:\n",
        "        v[0] = 1\n",
        "    else:\n",
        "        v[0] = 0\n",
        "\n",
        "t_preds2"
      ],
      "metadata": {
        "colab": {
          "base_uri": "https://localhost:8080/"
        },
        "id": "28CTSLwRndnh",
        "outputId": "9f819177-3c8c-4921-d33e-b589675c4c77"
      },
      "execution_count": null,
      "outputs": [
        {
          "output_type": "execute_result",
          "data": {
            "text/plain": [
              "array([[0.],\n",
              "       [1.],\n",
              "       [1.],\n",
              "       ...,\n",
              "       [0.],\n",
              "       [0.],\n",
              "       [1.]])"
            ]
          },
          "metadata": {},
          "execution_count": 223
        }
      ]
    },
    {
      "cell_type": "code",
      "source": [
        "print(t_preds1_c)\n",
        "print(t_preds2_c)\n",
        "\n",
        "# ここでは同じ形のnumpy配列が欲しいため、copy()関数を使用している。\n",
        "t_preds12 = t_preds1.copy()\n",
        "\n",
        "\n",
        "# 上の結果より、ほー－－んの少し、NLありの方がスコアが高いため3:7で重みをつける(加重平均を取る)\n",
        "for i,j in zip(t_preds1_c,t_preds2_c):\n",
        "    score = i[0]*0.7 + j[0]*0.3\n",
        "    if score >= 0.5:\n",
        "        t_preds12[0] = 1\n",
        "    else:\n",
        "        t_preds12[0] = 0\n",
        "\n",
        "t_preds12"
      ],
      "metadata": {
        "colab": {
          "base_uri": "https://localhost:8080/"
        },
        "id": "LH8A2GBXndqj",
        "outputId": "33a339fc-cef3-46b4-e51d-74dfa0a4e459"
      },
      "execution_count": null,
      "outputs": [
        {
          "output_type": "stream",
          "name": "stdout",
          "text": [
            "[[0.71837207]\n",
            " [0.78673191]\n",
            " [0.6783845 ]\n",
            " ...\n",
            " [0.35663319]\n",
            " [0.60079299]\n",
            " [0.33268353]]\n",
            "[[0.20625839]\n",
            " [0.66456649]\n",
            " [0.8296508 ]\n",
            " ...\n",
            " [0.42933422]\n",
            " [0.13552324]\n",
            " [0.95871627]]\n"
          ]
        },
        {
          "output_type": "execute_result",
          "data": {
            "text/plain": [
              "array([[1.],\n",
              "       [1.],\n",
              "       [1.],\n",
              "       ...,\n",
              "       [0.],\n",
              "       [1.],\n",
              "       [0.]])"
            ]
          },
          "metadata": {},
          "execution_count": 226
        }
      ]
    },
    {
      "cell_type": "code",
      "source": [
        "sample_sub\n",
        "sample = sample_sub.iloc[:,0]\n",
        "sample"
      ],
      "metadata": {
        "colab": {
          "base_uri": "https://localhost:8080/"
        },
        "id": "jowY5QwM9g8u",
        "outputId": "0fc4c0e8-0f6a-4981-c89c-dd4b33b75591"
      },
      "execution_count": null,
      "outputs": [
        {
          "output_type": "execute_result",
          "data": {
            "text/plain": [
              "0       test_00000\n",
              "1       test_00001\n",
              "2       test_00002\n",
              "3       test_00003\n",
              "4       test_00004\n",
              "           ...    \n",
              "9795    test_09795\n",
              "9796    test_09796\n",
              "9797    test_09797\n",
              "9798    test_09798\n",
              "9799    test_09799\n",
              "Name: id, Length: 9800, dtype: object"
            ]
          },
          "metadata": {},
          "execution_count": 275
        }
      ]
    },
    {
      "cell_type": "code",
      "source": [
        "# 提出用にデータの整形\n",
        "t_pred1 = pd.DataFrame(t_preds1, columns = ['label'])\n",
        "t_pred2 = pd.DataFrame(t_preds2, columns = ['label'])\n",
        "t_pred12 = pd.DataFrame(t_preds12, columns = ['label'])\n",
        "\n",
        "n1 = pd.concat([sample,t_pred1],axis=1)\n",
        "n2 = pd.concat([sample,t_pred2],axis=1)\n",
        "n12 = pd.concat([sample,t_pred12],axis=1)\n",
        "\n",
        "# t_pred1['no'] = range(0,len(t_pred1.index))\n",
        "# t_pred1 = t_pred1[['no','label']]\n",
        "\n",
        "# t_pred2['no'] = range(0,len(t_pred2.index))\n",
        "# t_pred2 = t_pred2[['no','label']]\n",
        "\n",
        "# t_pred12['no'] = range(0,len(t_pred12.index))\n",
        "# t_pred12 = t_pred12[['no','label']]\n",
        "n2"
      ],
      "metadata": {
        "id": "StbdE9L9ndtZ",
        "colab": {
          "base_uri": "https://localhost:8080/",
          "height": 424
        },
        "outputId": "8de60bb1-88c6-436a-eb6d-99353c2b70eb"
      },
      "execution_count": null,
      "outputs": [
        {
          "output_type": "execute_result",
          "data": {
            "text/plain": [
              "              id  label\n",
              "0     test_00000    0.0\n",
              "1     test_00001    1.0\n",
              "2     test_00002    1.0\n",
              "3     test_00003    0.0\n",
              "4     test_00004    0.0\n",
              "...          ...    ...\n",
              "9795  test_09795    1.0\n",
              "9796  test_09796    1.0\n",
              "9797  test_09797    0.0\n",
              "9798  test_09798    0.0\n",
              "9799  test_09799    1.0\n",
              "\n",
              "[9800 rows x 2 columns]"
            ],
            "text/html": [
              "\n",
              "  <div id=\"df-74eeaad1-c43f-47a2-9a18-ef0594895082\">\n",
              "    <div class=\"colab-df-container\">\n",
              "      <div>\n",
              "<style scoped>\n",
              "    .dataframe tbody tr th:only-of-type {\n",
              "        vertical-align: middle;\n",
              "    }\n",
              "\n",
              "    .dataframe tbody tr th {\n",
              "        vertical-align: top;\n",
              "    }\n",
              "\n",
              "    .dataframe thead th {\n",
              "        text-align: right;\n",
              "    }\n",
              "</style>\n",
              "<table border=\"1\" class=\"dataframe\">\n",
              "  <thead>\n",
              "    <tr style=\"text-align: right;\">\n",
              "      <th></th>\n",
              "      <th>id</th>\n",
              "      <th>label</th>\n",
              "    </tr>\n",
              "  </thead>\n",
              "  <tbody>\n",
              "    <tr>\n",
              "      <th>0</th>\n",
              "      <td>test_00000</td>\n",
              "      <td>0.0</td>\n",
              "    </tr>\n",
              "    <tr>\n",
              "      <th>1</th>\n",
              "      <td>test_00001</td>\n",
              "      <td>1.0</td>\n",
              "    </tr>\n",
              "    <tr>\n",
              "      <th>2</th>\n",
              "      <td>test_00002</td>\n",
              "      <td>1.0</td>\n",
              "    </tr>\n",
              "    <tr>\n",
              "      <th>3</th>\n",
              "      <td>test_00003</td>\n",
              "      <td>0.0</td>\n",
              "    </tr>\n",
              "    <tr>\n",
              "      <th>4</th>\n",
              "      <td>test_00004</td>\n",
              "      <td>0.0</td>\n",
              "    </tr>\n",
              "    <tr>\n",
              "      <th>...</th>\n",
              "      <td>...</td>\n",
              "      <td>...</td>\n",
              "    </tr>\n",
              "    <tr>\n",
              "      <th>9795</th>\n",
              "      <td>test_09795</td>\n",
              "      <td>1.0</td>\n",
              "    </tr>\n",
              "    <tr>\n",
              "      <th>9796</th>\n",
              "      <td>test_09796</td>\n",
              "      <td>1.0</td>\n",
              "    </tr>\n",
              "    <tr>\n",
              "      <th>9797</th>\n",
              "      <td>test_09797</td>\n",
              "      <td>0.0</td>\n",
              "    </tr>\n",
              "    <tr>\n",
              "      <th>9798</th>\n",
              "      <td>test_09798</td>\n",
              "      <td>0.0</td>\n",
              "    </tr>\n",
              "    <tr>\n",
              "      <th>9799</th>\n",
              "      <td>test_09799</td>\n",
              "      <td>1.0</td>\n",
              "    </tr>\n",
              "  </tbody>\n",
              "</table>\n",
              "<p>9800 rows × 2 columns</p>\n",
              "</div>\n",
              "      <button class=\"colab-df-convert\" onclick=\"convertToInteractive('df-74eeaad1-c43f-47a2-9a18-ef0594895082')\"\n",
              "              title=\"Convert this dataframe to an interactive table.\"\n",
              "              style=\"display:none;\">\n",
              "        \n",
              "  <svg xmlns=\"http://www.w3.org/2000/svg\" height=\"24px\"viewBox=\"0 0 24 24\"\n",
              "       width=\"24px\">\n",
              "    <path d=\"M0 0h24v24H0V0z\" fill=\"none\"/>\n",
              "    <path d=\"M18.56 5.44l.94 2.06.94-2.06 2.06-.94-2.06-.94-.94-2.06-.94 2.06-2.06.94zm-11 1L8.5 8.5l.94-2.06 2.06-.94-2.06-.94L8.5 2.5l-.94 2.06-2.06.94zm10 10l.94 2.06.94-2.06 2.06-.94-2.06-.94-.94-2.06-.94 2.06-2.06.94z\"/><path d=\"M17.41 7.96l-1.37-1.37c-.4-.4-.92-.59-1.43-.59-.52 0-1.04.2-1.43.59L10.3 9.45l-7.72 7.72c-.78.78-.78 2.05 0 2.83L4 21.41c.39.39.9.59 1.41.59.51 0 1.02-.2 1.41-.59l7.78-7.78 2.81-2.81c.8-.78.8-2.07 0-2.86zM5.41 20L4 18.59l7.72-7.72 1.47 1.35L5.41 20z\"/>\n",
              "  </svg>\n",
              "      </button>\n",
              "      \n",
              "  <style>\n",
              "    .colab-df-container {\n",
              "      display:flex;\n",
              "      flex-wrap:wrap;\n",
              "      gap: 12px;\n",
              "    }\n",
              "\n",
              "    .colab-df-convert {\n",
              "      background-color: #E8F0FE;\n",
              "      border: none;\n",
              "      border-radius: 50%;\n",
              "      cursor: pointer;\n",
              "      display: none;\n",
              "      fill: #1967D2;\n",
              "      height: 32px;\n",
              "      padding: 0 0 0 0;\n",
              "      width: 32px;\n",
              "    }\n",
              "\n",
              "    .colab-df-convert:hover {\n",
              "      background-color: #E2EBFA;\n",
              "      box-shadow: 0px 1px 2px rgba(60, 64, 67, 0.3), 0px 1px 3px 1px rgba(60, 64, 67, 0.15);\n",
              "      fill: #174EA6;\n",
              "    }\n",
              "\n",
              "    [theme=dark] .colab-df-convert {\n",
              "      background-color: #3B4455;\n",
              "      fill: #D2E3FC;\n",
              "    }\n",
              "\n",
              "    [theme=dark] .colab-df-convert:hover {\n",
              "      background-color: #434B5C;\n",
              "      box-shadow: 0px 1px 3px 1px rgba(0, 0, 0, 0.15);\n",
              "      filter: drop-shadow(0px 1px 2px rgba(0, 0, 0, 0.3));\n",
              "      fill: #FFFFFF;\n",
              "    }\n",
              "  </style>\n",
              "\n",
              "      <script>\n",
              "        const buttonEl =\n",
              "          document.querySelector('#df-74eeaad1-c43f-47a2-9a18-ef0594895082 button.colab-df-convert');\n",
              "        buttonEl.style.display =\n",
              "          google.colab.kernel.accessAllowed ? 'block' : 'none';\n",
              "\n",
              "        async function convertToInteractive(key) {\n",
              "          const element = document.querySelector('#df-74eeaad1-c43f-47a2-9a18-ef0594895082');\n",
              "          const dataTable =\n",
              "            await google.colab.kernel.invokeFunction('convertToInteractive',\n",
              "                                                     [key], {});\n",
              "          if (!dataTable) return;\n",
              "\n",
              "          const docLinkHtml = 'Like what you see? Visit the ' +\n",
              "            '<a target=\"_blank\" href=https://colab.research.google.com/notebooks/data_table.ipynb>data table notebook</a>'\n",
              "            + ' to learn more about interactive tables.';\n",
              "          element.innerHTML = '';\n",
              "          dataTable['output_type'] = 'display_data';\n",
              "          await google.colab.output.renderOutput(dataTable, element);\n",
              "          const docLink = document.createElement('div');\n",
              "          docLink.innerHTML = docLinkHtml;\n",
              "          element.appendChild(docLink);\n",
              "        }\n",
              "      </script>\n",
              "    </div>\n",
              "  </div>\n",
              "  "
            ]
          },
          "metadata": {},
          "execution_count": 276
        }
      ]
    },
    {
      "cell_type": "code",
      "source": [
        "# 結果をcsvに保存\n",
        "n1[['id','label']].to_csv('./02_sub1.csv', header=False, index=False)\n",
        "n2[['id','label']].to_csv('./02_sub2.csv', header=False, index=False)\n",
        "n12[['id','label']].to_csv('./02_sub12.csv', header=False, index=False)"
      ],
      "metadata": {
        "id": "IlKCEG49ndwN"
      },
      "execution_count": null,
      "outputs": []
    },
    {
      "cell_type": "code",
      "source": [],
      "metadata": {
        "id": "NJKdLc75lWBp"
      },
      "execution_count": null,
      "outputs": []
    },
    {
      "cell_type": "code",
      "source": [],
      "metadata": {
        "id": "TCYpg4ZUlWGa"
      },
      "execution_count": null,
      "outputs": []
    },
    {
      "cell_type": "code",
      "source": [],
      "metadata": {
        "id": "gvDFWV6N8gqB"
      },
      "execution_count": null,
      "outputs": []
    },
    {
      "cell_type": "code",
      "source": [],
      "metadata": {
        "id": "hbFRQDBo8gr2"
      },
      "execution_count": null,
      "outputs": []
    },
    {
      "cell_type": "code",
      "source": [],
      "metadata": {
        "id": "zdaYRfr_8gvX"
      },
      "execution_count": null,
      "outputs": []
    }
  ]
}