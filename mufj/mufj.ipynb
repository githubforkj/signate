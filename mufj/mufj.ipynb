{
  "nbformat": 4,
  "nbformat_minor": 0,
  "metadata": {
    "colab": {
      "provenance": [],
      "authorship_tag": "ABX9TyPo5XOTWv85mluuLpFm+eec",
      "include_colab_link": true
    },
    "kernelspec": {
      "name": "python3",
      "display_name": "Python 3"
    },
    "language_info": {
      "name": "python"
    }
  },
  "cells": [
    {
      "cell_type": "markdown",
      "metadata": {
        "id": "view-in-github",
        "colab_type": "text"
      },
      "source": [
        "<a href=\"https://colab.research.google.com/github/githubforkj/signate/blob/main/mufj/mufj.ipynb\" target=\"_parent\"><img src=\"https://colab.research.google.com/assets/colab-badge.svg\" alt=\"Open In Colab\"/></a>"
      ]
    },
    {
      "cell_type": "markdown",
      "source": [
        "# 目標\n",
        "\n",
        "**入賞**"
      ],
      "metadata": {
        "id": "gJcaOIaBdRPE"
      }
    },
    {
      "cell_type": "markdown",
      "source": [
        "# 概要\n"
      ],
      "metadata": {
        "id": "9lySJ6ormVfL"
      }
    },
    {
      "cell_type": "markdown",
      "source": [
        "- クラウドファンディングの資金調達達成の成否予測\n",
        "    - 定量データである目標金額など\n",
        "    - テキストデータであるアピール文章\n",
        "\n",
        "\n",
        "---"
      ],
      "metadata": {
        "id": "v4Qps6IFmVtT"
      }
    },
    {
      "cell_type": "markdown",
      "source": [
        "## 当面の方針\n",
        "\n",
        "\n",
        "1. パイプライン・実験環境を構築し、様々なモデルを試したる。\n"
      ],
      "metadata": {
        "id": "wFWBOCo9oPJP"
      }
    },
    {
      "cell_type": "markdown",
      "source": [
        "# 実装"
      ],
      "metadata": {
        "id": "SqBnnbqEdZoG"
      }
    },
    {
      "cell_type": "markdown",
      "source": [
        "## ごにょごにょする\n",
        "\n",
        "\n",
        "そして、データの中身をざっくりと理解する"
      ],
      "metadata": {
        "id": "09UUgryJdb3q"
      }
    },
    {
      "cell_type": "code",
      "execution_count": null,
      "metadata": {
        "colab": {
          "base_uri": "https://localhost:8080/",
          "height": 732
        },
        "id": "U1mBjXQMcu99",
        "outputId": "eb720b0e-fe23-4b99-e330-3817100276fb"
      },
      "outputs": [
        {
          "output_type": "stream",
          "name": "stdout",
          "text": [
            "Looking in indexes: https://pypi.org/simple, https://us-python.pkg.dev/colab-wheels/public/simple/\n",
            "Collecting signate\n",
            "  Downloading signate-0.9.9-py3-none-any.whl (37 kB)\n",
            "Requirement already satisfied: certifi in /usr/local/lib/python3.7/dist-packages (from signate) (2022.6.15)\n",
            "Collecting wget\n",
            "  Downloading wget-3.2.zip (10 kB)\n",
            "Requirement already satisfied: python-dateutil in /usr/local/lib/python3.7/dist-packages (from signate) (2.8.2)\n",
            "Requirement already satisfied: tabulate in /usr/local/lib/python3.7/dist-packages (from signate) (0.8.10)\n",
            "Requirement already satisfied: click in /usr/local/lib/python3.7/dist-packages (from signate) (7.1.2)\n",
            "Collecting urllib3>=1.26.7\n",
            "  Downloading urllib3-1.26.12-py2.py3-none-any.whl (140 kB)\n",
            "\u001b[K     |████████████████████████████████| 140 kB 41.9 MB/s \n",
            "\u001b[?25hCollecting six>=1.16\n",
            "  Downloading six-1.16.0-py2.py3-none-any.whl (11 kB)\n",
            "Building wheels for collected packages: wget\n",
            "  Building wheel for wget (setup.py) ... \u001b[?25l\u001b[?25hdone\n",
            "  Created wheel for wget: filename=wget-3.2-py3-none-any.whl size=9675 sha256=8c70a1a76d0615f5c0cece940b975ad3ebb4421869d860982469b27a7753a431\n",
            "  Stored in directory: /root/.cache/pip/wheels/a1/b6/7c/0e63e34eb06634181c63adacca38b79ff8f35c37e3c13e3c02\n",
            "Successfully built wget\n",
            "Installing collected packages: six, wget, urllib3, signate\n",
            "  Attempting uninstall: six\n",
            "    Found existing installation: six 1.15.0\n",
            "    Uninstalling six-1.15.0:\n",
            "      Successfully uninstalled six-1.15.0\n",
            "  Attempting uninstall: urllib3\n",
            "    Found existing installation: urllib3 1.24.3\n",
            "    Uninstalling urllib3-1.24.3:\n",
            "      Successfully uninstalled urllib3-1.24.3\n",
            "\u001b[31mERROR: pip's dependency resolver does not currently take into account all the packages that are installed. This behaviour is the source of the following dependency conflicts.\n",
            "ipython 7.9.0 requires jedi>=0.10, which is not installed.\n",
            "requests 2.23.0 requires urllib3!=1.25.0,!=1.25.1,<1.26,>=1.21.1, but you have urllib3 1.26.12 which is incompatible.\u001b[0m\n",
            "Successfully installed signate-0.9.9 six-1.16.0 urllib3-1.26.12 wget-3.2\n"
          ]
        },
        {
          "output_type": "display_data",
          "data": {
            "application/vnd.colab-display-data+json": {
              "pip_warning": {
                "packages": [
                  "six"
                ]
              }
            }
          },
          "metadata": {}
        },
        {
          "output_type": "stream",
          "name": "stderr",
          "text": [
            "/usr/local/lib/python3.7/dist-packages/requests/__init__.py:91: RequestsDependencyWarning: urllib3 (1.26.12) or chardet (3.0.4) doesn't match a supported version!\n",
            "  RequestsDependencyWarning)\n"
          ]
        },
        {
          "output_type": "stream",
          "name": "stdout",
          "text": [
            "Download 100%.\n"
          ]
        }
      ],
      "source": [
        "# signateとの連携\n",
        "\n",
        "!pip install signate\n",
        "\n",
        "from googleapiclient.discovery import build\n",
        "import io, os\n",
        "from googleapiclient.http import MediaIoBaseDownload\n",
        "from google.colab import auth\n",
        "\n",
        "\n",
        "auth.authenticate_user()\n",
        "\n",
        "drive_service = build('drive', 'v3')\n",
        "results = drive_service.files().list(\n",
        "        q=\"name = 'signate.json'\", fields=\"files(id)\").execute()\n",
        "signate_api_key = results.get('files', [])\n",
        "\n",
        "filename = \"/root/.signate/signate.json\"\n",
        "os.makedirs(os.path.dirname(filename), exist_ok=True)\n",
        "\n",
        "request = drive_service.files().get_media(fileId=signate_api_key[0]['id'])\n",
        "fh = io.FileIO(filename, 'wb')\n",
        "downloader = MediaIoBaseDownload(fh, request)\n",
        "done = False\n",
        "while done is False:\n",
        "    status, done = downloader.next_chunk()\n",
        "    print(\"Download %d%%.\" % int(status.progress() * 100))\n",
        "os.chmod(filename, 600)"
      ]
    },
    {
      "cell_type": "code",
      "source": [
        "# コンペのデータをダウンロード\n",
        "!signate download --competition-id={754}"
      ],
      "metadata": {
        "colab": {
          "base_uri": "https://localhost:8080/"
        },
        "id": "NkukcxdddeIL",
        "outputId": "9951a21e-507a-449b-ba4b-03be13d221d0"
      },
      "execution_count": 6,
      "outputs": [
        {
          "output_type": "stream",
          "name": "stdout",
          "text": [
            "sample_submit.csv\n",
            "\n",
            "train.csv\n",
            "\n",
            "test.csv\n",
            "\n",
            "\u001b[32m\n",
            "Download completed.\u001b[0m\n"
          ]
        }
      ]
    },
    {
      "cell_type": "markdown",
      "source": [
        "### インストール"
      ],
      "metadata": {
        "id": "Mdu8xPNR6P2n"
      }
    },
    {
      "cell_type": "code",
      "source": [
        "pip install wordcloud"
      ],
      "metadata": {
        "colab": {
          "base_uri": "https://localhost:8080/"
        },
        "id": "0yenF3QN2Smw",
        "outputId": "4ac2bc11-d1b3-415f-fa7d-56f0ca7493bc"
      },
      "execution_count": 36,
      "outputs": [
        {
          "output_type": "stream",
          "name": "stdout",
          "text": [
            "Looking in indexes: https://pypi.org/simple, https://us-python.pkg.dev/colab-wheels/public/simple/\n",
            "Requirement already satisfied: wordcloud in /usr/local/lib/python3.7/dist-packages (1.8.2.2)\n",
            "Requirement already satisfied: pillow in /usr/local/lib/python3.7/dist-packages (from wordcloud) (7.1.2)\n",
            "Requirement already satisfied: numpy>=1.6.1 in /usr/local/lib/python3.7/dist-packages (from wordcloud) (1.21.6)\n",
            "Requirement already satisfied: matplotlib in /usr/local/lib/python3.7/dist-packages (from wordcloud) (3.2.2)\n",
            "Requirement already satisfied: cycler>=0.10 in /usr/local/lib/python3.7/dist-packages (from matplotlib->wordcloud) (0.11.0)\n",
            "Requirement already satisfied: kiwisolver>=1.0.1 in /usr/local/lib/python3.7/dist-packages (from matplotlib->wordcloud) (1.4.4)\n",
            "Requirement already satisfied: pyparsing!=2.0.4,!=2.1.2,!=2.1.6,>=2.0.1 in /usr/local/lib/python3.7/dist-packages (from matplotlib->wordcloud) (3.0.9)\n",
            "Requirement already satisfied: python-dateutil>=2.1 in /usr/local/lib/python3.7/dist-packages (from matplotlib->wordcloud) (2.8.2)\n",
            "Requirement already satisfied: typing-extensions in /usr/local/lib/python3.7/dist-packages (from kiwisolver>=1.0.1->matplotlib->wordcloud) (4.1.1)\n",
            "Requirement already satisfied: six>=1.5 in /usr/local/lib/python3.7/dist-packages (from python-dateutil>=2.1->matplotlib->wordcloud) (1.16.0)\n"
          ]
        }
      ]
    },
    {
      "cell_type": "code",
      "source": [
        "import pandas as pd\n",
        "\n",
        "test = pd.read_csv('./test.csv')\n",
        "train = pd.read_csv('./train.csv')"
      ],
      "metadata": {
        "id": "Y6an7kJzderi"
      },
      "execution_count": 7,
      "outputs": []
    },
    {
      "cell_type": "code",
      "source": [
        "train.head()"
      ],
      "metadata": {
        "id": "PxhlMQfMdetc",
        "colab": {
          "base_uri": "https://localhost:8080/",
          "height": 206
        },
        "outputId": "cdce7ceb-ebe9-42ed-ee24-1eaad3678082"
      },
      "execution_count": 16,
      "outputs": [
        {
          "output_type": "execute_result",
          "data": {
            "text/plain": [
              "            id         goal country  duration     category1        category2  \\\n",
              "0  train_00000  20001-21000      US        45           art      mixed media   \n",
              "1  train_00001  19001-20000      US        59          food      restaurants   \n",
              "2  train_00002    2001-3000      US        38           art  performance art   \n",
              "3  train_00003    1001-2000      US        30           art      mixed media   \n",
              "4  train_00004    1001-2000      US        29  film & video        webseries   \n",
              "\n",
              "                                        html_content  state  \n",
              "0  <div class=\"contents\"><div><p><a href=\"http://...      1  \n",
              "1  <div class=\"contents\"><div><p>Cultural Pretzel...      0  \n",
              "2  <div class=\"contents\"><div><p>I want to perfor...      0  \n",
              "3  <div class=\"contents\"><div><div class=\"templat...      1  \n",
              "4  <div class=\"contents\"><div><p>The story of the...      1  "
            ],
            "text/html": [
              "\n",
              "  <div id=\"df-6376e0b2-6811-49b4-9232-d0dd678518e1\">\n",
              "    <div class=\"colab-df-container\">\n",
              "      <div>\n",
              "<style scoped>\n",
              "    .dataframe tbody tr th:only-of-type {\n",
              "        vertical-align: middle;\n",
              "    }\n",
              "\n",
              "    .dataframe tbody tr th {\n",
              "        vertical-align: top;\n",
              "    }\n",
              "\n",
              "    .dataframe thead th {\n",
              "        text-align: right;\n",
              "    }\n",
              "</style>\n",
              "<table border=\"1\" class=\"dataframe\">\n",
              "  <thead>\n",
              "    <tr style=\"text-align: right;\">\n",
              "      <th></th>\n",
              "      <th>id</th>\n",
              "      <th>goal</th>\n",
              "      <th>country</th>\n",
              "      <th>duration</th>\n",
              "      <th>category1</th>\n",
              "      <th>category2</th>\n",
              "      <th>html_content</th>\n",
              "      <th>state</th>\n",
              "    </tr>\n",
              "  </thead>\n",
              "  <tbody>\n",
              "    <tr>\n",
              "      <th>0</th>\n",
              "      <td>train_00000</td>\n",
              "      <td>20001-21000</td>\n",
              "      <td>US</td>\n",
              "      <td>45</td>\n",
              "      <td>art</td>\n",
              "      <td>mixed media</td>\n",
              "      <td>&lt;div class=\"contents\"&gt;&lt;div&gt;&lt;p&gt;&lt;a href=\"http://...</td>\n",
              "      <td>1</td>\n",
              "    </tr>\n",
              "    <tr>\n",
              "      <th>1</th>\n",
              "      <td>train_00001</td>\n",
              "      <td>19001-20000</td>\n",
              "      <td>US</td>\n",
              "      <td>59</td>\n",
              "      <td>food</td>\n",
              "      <td>restaurants</td>\n",
              "      <td>&lt;div class=\"contents\"&gt;&lt;div&gt;&lt;p&gt;Cultural Pretzel...</td>\n",
              "      <td>0</td>\n",
              "    </tr>\n",
              "    <tr>\n",
              "      <th>2</th>\n",
              "      <td>train_00002</td>\n",
              "      <td>2001-3000</td>\n",
              "      <td>US</td>\n",
              "      <td>38</td>\n",
              "      <td>art</td>\n",
              "      <td>performance art</td>\n",
              "      <td>&lt;div class=\"contents\"&gt;&lt;div&gt;&lt;p&gt;I want to perfor...</td>\n",
              "      <td>0</td>\n",
              "    </tr>\n",
              "    <tr>\n",
              "      <th>3</th>\n",
              "      <td>train_00003</td>\n",
              "      <td>1001-2000</td>\n",
              "      <td>US</td>\n",
              "      <td>30</td>\n",
              "      <td>art</td>\n",
              "      <td>mixed media</td>\n",
              "      <td>&lt;div class=\"contents\"&gt;&lt;div&gt;&lt;div class=\"templat...</td>\n",
              "      <td>1</td>\n",
              "    </tr>\n",
              "    <tr>\n",
              "      <th>4</th>\n",
              "      <td>train_00004</td>\n",
              "      <td>1001-2000</td>\n",
              "      <td>US</td>\n",
              "      <td>29</td>\n",
              "      <td>film &amp; video</td>\n",
              "      <td>webseries</td>\n",
              "      <td>&lt;div class=\"contents\"&gt;&lt;div&gt;&lt;p&gt;The story of the...</td>\n",
              "      <td>1</td>\n",
              "    </tr>\n",
              "  </tbody>\n",
              "</table>\n",
              "</div>\n",
              "      <button class=\"colab-df-convert\" onclick=\"convertToInteractive('df-6376e0b2-6811-49b4-9232-d0dd678518e1')\"\n",
              "              title=\"Convert this dataframe to an interactive table.\"\n",
              "              style=\"display:none;\">\n",
              "        \n",
              "  <svg xmlns=\"http://www.w3.org/2000/svg\" height=\"24px\"viewBox=\"0 0 24 24\"\n",
              "       width=\"24px\">\n",
              "    <path d=\"M0 0h24v24H0V0z\" fill=\"none\"/>\n",
              "    <path d=\"M18.56 5.44l.94 2.06.94-2.06 2.06-.94-2.06-.94-.94-2.06-.94 2.06-2.06.94zm-11 1L8.5 8.5l.94-2.06 2.06-.94-2.06-.94L8.5 2.5l-.94 2.06-2.06.94zm10 10l.94 2.06.94-2.06 2.06-.94-2.06-.94-.94-2.06-.94 2.06-2.06.94z\"/><path d=\"M17.41 7.96l-1.37-1.37c-.4-.4-.92-.59-1.43-.59-.52 0-1.04.2-1.43.59L10.3 9.45l-7.72 7.72c-.78.78-.78 2.05 0 2.83L4 21.41c.39.39.9.59 1.41.59.51 0 1.02-.2 1.41-.59l7.78-7.78 2.81-2.81c.8-.78.8-2.07 0-2.86zM5.41 20L4 18.59l7.72-7.72 1.47 1.35L5.41 20z\"/>\n",
              "  </svg>\n",
              "      </button>\n",
              "      \n",
              "  <style>\n",
              "    .colab-df-container {\n",
              "      display:flex;\n",
              "      flex-wrap:wrap;\n",
              "      gap: 12px;\n",
              "    }\n",
              "\n",
              "    .colab-df-convert {\n",
              "      background-color: #E8F0FE;\n",
              "      border: none;\n",
              "      border-radius: 50%;\n",
              "      cursor: pointer;\n",
              "      display: none;\n",
              "      fill: #1967D2;\n",
              "      height: 32px;\n",
              "      padding: 0 0 0 0;\n",
              "      width: 32px;\n",
              "    }\n",
              "\n",
              "    .colab-df-convert:hover {\n",
              "      background-color: #E2EBFA;\n",
              "      box-shadow: 0px 1px 2px rgba(60, 64, 67, 0.3), 0px 1px 3px 1px rgba(60, 64, 67, 0.15);\n",
              "      fill: #174EA6;\n",
              "    }\n",
              "\n",
              "    [theme=dark] .colab-df-convert {\n",
              "      background-color: #3B4455;\n",
              "      fill: #D2E3FC;\n",
              "    }\n",
              "\n",
              "    [theme=dark] .colab-df-convert:hover {\n",
              "      background-color: #434B5C;\n",
              "      box-shadow: 0px 1px 3px 1px rgba(0, 0, 0, 0.15);\n",
              "      filter: drop-shadow(0px 1px 2px rgba(0, 0, 0, 0.3));\n",
              "      fill: #FFFFFF;\n",
              "    }\n",
              "  </style>\n",
              "\n",
              "      <script>\n",
              "        const buttonEl =\n",
              "          document.querySelector('#df-6376e0b2-6811-49b4-9232-d0dd678518e1 button.colab-df-convert');\n",
              "        buttonEl.style.display =\n",
              "          google.colab.kernel.accessAllowed ? 'block' : 'none';\n",
              "\n",
              "        async function convertToInteractive(key) {\n",
              "          const element = document.querySelector('#df-6376e0b2-6811-49b4-9232-d0dd678518e1');\n",
              "          const dataTable =\n",
              "            await google.colab.kernel.invokeFunction('convertToInteractive',\n",
              "                                                     [key], {});\n",
              "          if (!dataTable) return;\n",
              "\n",
              "          const docLinkHtml = 'Like what you see? Visit the ' +\n",
              "            '<a target=\"_blank\" href=https://colab.research.google.com/notebooks/data_table.ipynb>data table notebook</a>'\n",
              "            + ' to learn more about interactive tables.';\n",
              "          element.innerHTML = '';\n",
              "          dataTable['output_type'] = 'display_data';\n",
              "          await google.colab.output.renderOutput(dataTable, element);\n",
              "          const docLink = document.createElement('div');\n",
              "          docLink.innerHTML = docLinkHtml;\n",
              "          element.appendChild(docLink);\n",
              "        }\n",
              "      </script>\n",
              "    </div>\n",
              "  </div>\n",
              "  "
            ]
          },
          "metadata": {},
          "execution_count": 16
        }
      ]
    },
    {
      "cell_type": "code",
      "source": [
        "print(train.shape)\n",
        "print(test.shape)"
      ],
      "metadata": {
        "colab": {
          "base_uri": "https://localhost:8080/"
        },
        "id": "3pAxGbkNlOz9",
        "outputId": "7911e10e-1c04-4857-ad13-610d8867f366"
      },
      "execution_count": 17,
      "outputs": [
        {
          "output_type": "stream",
          "name": "stdout",
          "text": [
            "(9791, 8)\n",
            "(9800, 7)\n"
          ]
        }
      ]
    },
    {
      "cell_type": "code",
      "source": [
        "train.columns"
      ],
      "metadata": {
        "colab": {
          "base_uri": "https://localhost:8080/"
        },
        "id": "STJEzITex8_6",
        "outputId": "d0633460-bca2-439e-cf85-11f5eb08bb24"
      },
      "execution_count": 30,
      "outputs": [
        {
          "output_type": "execute_result",
          "data": {
            "text/plain": [
              "Index(['id', 'goal', 'country', 'duration', 'category1', 'category2',\n",
              "       'html_content', 'state'],\n",
              "      dtype='object')"
            ]
          },
          "metadata": {},
          "execution_count": 30
        }
      ]
    },
    {
      "cell_type": "code",
      "source": [
        "# 成立の集合\n",
        "p_train = train[train['state']==1]\n",
        "# 不成立の集合\n",
        "n_train = train[train['state']==0]"
      ],
      "metadata": {
        "colab": {
          "base_uri": "https://localhost:8080/"
        },
        "id": "zHSgalon7qSe",
        "outputId": "4e6e0528-bc71-4e79-af01-60b5b2a7e4af"
      },
      "execution_count": 46,
      "outputs": [
        {
          "output_type": "execute_result",
          "data": {
            "text/plain": [
              "(4971, 8)"
            ]
          },
          "metadata": {},
          "execution_count": 46
        }
      ]
    },
    {
      "cell_type": "code",
      "source": [
        "print('成立:目標額')\n",
        "print(p_train['goal'].value_counts())\n",
        "print('--------------------------------------------------------')\n",
        "print('不成立:目標額')\n",
        "print(n_train['goal'].value_counts())\n",
        "print('--------------------------------------------------------')\n",
        "print('成立:国')\n",
        "print(p_train['country'].value_counts())\n",
        "print('--------------------------------------------------------')\n",
        "print('不成立:国')\n",
        "print(n_train['country'].value_counts())\n",
        "print('--------------------------------------------------------')\n",
        "print('成立:期間')\n",
        "print(p_train['duration'].value_counts())\n",
        "print('--------------------------------------------------------')\n",
        "print('不成立:期間')\n",
        "print(n_train['duration'].value_counts())\n",
        "print('--------------------------------------------------------')\n",
        "print('成立:カテゴリー1')\n",
        "print(p_train['category1'].value_counts())\n",
        "print('--------------------------------------------------------')\n",
        "print('不成立:カテゴリー1')\n",
        "print(n_train['category1'].value_counts())\n",
        "print('--------------------------------------------------------')\n",
        "print('成立:カテゴリー2')\n",
        "print(p_train['category2'].value_counts())\n",
        "print('--------------------------------------------------------')\n",
        "print('不成立:カテゴリー2')\n",
        "print(n_train['category2'].value_counts())\n",
        "print('--------------------------------------------------------')\n",
        "print('成立・不成立の総数')\n",
        "print(train['state'].value_counts())\n",
        "print('--------------------------------------------------------')"
      ],
      "metadata": {
        "colab": {
          "base_uri": "https://localhost:8080/"
        },
        "id": "s-KCzqH8yuwu",
        "outputId": "f2102536-ce5c-4065-a2b6-73989e85819f"
      },
      "execution_count": 49,
      "outputs": [
        {
          "output_type": "stream",
          "name": "stdout",
          "text": [
            "成立\n",
            "1-1000         1311\n",
            "1001-2000       671\n",
            "2001-3000       520\n",
            "4001-5000       436\n",
            "3001-4000       373\n",
            "               ... \n",
            "84001-85000       1\n",
            "32001-33000       1\n",
            "37001-38000       1\n",
            "40001-41000       1\n",
            "82001-83000       1\n",
            "Name: goal, Length: 69, dtype: int64\n",
            "--------------------------------------------------------\n",
            "不成立\n",
            "1-1000         804\n",
            "1001-2000      479\n",
            "2001-3000      408\n",
            "4001-5000      386\n",
            "9001-10000     296\n",
            "              ... \n",
            "93001-94000      1\n",
            "91001-92000      1\n",
            "96001-97000      1\n",
            "87001-88000      1\n",
            "48001-49000      1\n",
            "Name: goal, Length: 94, dtype: int64\n",
            "--------------------------------------------------------\n",
            "成立\n",
            "US    3455\n",
            "GB     557\n",
            "CA     214\n",
            "AU     104\n",
            "FR      76\n",
            "DE      68\n",
            "MX      63\n",
            "HK      41\n",
            "DK      36\n",
            "IT      32\n",
            "SE      29\n",
            "NL      27\n",
            "ES      23\n",
            "IE      18\n",
            "JP      16\n",
            "NZ      15\n",
            "CH      13\n",
            "NO      10\n",
            "SG      10\n",
            "BE       7\n",
            "AT       5\n",
            "LU       1\n",
            "Name: country, dtype: int64\n",
            "--------------------------------------------------------\n",
            "不成立\n",
            "US    3450\n",
            "GB     456\n",
            "CA     242\n",
            "AU     170\n",
            "DE      89\n",
            "IT      87\n",
            "MX      76\n",
            "FR      75\n",
            "ES      58\n",
            "NL      53\n",
            "SE      47\n",
            "DK      26\n",
            "SG      22\n",
            "BE      21\n",
            "NZ      19\n",
            "NO      17\n",
            "IE      17\n",
            "CH      16\n",
            "HK      12\n",
            "AT       9\n",
            "JP       7\n",
            "LU       2\n",
            "Name: country, dtype: int64\n",
            "--------------------------------------------------------\n",
            "成立\n",
            "30    1948\n",
            "29     277\n",
            "60     177\n",
            "31     156\n",
            "20     153\n",
            "      ... \n",
            "72       1\n",
            "61       1\n",
            "90       1\n",
            "86       1\n",
            "4        1\n",
            "Name: duration, Length: 70, dtype: int64\n",
            "--------------------------------------------------------\n",
            "不成立\n",
            "30    2295\n",
            "60     502\n",
            "29     313\n",
            "45     202\n",
            "59     175\n",
            "      ... \n",
            "89       4\n",
            "3        3\n",
            "84       1\n",
            "85       1\n",
            "90       1\n",
            "Name: duration, Length: 64, dtype: int64\n",
            "--------------------------------------------------------\n",
            "成立\n",
            "music           941\n",
            "film & video    712\n",
            "publishing      563\n",
            "art             509\n",
            "food            284\n",
            "technology      278\n",
            "theater         244\n",
            "fashion         235\n",
            "games           219\n",
            "photography     195\n",
            "comics          169\n",
            "crafts          147\n",
            "design          136\n",
            "dance           121\n",
            "journalism       67\n",
            "Name: category1, dtype: int64\n",
            "--------------------------------------------------------\n",
            "不成立\n",
            "food            715\n",
            "film & video    657\n",
            "music           565\n",
            "technology      559\n",
            "art             510\n",
            "publishing      343\n",
            "crafts          285\n",
            "photography     270\n",
            "games           245\n",
            "fashion         234\n",
            "journalism      221\n",
            "design          137\n",
            "theater         122\n",
            "comics           55\n",
            "dance            53\n",
            "Name: category1, dtype: int64\n",
            "--------------------------------------------------------\n",
            "成立\n",
            "shorts             143\n",
            "country & folk     142\n",
            "nonfiction         134\n",
            "rock               134\n",
            "indie rock         127\n",
            "                  ... \n",
            "pet fashion          1\n",
            "letterpress          1\n",
            "couture              1\n",
            "makerspaces          1\n",
            "social practice      1\n",
            "Name: category2, Length: 144, dtype: int64\n",
            "--------------------------------------------------------\n",
            "不成立\n",
            "web                235\n",
            "mobile games       144\n",
            "food trucks        129\n",
            "restaurants        123\n",
            "hip-hop            118\n",
            "                  ... \n",
            "quilts               4\n",
            "typography           2\n",
            "residencies          2\n",
            "literary spaces      1\n",
            "letterpress          1\n",
            "Name: category2, Length: 128, dtype: int64\n",
            "--------------------------------------------------------\n",
            "成立\n",
            "1.0    4820\n",
            "Name: state, dtype: int64\n",
            "--------------------------------------------------------\n",
            "不成立\n",
            "0.0    4971\n",
            "Name: state, dtype: int64\n"
          ]
        }
      ]
    },
    {
      "cell_type": "code",
      "source": [],
      "metadata": {
        "id": "pPh_GZFo2SrY"
      },
      "execution_count": null,
      "outputs": []
    },
    {
      "cell_type": "code",
      "source": [],
      "metadata": {
        "id": "UQWgyTUW2Suh"
      },
      "execution_count": null,
      "outputs": []
    },
    {
      "cell_type": "code",
      "source": [],
      "metadata": {
        "id": "WDFsEjuj2S8K"
      },
      "execution_count": null,
      "outputs": []
    },
    {
      "cell_type": "markdown",
      "source": [
        "## 前処理"
      ],
      "metadata": {
        "id": "K97l1JjA10W-"
      }
    },
    {
      "cell_type": "code",
      "source": [
        "#学習用データと評価用データを結合する (両データに対し一括で前処理を行うため)\n",
        "combined = train.append(test, ignore_index=True)"
      ],
      "metadata": {
        "id": "9HdcGnEXlO3V"
      },
      "execution_count": 19,
      "outputs": []
    },
    {
      "cell_type": "code",
      "source": [
        "combined.shape"
      ],
      "metadata": {
        "id": "LcoSPDUhdev4",
        "colab": {
          "base_uri": "https://localhost:8080/"
        },
        "outputId": "d3e5e19a-3e66-4d88-9001-645c4b15e708"
      },
      "execution_count": 20,
      "outputs": [
        {
          "output_type": "execute_result",
          "data": {
            "text/plain": [
              "(19591, 8)"
            ]
          },
          "metadata": {},
          "execution_count": 20
        }
      ]
    },
    {
      "cell_type": "code",
      "source": [
        "#以下の手順でdescriptionデータのクリーニングを行う.\n",
        "# <li>などのhtmlタグを削除する\n",
        "# アルファベット以外の文字をスペースに置き換える\n",
        "# 単語長が3文字以下のものは削除する\n",
        "# ステミング（単語の語幹を取り出す作業のこと. 派生語を同じ単語として扱えるようにする）\n",
        "\n",
        "import re\n",
        "from nltk.stem.porter import PorterStemmer\n",
        "stemmer = PorterStemmer()\n",
        "\n",
        "def cleaning(texts):\n",
        "    clean_texts = []\n",
        "    for text in texts:\n",
        "        # htmlタグを削除\n",
        "        text = remove_tag(text)\n",
        "        #アルファベット以外をスペースに置き換え\n",
        "        clean_punc = re.sub(r'[^a-zA-Z]', ' ', text)\n",
        "        #単語長が3文字以下のものは削除する\n",
        "        clean_short_tokenized = [word for word in clean_punc.split() if len(word) > 3]\n",
        "        #ステミング\n",
        "        clean_normalize = [stemmer.stem(word) for word in clean_short_tokenized]\n",
        "        #単語同士をスペースでつなぎ, 文章に戻す\n",
        "        clean_text = ' '.join(clean_normalize)\n",
        "        clean_texts.append(clean_text)\n",
        "    return clean_texts\n",
        "\n",
        "def remove_tag(x):\n",
        "    p = re.compile(r\"<[^>]*?>\")\n",
        "    return p.sub('',x)\n",
        "\n",
        "combined_cleaned = combined.copy()\n",
        "combined_cleaned['html_content'] = cleaning(combined['html_content'])"
      ],
      "metadata": {
        "id": "XUvVIBfHdezT"
      },
      "execution_count": 22,
      "outputs": []
    },
    {
      "cell_type": "code",
      "source": [
        "from sklearn.model_selection import train_test_split\n",
        "\n",
        "# 学習データとテストデータに分割し直す\n",
        "delimit_num = train.shape[0]\n",
        "train = combined_cleaned[:delimit_num]\n",
        "test = combined_cleaned[delimit_num:]\n",
        "\n",
        "# 学習データをさらに、学習データと検証データに分割する\n",
        "x_train, x_valid, y_train, y_valid = train_test_split(train, train['state'], test_size=0.3, random_state=0)"
      ],
      "metadata": {
        "id": "2LravioqxvLb"
      },
      "execution_count": 24,
      "outputs": []
    },
    {
      "cell_type": "code",
      "source": [
        "### モデリング直前のデータの整形確認\n",
        "print(\"x_train.shape:\",x_train.shape)\n",
        "# このx_trainに対して学習を行う\n",
        "print(\"x_valid.shape:\",x_valid.shape)\n",
        "print(\"y_train.shape:\",y_train.shape)\n",
        "print(\"y_valid.shape:\",y_valid.shape)\n",
        "print(\"test.shape:\",test.shape)"
      ],
      "metadata": {
        "colab": {
          "base_uri": "https://localhost:8080/"
        },
        "id": "IUXu9RO4x89X",
        "outputId": "35951427-febb-4a77-a046-7260145561d6"
      },
      "execution_count": 26,
      "outputs": [
        {
          "output_type": "stream",
          "name": "stdout",
          "text": [
            "x_train.shape: (6853, 8)\n",
            "x_valid.shape: (2938, 8)\n",
            "y_train.shape: (6853,)\n",
            "y_valid.shape: (2938,)\n",
            "test.shape: (9800, 8)\n"
          ]
        }
      ]
    },
    {
      "cell_type": "markdown",
      "source": [
        "### クリーンアップ後のテキストをワードクラウドで可視化してみる"
      ],
      "metadata": {
        "id": "u101EIWU3PQi"
      }
    },
    {
      "cell_type": "markdown",
      "source": [
        "#### 【要修正】成否別にみる事は勿論、国別、期間別、カテゴリー別にワードクラウドを見たい。使用言語が国別に異なっていた場合、国別でのみ可視化することにする。\n",
        "\n",
        "\n",
        "- イメージ\n",
        "    - 国別\n",
        "        - アメリカ\n",
        "            - 成立\n",
        "            - 不成立\n",
        "        - カナダ\n",
        "            - 成立\n",
        "            - 不成立\n",
        "    - 期間別\n",
        "        - 30日\n",
        "            - 成立\n",
        "            - 不成立"
      ],
      "metadata": {
        "id": "dD-L7bib6U2e"
      }
    },
    {
      "cell_type": "code",
      "source": [
        "# Python program to generate WordCloud\n",
        " \n",
        "# importing all necessary modules\n",
        "from wordcloud import WordCloud\n",
        "import matplotlib.pyplot as plt\n",
        "\n",
        "\n",
        "text = train['html_content'][0]\n",
        "\n",
        "# lower max_font_size, change the maximum number of word and lighten the background:\n",
        "wordcloud = WordCloud(max_font_size=50, max_words=30, background_color=\"white\").generate(text)\n",
        "plt.figure()\n",
        "plt.imshow(wordcloud, interpolation=\"bilinear\")\n",
        "plt.axis(\"off\")\n",
        "plt.show()"
      ],
      "metadata": {
        "colab": {
          "base_uri": "https://localhost:8080/",
          "height": 198
        },
        "id": "mEK-ZuGw2SpV",
        "outputId": "202cc26d-7b76-42e2-9966-1d86d81ff60b"
      },
      "execution_count": 44,
      "outputs": [
        {
          "output_type": "display_data",
          "data": {
            "text/plain": [
              "<Figure size 432x288 with 1 Axes>"
            ],
            "image/png": "[encoded data removed]"
          },
          "metadata": {
            "needs_background": "light"
          }
        }
      ]
    },
    {
      "cell_type": "code",
      "source": [],
      "metadata": {
        "id": "j7kQcjuuyu1w"
      },
      "execution_count": null,
      "outputs": []
    },
    {
      "cell_type": "code",
      "source": [],
      "metadata": {
        "id": "rsn_rfZ4yu4Y"
      },
      "execution_count": null,
      "outputs": []
    },
    {
      "cell_type": "code",
      "source": [],
      "metadata": {
        "id": "-mlunKaPx9CT"
      },
      "execution_count": null,
      "outputs": []
    },
    {
      "cell_type": "code",
      "source": [],
      "metadata": {
        "id": "Qj1wFbMtx9FX"
      },
      "execution_count": null,
      "outputs": []
    },
    {
      "cell_type": "code",
      "source": [],
      "metadata": {
        "id": "Skj0f8rUx9lB"
      },
      "execution_count": null,
      "outputs": []
    }
  ]
}