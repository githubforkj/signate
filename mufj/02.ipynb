{
  "nbformat": 4,
  "nbformat_minor": 0,
  "metadata": {
    "colab": {
      "provenance": [],
      "authorship_tag": "ABX9TyNMl1wFYERM4HlpafBIVJX1",
      "include_colab_link": true
    },
    "kernelspec": {
      "name": "python3",
      "display_name": "Python 3"
    },
    "language_info": {
      "name": "python"
    },
    "accelerator": "GPU",
    "gpuClass": "standard"
  },
  "cells": [
    {
      "cell_type": "markdown",
      "metadata": {
        "id": "view-in-github",
        "colab_type": "text"
      },
      "source": [
        "<a href=\"https://colab.research.google.com/github/githubforkj/signate/blob/main/mufj/02.ipynb\" target=\"_parent\"><img src=\"https://colab.research.google.com/assets/colab-badge.svg\" alt=\"Open In Colab\"/></a>"
      ]
    },
    {
      "cell_type": "markdown",
      "source": [
        "# フォーラムで提示された強プレイヤーの写経\n",
        "\n",
        "(完全理解も同時に行う)"
      ],
      "metadata": {
        "id": "3t7wHXqMT-6U"
      }
    },
    {
      "cell_type": "markdown",
      "source": [
        "## 準備"
      ],
      "metadata": {
        "id": "Pec4erdJUl5W"
      }
    },
    {
      "cell_type": "code",
      "source": [
        "# signateとの連携\n",
        "\n",
        "!pip install signate\n",
        "\n",
        "from googleapiclient.discovery import build\n",
        "import io, os\n",
        "from googleapiclient.http import MediaIoBaseDownload\n",
        "from google.colab import auth\n",
        "\n",
        "\n",
        "auth.authenticate_user()\n",
        "\n",
        "drive_service = build('drive', 'v3')\n",
        "results = drive_service.files().list(\n",
        "        q=\"name = 'signate.json'\", fields=\"files(id)\").execute()\n",
        "signate_api_key = results.get('files', [])\n",
        "\n",
        "filename = \"/root/.signate/signate.json\"\n",
        "os.makedirs(os.path.dirname(filename), exist_ok=True)\n",
        "\n",
        "request = drive_service.files().get_media(fileId=signate_api_key[0]['id'])\n",
        "fh = io.FileIO(filename, 'wb')\n",
        "downloader = MediaIoBaseDownload(fh, request)\n",
        "done = False\n",
        "while done is False:\n",
        "    status, done = downloader.next_chunk()\n",
        "    print(\"Download %d%%.\" % int(status.progress() * 100))\n",
        "os.chmod(filename, 600)"
      ],
      "metadata": {
        "id": "r3_rslXQTzQ0"
      },
      "execution_count": null,
      "outputs": []
    },
    {
      "cell_type": "code",
      "source": [
        "# コンペのデータをダウンロード\n",
        "!signate download --competition-id={754}"
      ],
      "metadata": {
        "colab": {
          "base_uri": "https://localhost:8080/"
        },
        "id": "Ugk77CVJTzOl",
        "outputId": "b816741e-2efa-4345-b542-0bde8617ae8b"
      },
      "execution_count": 2,
      "outputs": [
        {
          "output_type": "stream",
          "name": "stdout",
          "text": [
            "sample_submit.csv\n",
            "\n",
            "train.csv\n",
            "\n",
            "test.csv\n",
            "\n",
            "\u001b[32m\n",
            "Download completed.\u001b[0m\n"
          ]
        }
      ]
    },
    {
      "cell_type": "code",
      "source": [
        "# ドライブのマウント\n",
        "from google.colab import drive\n",
        "drive.mount('/content/drive')"
      ],
      "metadata": {
        "colab": {
          "base_uri": "https://localhost:8080/"
        },
        "id": "e4bLFVbwUVNQ",
        "outputId": "689670a2-6629-4075-a22c-2f4740e7a31a"
      },
      "execution_count": 3,
      "outputs": [
        {
          "output_type": "stream",
          "name": "stdout",
          "text": [
            "Mounted at /content/drive\n"
          ]
        }
      ]
    },
    {
      "cell_type": "markdown",
      "source": [
        "## 実装"
      ],
      "metadata": {
        "id": "WOZG2cNy6a-I"
      }
    },
    {
      "cell_type": "code",
      "source": [
        "%%capture\n",
        "!pip install transformers datasets sentencepiece"
      ],
      "metadata": {
        "id": "HQwJ7hux_Dwg"
      },
      "execution_count": 4,
      "outputs": []
    },
    {
      "cell_type": "markdown",
      "source": [
        "### Import"
      ],
      "metadata": {
        "id": "S0WNyCcfUq32"
      }
    },
    {
      "cell_type": "code",
      "source": [
        "from pathlib import Path\n",
        "from multiprocessing import cpu_count\n",
        "import random\n",
        "import pandas as pd\n",
        "import numpy as np\n",
        "from tqdm.auto import tqdm\n",
        "\n",
        "from sklearn.model_selection import StratifiedKFold\n",
        "from sklearn.metrics import mean_squared_error, f1_score\n",
        "\n",
        "from datasets import load_dataset, Dataset, DatasetDict\n",
        "\n",
        "from transformers import AutoModelForSequenceClassification, AutoTokenizer, TrainingArguments, Trainer\n",
        "from transformers import DataCollatorWithPadding\n",
        "from transformers import EvalPrediction\n",
        "from transformers import set_seed\n",
        "\n",
        "import torch\n",
        "from torch import nn"
      ],
      "metadata": {
        "id": "X6j90PxgfIBY"
      },
      "execution_count": 6,
      "outputs": []
    },
    {
      "cell_type": "markdown",
      "source": [
        "### Config"
      ],
      "metadata": {
        "id": "koZSfbdvX82d"
      }
    },
    {
      "cell_type": "code",
      "source": [
        "EXP_NAME = 'exp01'\n",
        "INPUT_DIR = Path('/content/drive/MyDrive/signate/mufj/Input')\n",
        "OUTPUT_DIR = Path('/content/drive/MyDrive/signate/mufj/Output')\n",
        "DEBUG = True\n",
        "TEXT_COLUMNS = ['goal','country','duration','category1','category2','html_content']\n",
        "MODEL_NAME = 'microsoft/deberta-v3-base'\n",
        "N_SPLIT = 5\n",
        "TRN_FOLDS = [0,1,2,3,4]\n",
        "MAX_LEN = 512\n",
        "SEED = 3090\n",
        "\n",
        "\n",
        "training_args = TrainingArguments(\n",
        "    output_dir = str(OUTPUT_DIR/EXP_NAME),\n",
        "    seed = SEED,\n",
        "    learning_rate=2e-5,\n",
        "    per_device_train_batch_size=16,\n",
        "    per_device_eval_batch_size=16,\n",
        "    num_train_epochs = 4,\n",
        "    weight_decay = 4,\n",
        "    fp16 = True,\n",
        "    gradient_accumulation_steps=1,\n",
        "    evaluation_strategy='epoch',\n",
        "    save_total_limit = 1,\n",
        "    save_strategy = 'epoch',\n",
        "    metric_for_best_model = 'f1_score',\n",
        "    load_best_model_at_end = True,\n",
        "    greater_is_better=True\n",
        "\n",
        ")"
      ],
      "metadata": {
        "id": "XpT_cKvgfIDc"
      },
      "execution_count": 8,
      "outputs": []
    },
    {
      "cell_type": "markdown",
      "source": [
        "### Cross Validation"
      ],
      "metadata": {
        "id": "ZrhwV30FbYW_"
      }
    },
    {
      "cell_type": "code",
      "source": [
        "def create_folds(data, num_splits):\n",
        "    data[\"kfold\"] = -1\n",
        "\n",
        "    mskf = StratifiedKFold(n_splits = num_splits, shuffle=True, random_state=42)\n",
        "    data_labels = data['state']\n",
        "\n",
        "    for f, (t_, v_) in enumerate(mskf.split(data, data_labels)):\n",
        "        data.loc[v_, \"kfold\"] = f\n",
        "    \n",
        "    return data\n",
        "\n",
        "data = pd.read_csv(INPUT_DIR / \"train.csv\")\n",
        "data = create_folds(data, num_splits=N_SPLIT)\n",
        "data.to_csv(\"train_folds.csv\", index = False)\n",
        "print(\"Folds created sucessfully\")"
      ],
      "metadata": {
        "id": "5WXrQtY1fIFc",
        "colab": {
          "base_uri": "https://localhost:8080/"
        },
        "outputId": "8e94f510-49a0-4934-cb9c-5c64a2e9a256"
      },
      "execution_count": 15,
      "outputs": [
        {
          "output_type": "stream",
          "name": "stdout",
          "text": [
            "Folds created sucessfully\n"
          ]
        }
      ]
    },
    {
      "cell_type": "markdown",
      "source": [
        "### Preprocess"
      ],
      "metadata": {
        "id": "X2_Af_lRemUl"
      }
    },
    {
      "cell_type": "code",
      "source": [
        "def text_to_input_ids(examples):\n",
        "    return tokenizer(examples['text'] ,padding=False ,truncation=True, max_length=MAX_LEN)\n",
        "\n",
        "def connect_text(df, text_cols, sep):\n",
        "    text_df = df[text_cols].fillna('NAN').astype(str)\n",
        "    connected_text = text_df[text_cols[0]].str.cat(text_df[text_cols[1:]], sep=sep)\n",
        "\n",
        "    return connected_text"
      ],
      "metadata": {
        "id": "bu9O9YKSfIHi"
      },
      "execution_count": 16,
      "outputs": []
    },
    {
      "cell_type": "markdown",
      "source": [
        "### Augumentation\n",
        "\n",
        "expanding data"
      ],
      "metadata": {
        "id": "6EXL6aGFgPYM"
      }
    },
    {
      "cell_type": "code",
      "source": [
        "class RandomMask:\n",
        "    def __init__(self, tokenizer, prob=0.5, mask_prob=0.15):\n",
        "        self.mask_token_id = tokenizer.mask_token_id"
      ],
      "metadata": {
        "id": "weL4TP5-fIJt",
        "colab": {
          "base_uri": "https://localhost:8080/",
          "height": 200
        },
        "outputId": "5b4ce9d4-28b7-4742-ea16-3385e6d43d93"
      },
      "execution_count": 13,
      "outputs": [
        {
          "output_type": "error",
          "ename": "ValueError",
          "evalue": "ignored",
          "traceback": [
            "\u001b[0;31m---------------------------------------------------------------------------\u001b[0m",
            "\u001b[0;31mValueError\u001b[0m                                Traceback (most recent call last)",
            "\u001b[0;32m<ipython-input-13-5cccd7d0a9cf>\u001b[0m in \u001b[0;36m<module>\u001b[0;34m\u001b[0m\n\u001b[1;32m      1\u001b[0m \u001b[0ma\u001b[0m \u001b[0;34m=\u001b[0m \u001b[0;34m[\u001b[0m\u001b[0;34m[\u001b[0m\u001b[0;36m1\u001b[0m\u001b[0;34m,\u001b[0m\u001b[0;36m2\u001b[0m\u001b[0;34m,\u001b[0m\u001b[0;36m3\u001b[0m\u001b[0;34m,\u001b[0m\u001b[0;36m4\u001b[0m\u001b[0;34m,\u001b[0m\u001b[0;36m5\u001b[0m\u001b[0;34m]\u001b[0m\u001b[0;34m,\u001b[0m\u001b[0;34m[\u001b[0m\u001b[0;36m6\u001b[0m\u001b[0;34m,\u001b[0m\u001b[0;36m7\u001b[0m\u001b[0;34m,\u001b[0m\u001b[0;36m8\u001b[0m\u001b[0;34m]\u001b[0m\u001b[0;34m]\u001b[0m\u001b[0;34m\u001b[0m\u001b[0;34m\u001b[0m\u001b[0m\n\u001b[0;32m----> 2\u001b[0;31m \u001b[0;32mfor\u001b[0m \u001b[0mt\u001b[0m\u001b[0;34m,\u001b[0m\u001b[0;34m(\u001b[0m\u001b[0mu\u001b[0m\u001b[0;34m,\u001b[0m\u001b[0mv\u001b[0m\u001b[0;34m)\u001b[0m \u001b[0;32min\u001b[0m \u001b[0menumerate\u001b[0m\u001b[0;34m(\u001b[0m\u001b[0ma\u001b[0m\u001b[0;34m)\u001b[0m\u001b[0;34m:\u001b[0m\u001b[0;34m\u001b[0m\u001b[0;34m\u001b[0m\u001b[0m\n\u001b[0m\u001b[1;32m      3\u001b[0m     \u001b[0mprint\u001b[0m\u001b[0;34m(\u001b[0m\u001b[0mt\u001b[0m\u001b[0;34m)\u001b[0m\u001b[0;34m\u001b[0m\u001b[0;34m\u001b[0m\u001b[0m\n",
            "\u001b[0;31mValueError\u001b[0m: too many values to unpack (expected 2)"
          ]
        }
      ]
    },
    {
      "cell_type": "code",
      "source": [],
      "metadata": {
        "id": "CJTJWNhqfINT"
      },
      "execution_count": null,
      "outputs": []
    },
    {
      "cell_type": "code",
      "source": [],
      "metadata": {
        "id": "UlcsZwzo_Dye"
      },
      "execution_count": null,
      "outputs": []
    },
    {
      "cell_type": "code",
      "source": [],
      "metadata": {
        "id": "jDbfIDkc_D00"
      },
      "execution_count": null,
      "outputs": []
    },
    {
      "cell_type": "code",
      "source": [],
      "metadata": {
        "id": "Cw25kgYR_D3-"
      },
      "execution_count": null,
      "outputs": []
    },
    {
      "cell_type": "code",
      "source": [],
      "metadata": {
        "id": "f6ALB7_q8e2l"
      },
      "execution_count": null,
      "outputs": []
    },
    {
      "cell_type": "code",
      "source": [],
      "metadata": {
        "id": "ZesNkKzE8e49"
      },
      "execution_count": null,
      "outputs": []
    },
    {
      "cell_type": "code",
      "source": [],
      "metadata": {
        "id": "mWNjonXM8e6z"
      },
      "execution_count": null,
      "outputs": []
    },
    {
      "cell_type": "code",
      "source": [],
      "metadata": {
        "id": "Hn1t6CWc8e9M"
      },
      "execution_count": null,
      "outputs": []
    },
    {
      "cell_type": "code",
      "source": [],
      "metadata": {
        "id": "ckRNC91C8e-9"
      },
      "execution_count": null,
      "outputs": []
    }
  ]
}