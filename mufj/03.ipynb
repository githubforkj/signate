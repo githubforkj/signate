{
  "nbformat": 4,
  "nbformat_minor": 0,
  "metadata": {
    "colab": {
      "provenance": [],
      "authorship_tag": "ABX9TyP9eaNs9UuV9/3fS/EYCkxl",
      "include_colab_link": true
    },
    "kernelspec": {
      "name": "python3",
      "display_name": "Python 3"
    },
    "language_info": {
      "name": "python"
    },
    "gpuClass": "standard"
  },
  "cells": [
    {
      "cell_type": "markdown",
      "metadata": {
        "id": "view-in-github",
        "colab_type": "text"
      },
      "source": [
        "<a href=\"https://colab.research.google.com/github/githubforkj/signate/blob/main/mufj/03.ipynb\" target=\"_parent\"><img src=\"https://colab.research.google.com/assets/colab-badge.svg\" alt=\"Open In Colab\"/></a>"
      ]
    },
    {
      "cell_type": "markdown",
      "source": [
        "# 遊んでみるファイル"
      ],
      "metadata": {
        "id": "65mFjGGVcCHF"
      }
    },
    {
      "cell_type": "code",
      "source": [
        "from google.colab import drive\n",
        "drive.mount('/content/drive')"
      ],
      "metadata": {
        "colab": {
          "base_uri": "https://localhost:8080/"
        },
        "id": "RlQLngXS78RX",
        "outputId": "efe4827f-bdfe-4c6a-9a72-42e55bba9d0d"
      },
      "execution_count": null,
      "outputs": [
        {
          "output_type": "stream",
          "name": "stdout",
          "text": [
            "Mounted at /content/drive\n"
          ]
        }
      ]
    },
    {
      "cell_type": "code",
      "source": [
        "import pandas as pd\n",
        "train = pd.read_csv('/content/drive/MyDrive/signate/mufj/Input/train.csv')\n",
        "test = pd.read_csv('/content/drive/MyDrive/signate/mufj/Input/test.csv')"
      ],
      "metadata": {
        "id": "YH9VOIar79mn"
      },
      "execution_count": null,
      "outputs": []
    },
    {
      "cell_type": "code",
      "source": [
        "print(train.isnull().value_counts())\n",
        "print('---------------------------------------------------------')\n",
        "print(test.isnull().value_counts())\n",
        "# 欠損値がないことを確認"
      ],
      "metadata": {
        "colab": {
          "base_uri": "https://localhost:8080/"
        },
        "id": "IvRpYi9MFAZq",
        "outputId": "4d2269a8-8048-4849-8b58-81463e7e7848"
      },
      "execution_count": null,
      "outputs": [
        {
          "output_type": "stream",
          "name": "stdout",
          "text": [
            "id     goal   country  duration  category1  category2  html_content  state\n",
            "False  False  False    False     False      False      False         False    9791\n",
            "dtype: int64\n",
            "---------------------------------------------------------\n",
            "id     goal   country  duration  category1  category2  html_content\n",
            "False  False  False    False     False      False      False           9800\n",
            "dtype: int64\n"
          ]
        }
      ]
    },
    {
      "cell_type": "code",
      "source": [
        "train.head()"
      ],
      "metadata": {
        "colab": {
          "base_uri": "https://localhost:8080/",
          "height": 206
        },
        "id": "WXfi_0bybfk4",
        "outputId": "52abbcaf-749f-412f-ab7a-bb3c010ca359"
      },
      "execution_count": null,
      "outputs": [
        {
          "output_type": "execute_result",
          "data": {
            "text/plain": [
              "            id         goal country  duration     category1        category2  \\\n",
              "0  train_00000  20001-21000      US        45           art      mixed media   \n",
              "1  train_00001  19001-20000      US        59          food      restaurants   \n",
              "2  train_00002    2001-3000      US        38           art  performance art   \n",
              "3  train_00003    1001-2000      US        30           art      mixed media   \n",
              "4  train_00004    1001-2000      US        29  film & video        webseries   \n",
              "\n",
              "                                        html_content  state  \n",
              "0  <div class=\"contents\"><div><p><a href=\"http://...      1  \n",
              "1  <div class=\"contents\"><div><p>Cultural Pretzel...      0  \n",
              "2  <div class=\"contents\"><div><p>I want to perfor...      0  \n",
              "3  <div class=\"contents\"><div><div class=\"templat...      1  \n",
              "4  <div class=\"contents\"><div><p>The story of the...      1  "
            ],
            "text/html": [
              "\n",
              "  <div id=\"df-443b950b-6416-43bd-89cc-395c98696888\">\n",
              "    <div class=\"colab-df-container\">\n",
              "      <div>\n",
              "<style scoped>\n",
              "    .dataframe tbody tr th:only-of-type {\n",
              "        vertical-align: middle;\n",
              "    }\n",
              "\n",
              "    .dataframe tbody tr th {\n",
              "        vertical-align: top;\n",
              "    }\n",
              "\n",
              "    .dataframe thead th {\n",
              "        text-align: right;\n",
              "    }\n",
              "</style>\n",
              "<table border=\"1\" class=\"dataframe\">\n",
              "  <thead>\n",
              "    <tr style=\"text-align: right;\">\n",
              "      <th></th>\n",
              "      <th>id</th>\n",
              "      <th>goal</th>\n",
              "      <th>country</th>\n",
              "      <th>duration</th>\n",
              "      <th>category1</th>\n",
              "      <th>category2</th>\n",
              "      <th>html_content</th>\n",
              "      <th>state</th>\n",
              "    </tr>\n",
              "  </thead>\n",
              "  <tbody>\n",
              "    <tr>\n",
              "      <th>0</th>\n",
              "      <td>train_00000</td>\n",
              "      <td>20001-21000</td>\n",
              "      <td>US</td>\n",
              "      <td>45</td>\n",
              "      <td>art</td>\n",
              "      <td>mixed media</td>\n",
              "      <td>&lt;div class=\"contents\"&gt;&lt;div&gt;&lt;p&gt;&lt;a href=\"http://...</td>\n",
              "      <td>1</td>\n",
              "    </tr>\n",
              "    <tr>\n",
              "      <th>1</th>\n",
              "      <td>train_00001</td>\n",
              "      <td>19001-20000</td>\n",
              "      <td>US</td>\n",
              "      <td>59</td>\n",
              "      <td>food</td>\n",
              "      <td>restaurants</td>\n",
              "      <td>&lt;div class=\"contents\"&gt;&lt;div&gt;&lt;p&gt;Cultural Pretzel...</td>\n",
              "      <td>0</td>\n",
              "    </tr>\n",
              "    <tr>\n",
              "      <th>2</th>\n",
              "      <td>train_00002</td>\n",
              "      <td>2001-3000</td>\n",
              "      <td>US</td>\n",
              "      <td>38</td>\n",
              "      <td>art</td>\n",
              "      <td>performance art</td>\n",
              "      <td>&lt;div class=\"contents\"&gt;&lt;div&gt;&lt;p&gt;I want to perfor...</td>\n",
              "      <td>0</td>\n",
              "    </tr>\n",
              "    <tr>\n",
              "      <th>3</th>\n",
              "      <td>train_00003</td>\n",
              "      <td>1001-2000</td>\n",
              "      <td>US</td>\n",
              "      <td>30</td>\n",
              "      <td>art</td>\n",
              "      <td>mixed media</td>\n",
              "      <td>&lt;div class=\"contents\"&gt;&lt;div&gt;&lt;div class=\"templat...</td>\n",
              "      <td>1</td>\n",
              "    </tr>\n",
              "    <tr>\n",
              "      <th>4</th>\n",
              "      <td>train_00004</td>\n",
              "      <td>1001-2000</td>\n",
              "      <td>US</td>\n",
              "      <td>29</td>\n",
              "      <td>film &amp; video</td>\n",
              "      <td>webseries</td>\n",
              "      <td>&lt;div class=\"contents\"&gt;&lt;div&gt;&lt;p&gt;The story of the...</td>\n",
              "      <td>1</td>\n",
              "    </tr>\n",
              "  </tbody>\n",
              "</table>\n",
              "</div>\n",
              "      <button class=\"colab-df-convert\" onclick=\"convertToInteractive('df-443b950b-6416-43bd-89cc-395c98696888')\"\n",
              "              title=\"Convert this dataframe to an interactive table.\"\n",
              "              style=\"display:none;\">\n",
              "        \n",
              "  <svg xmlns=\"http://www.w3.org/2000/svg\" height=\"24px\"viewBox=\"0 0 24 24\"\n",
              "       width=\"24px\">\n",
              "    <path d=\"M0 0h24v24H0V0z\" fill=\"none\"/>\n",
              "    <path d=\"M18.56 5.44l.94 2.06.94-2.06 2.06-.94-2.06-.94-.94-2.06-.94 2.06-2.06.94zm-11 1L8.5 8.5l.94-2.06 2.06-.94-2.06-.94L8.5 2.5l-.94 2.06-2.06.94zm10 10l.94 2.06.94-2.06 2.06-.94-2.06-.94-.94-2.06-.94 2.06-2.06.94z\"/><path d=\"M17.41 7.96l-1.37-1.37c-.4-.4-.92-.59-1.43-.59-.52 0-1.04.2-1.43.59L10.3 9.45l-7.72 7.72c-.78.78-.78 2.05 0 2.83L4 21.41c.39.39.9.59 1.41.59.51 0 1.02-.2 1.41-.59l7.78-7.78 2.81-2.81c.8-.78.8-2.07 0-2.86zM5.41 20L4 18.59l7.72-7.72 1.47 1.35L5.41 20z\"/>\n",
              "  </svg>\n",
              "      </button>\n",
              "      \n",
              "  <style>\n",
              "    .colab-df-container {\n",
              "      display:flex;\n",
              "      flex-wrap:wrap;\n",
              "      gap: 12px;\n",
              "    }\n",
              "\n",
              "    .colab-df-convert {\n",
              "      background-color: #E8F0FE;\n",
              "      border: none;\n",
              "      border-radius: 50%;\n",
              "      cursor: pointer;\n",
              "      display: none;\n",
              "      fill: #1967D2;\n",
              "      height: 32px;\n",
              "      padding: 0 0 0 0;\n",
              "      width: 32px;\n",
              "    }\n",
              "\n",
              "    .colab-df-convert:hover {\n",
              "      background-color: #E2EBFA;\n",
              "      box-shadow: 0px 1px 2px rgba(60, 64, 67, 0.3), 0px 1px 3px 1px rgba(60, 64, 67, 0.15);\n",
              "      fill: #174EA6;\n",
              "    }\n",
              "\n",
              "    [theme=dark] .colab-df-convert {\n",
              "      background-color: #3B4455;\n",
              "      fill: #D2E3FC;\n",
              "    }\n",
              "\n",
              "    [theme=dark] .colab-df-convert:hover {\n",
              "      background-color: #434B5C;\n",
              "      box-shadow: 0px 1px 3px 1px rgba(0, 0, 0, 0.15);\n",
              "      filter: drop-shadow(0px 1px 2px rgba(0, 0, 0, 0.3));\n",
              "      fill: #FFFFFF;\n",
              "    }\n",
              "  </style>\n",
              "\n",
              "      <script>\n",
              "        const buttonEl =\n",
              "          document.querySelector('#df-443b950b-6416-43bd-89cc-395c98696888 button.colab-df-convert');\n",
              "        buttonEl.style.display =\n",
              "          google.colab.kernel.accessAllowed ? 'block' : 'none';\n",
              "\n",
              "        async function convertToInteractive(key) {\n",
              "          const element = document.querySelector('#df-443b950b-6416-43bd-89cc-395c98696888');\n",
              "          const dataTable =\n",
              "            await google.colab.kernel.invokeFunction('convertToInteractive',\n",
              "                                                     [key], {});\n",
              "          if (!dataTable) return;\n",
              "\n",
              "          const docLinkHtml = 'Like what you see? Visit the ' +\n",
              "            '<a target=\"_blank\" href=https://colab.research.google.com/notebooks/data_table.ipynb>data table notebook</a>'\n",
              "            + ' to learn more about interactive tables.';\n",
              "          element.innerHTML = '';\n",
              "          dataTable['output_type'] = 'display_data';\n",
              "          await google.colab.output.renderOutput(dataTable, element);\n",
              "          const docLink = document.createElement('div');\n",
              "          docLink.innerHTML = docLinkHtml;\n",
              "          element.appendChild(docLink);\n",
              "        }\n",
              "      </script>\n",
              "    </div>\n",
              "  </div>\n",
              "  "
            ]
          },
          "metadata": {},
          "execution_count": 9
        }
      ]
    },
    {
      "cell_type": "code",
      "source": [
        "from sklearn.preprocessing import LabelEncoder"
      ],
      "metadata": {
        "id": "riW8wQBeA9gg"
      },
      "execution_count": null,
      "outputs": []
    },
    {
      "cell_type": "code",
      "source": [
        "train['goal'].value_counts().plot()\n",
        "# 10個ほどの質的変数に変更できれば、one-hotエンコーディングできるのでは？"
      ],
      "metadata": {
        "colab": {
          "base_uri": "https://localhost:8080/",
          "height": 282
        },
        "id": "rMztTYBNe4O9",
        "outputId": "414e72a0-a891-47ae-8994-c9bf87cd324f"
      },
      "execution_count": null,
      "outputs": [
        {
          "output_type": "execute_result",
          "data": {
            "text/plain": [
              "<matplotlib.axes._subplots.AxesSubplot at 0x7f3cfaad1650>"
            ]
          },
          "metadata": {},
          "execution_count": 23
        },
        {
          "output_type": "display_data",
          "data": {
            "text/plain": [
              "<Figure size 432x288 with 1 Axes>"
            ],
            "image/png": "[encoded data removed]"
          },
          "metadata": {
            "needs_background": "light"
          }
        }
      ]
    },
    {
      "cell_type": "code",
      "source": [
        "train['goal'].categori"
      ],
      "metadata": {
        "id": "KYolrADRIUAG"
      },
      "execution_count": null,
      "outputs": []
    },
    {
      "cell_type": "code",
      "source": [
        "print(train[train['goal']=='17001-18000'].count())\n",
        "print(train[train['goal']=='18001-19000'].count())\n",
        "print(train[train['goal']=='19001-20000'].count())\n",
        "print(train[train['goal']=='20001-21000'].count())\n",
        "print(train[train['goal']=='21001-22000'].count())\n",
        "print(train[train['goal']=='22001-23000'].count())\n",
        "print(train[train['goal']=='39001-40000'].count())\n",
        "\n",
        "# 20001以降はまとめて良いのでは？"
      ],
      "metadata": {
        "colab": {
          "base_uri": "https://localhost:8080/"
        },
        "id": "WM6-otGBGmLo",
        "outputId": "87911d2f-095f-49ec-b06c-5f043bc85f6d"
      },
      "execution_count": null,
      "outputs": [
        {
          "output_type": "stream",
          "name": "stdout",
          "text": [
            "id              57\n",
            "goal            57\n",
            "country         57\n",
            "duration        57\n",
            "category1       57\n",
            "category2       57\n",
            "html_content    57\n",
            "state           57\n",
            "dtype: int64\n",
            "id              31\n",
            "goal            31\n",
            "country         31\n",
            "duration        31\n",
            "category1       31\n",
            "category2       31\n",
            "html_content    31\n",
            "state           31\n",
            "dtype: int64\n",
            "id              216\n",
            "goal            216\n",
            "country         216\n",
            "duration        216\n",
            "category1       216\n",
            "category2       216\n",
            "html_content    216\n",
            "state           216\n",
            "dtype: int64\n",
            "id              21\n",
            "goal            21\n",
            "country         21\n",
            "duration        21\n",
            "category1       21\n",
            "category2       21\n",
            "html_content    21\n",
            "state           21\n",
            "dtype: int64\n",
            "id              37\n",
            "goal            37\n",
            "country         37\n",
            "duration        37\n",
            "category1       37\n",
            "category2       37\n",
            "html_content    37\n",
            "state           37\n",
            "dtype: int64\n",
            "id              33\n",
            "goal            33\n",
            "country         33\n",
            "duration        33\n",
            "category1       33\n",
            "category2       33\n",
            "html_content    33\n",
            "state           33\n",
            "dtype: int64\n",
            "id              40\n",
            "goal            40\n",
            "country         40\n",
            "duration        40\n",
            "category1       40\n",
            "category2       40\n",
            "html_content    40\n",
            "state           40\n",
            "dtype: int64\n"
          ]
        }
      ]
    },
    {
      "cell_type": "code",
      "source": [],
      "metadata": {
        "colab": {
          "base_uri": "https://localhost:8080/"
        },
        "id": "rvgSp2ATg8i1",
        "outputId": "feb9d5fa-079d-4ef1-bc11-ec8dca41744d"
      },
      "execution_count": null,
      "outputs": [
        {
          "output_type": "stream",
          "name": "stdout",
          "text": [
            "1-1000         2115\n",
            "1001-2000      1150\n",
            "2001-3000       928\n",
            "4001-5000       822\n",
            "3001-4000       638\n",
            "               ... \n",
            "96001-97000       1\n",
            "68001-69000       1\n",
            "93001-94000       1\n",
            "91001-92000       1\n",
            "82001-83000       1\n",
            "Name: goal, Length: 96, dtype: int64\n"
          ]
        }
      ]
    },
    {
      "cell_type": "code",
      "source": [
        "train.drop('id')"
      ],
      "metadata": {
        "colab": {
          "base_uri": "https://localhost:8080/"
        },
        "id": "zvZJdKpLA6jZ",
        "outputId": "86646aba-b496-4d64-80d7-04f40c67fcfe"
      },
      "execution_count": null,
      "outputs": [
        {
          "output_type": "execute_result",
          "data": {
            "text/plain": [
              "9791"
            ]
          },
          "metadata": {},
          "execution_count": 11
        }
      ]
    },
    {
      "cell_type": "code",
      "source": [
        "train_x = train.drop(['id'], axis = 1)\n",
        "\n",
        "\n",
        "# goalカラムは順序尺度のため、one-hot encodingを適用\n",
        "# country,category1,2は名義尺度のため、label encodingを適用"
      ],
      "metadata": {
        "id": "vWtFlyKeKCj_"
      },
      "execution_count": null,
      "outputs": []
    },
    {
      "cell_type": "code",
      "source": [],
      "metadata": {
        "id": "NQLNDARzA9j0"
      },
      "execution_count": null,
      "outputs": []
    },
    {
      "cell_type": "code",
      "source": [],
      "metadata": {
        "id": "nIEuatAu8gnu"
      },
      "execution_count": null,
      "outputs": []
    },
    {
      "cell_type": "code",
      "source": [],
      "metadata": {
        "id": "gvDFWV6N8gqB"
      },
      "execution_count": null,
      "outputs": []
    },
    {
      "cell_type": "code",
      "source": [],
      "metadata": {
        "id": "hbFRQDBo8gr2"
      },
      "execution_count": null,
      "outputs": []
    },
    {
      "cell_type": "code",
      "source": [],
      "metadata": {
        "id": "zdaYRfr_8gvX"
      },
      "execution_count": null,
      "outputs": []
    }
  ]
}